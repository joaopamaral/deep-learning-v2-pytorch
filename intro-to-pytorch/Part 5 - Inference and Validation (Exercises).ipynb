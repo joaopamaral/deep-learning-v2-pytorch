{
  "nbformat": 4,
  "nbformat_minor": 0,
  "metadata": {
    "colab": {
      "name": "Part 5 - Inference and Validation (Exercises).ipynb",
      "version": "0.3.2",
      "provenance": [],
      "toc_visible": true,
      "include_colab_link": true
    },
    "kernelspec": {
      "name": "python3",
      "display_name": "Python 3"
    },
    "accelerator": "GPU"
  },
  "cells": [
    {
      "cell_type": "markdown",
      "metadata": {
        "id": "view-in-github",
        "colab_type": "text"
      },
      "source": [
        "<a href=\"https://colab.research.google.com/github/joaopamaral/deep-learning-v2-pytorch/blob/master/intro-to-pytorch/Part%205%20-%20Inference%20and%20Validation%20(Exercises).ipynb\" target=\"_parent\"><img src=\"https://colab.research.google.com/assets/colab-badge.svg\" alt=\"Open In Colab\"/></a>"
      ]
    },
    {
      "metadata": {
        "id": "Z6sn3phJcGJ8",
        "colab_type": "text"
      },
      "cell_type": "markdown",
      "source": [
        "# Inference and Validation\n",
        "\n",
        "Now that you have a trained network, you can use it for making predictions. This is typically called **inference**, a term borrowed from statistics. However, neural networks have a tendency to perform *too well* on the training data and aren't able to generalize to data that hasn't been seen before. This is called **overfitting** and it impairs inference performance. To test for overfitting while training, we measure the performance on data not in the training set called the **validation** set. We avoid overfitting through regularization such as dropout while monitoring the validation performance during training. In this notebook, I'll show you how to do this in PyTorch. \n",
        "\n",
        "As usual, let's start by loading the dataset through torchvision. You'll learn more about torchvision and loading data in a later part. This time we'll be taking advantage of the test set which you can get by setting `train=False` here:\n",
        "\n",
        "```python\n",
        "testset = datasets.FashionMNIST('~/.pytorch/F_MNIST_data/', download=True, train=False, transform=transform)\n",
        "```\n",
        "\n",
        "The test set contains images just like the training set. Typically you'll see 10-20% of the original dataset held out for testing and validation with the rest being used for training."
      ]
    },
    {
      "metadata": {
        "id": "kyEv3kIycLtO",
        "colab_type": "code",
        "colab": {
          "base_uri": "https://localhost:8080/",
          "height": 34
        },
        "outputId": "a86ef1af-7fe1-48ed-904b-fdb46dbefba0"
      },
      "cell_type": "code",
      "source": [
        "# http://pytorch.org/\n",
        "from os.path import exists\n",
        "from wheel.pep425tags import get_abbr_impl, get_impl_ver, get_abi_tag\n",
        "platform = '{}{}-{}'.format(get_abbr_impl(), get_impl_ver(), get_abi_tag())\n",
        "cuda_output = !ldconfig -p|grep cudart.so|sed -e 's/.*\\.\\([0-9]*\\)\\.\\([0-9]*\\)$/cu\\1\\2/'\n",
        "accelerator = cuda_output[0] if exists('/dev/nvidia0') else 'cpu'\n",
        "print('accelearator:', accelerator)\n",
        "\n",
        "!pip install -q http://download.pytorch.org/whl/{accelerator}/torch-0.4.1-{platform}-linux_x86_64.whl torchvision"
      ],
      "execution_count": 22,
      "outputs": [
        {
          "output_type": "stream",
          "text": [
            "accelearator: cu92\n"
          ],
          "name": "stdout"
        }
      ]
    },
    {
      "metadata": {
        "id": "MU5pArFMcGJ_",
        "colab_type": "code",
        "colab": {}
      },
      "cell_type": "code",
      "source": [
        "import torch\n",
        "from torchvision import datasets, transforms\n",
        "\n",
        "# Define a transform to normalize the data\n",
        "transform = transforms.Compose([transforms.ToTensor(),\n",
        "                                transforms.Normalize((0.5, 0.5, 0.5), (0.5, 0.5, 0.5))])\n",
        "# Download and load the training data\n",
        "trainset = datasets.FashionMNIST('~/.pytorch/F_MNIST_data/', download=True, train=True, transform=transform)\n",
        "trainloader = torch.utils.data.DataLoader(trainset, batch_size=64, shuffle=True)\n",
        "\n",
        "# Download and load the test data\n",
        "testset = datasets.FashionMNIST('~/.pytorch/F_MNIST_data/', download=True, train=False, transform=transform)\n",
        "testloader = torch.utils.data.DataLoader(testset, batch_size=64, shuffle=True)"
      ],
      "execution_count": 0,
      "outputs": []
    },
    {
      "metadata": {
        "id": "T4cHteSRcGKD",
        "colab_type": "text"
      },
      "cell_type": "markdown",
      "source": [
        "Here I'll create a model like normal, using the same one from my solution for part 4."
      ]
    },
    {
      "metadata": {
        "id": "35FGPgblcGKF",
        "colab_type": "code",
        "colab": {}
      },
      "cell_type": "code",
      "source": [
        "from torch import nn, optim\n",
        "import torch.nn.functional as F\n",
        "\n",
        "class Classifier(nn.Module):\n",
        "    def __init__(self):\n",
        "        super().__init__()\n",
        "        self.fc1 = nn.Linear(784, 256)\n",
        "        self.fc2 = nn.Linear(256, 128)\n",
        "        self.fc3 = nn.Linear(128, 64)\n",
        "        self.fc4 = nn.Linear(64, 10)\n",
        "        \n",
        "    def forward(self, x):\n",
        "        # make sure input tensor is flattened\n",
        "        x = x.view(x.shape[0], -1)\n",
        "        \n",
        "        x = F.relu(self.fc1(x))\n",
        "        x = F.relu(self.fc2(x))\n",
        "        x = F.relu(self.fc3(x))\n",
        "        x = F.log_softmax(self.fc4(x), dim=1)\n",
        "        \n",
        "        return x"
      ],
      "execution_count": 0,
      "outputs": []
    },
    {
      "metadata": {
        "id": "0xbhVY0UcGKK",
        "colab_type": "text"
      },
      "cell_type": "markdown",
      "source": [
        "The goal of validation is to measure the model's performance on data that isn't part of the training set. Performance here is up to the developer to define though. Typically this is just accuracy, the percentage of classes the network predicted correctly. Other options are [precision and recall](https://en.wikipedia.org/wiki/Precision_and_recall#Definition_(classification_context)) and top-5 error rate. We'll focus on accuracy here. First I'll do a forward pass with one batch from the test set."
      ]
    },
    {
      "metadata": {
        "id": "hxiais2pcGKL",
        "colab_type": "code",
        "colab": {
          "base_uri": "https://localhost:8080/",
          "height": 34
        },
        "outputId": "ac98b09e-eab2-47f5-cb93-4ba642d97de9"
      },
      "cell_type": "code",
      "source": [
        "model = Classifier()\n",
        "\n",
        "images, labels = next(iter(testloader))\n",
        "# Get the class probabilities\n",
        "ps = torch.exp(model(images))\n",
        "# Make sure the shape is appropriate, we should get 10 class probabilities for 64 examples\n",
        "print(ps.shape)"
      ],
      "execution_count": 25,
      "outputs": [
        {
          "output_type": "stream",
          "text": [
            "torch.Size([64, 10])\n"
          ],
          "name": "stdout"
        }
      ]
    },
    {
      "metadata": {
        "id": "2LqzlWPscGKU",
        "colab_type": "text"
      },
      "cell_type": "markdown",
      "source": [
        "With the probabilities, we can get the most likely class using the `ps.topk` method. This returns the $k$ highest values. Since we just want the most likely class, we can use `ps.topk(1)`. This returns a tuple of the top-$k$ values and the top-$k$ indices. If the highest value is the fifth element, we'll get back 4 as the index."
      ]
    },
    {
      "metadata": {
        "id": "te4bWycRcGKV",
        "colab_type": "code",
        "colab": {
          "base_uri": "https://localhost:8080/",
          "height": 187
        },
        "outputId": "80a60614-0cf5-46a2-8c40-16754ceeed18"
      },
      "cell_type": "code",
      "source": [
        "top_p, top_class = ps.topk(1, dim=1)\n",
        "# Look at the most likely classes for the first 10 examples\n",
        "print(top_class[:10,:])"
      ],
      "execution_count": 26,
      "outputs": [
        {
          "output_type": "stream",
          "text": [
            "tensor([[6],\n",
            "        [6],\n",
            "        [8],\n",
            "        [8],\n",
            "        [6],\n",
            "        [6],\n",
            "        [8],\n",
            "        [8],\n",
            "        [8],\n",
            "        [8]])\n"
          ],
          "name": "stdout"
        }
      ]
    },
    {
      "metadata": {
        "id": "UCif7ItrcGKe",
        "colab_type": "text"
      },
      "cell_type": "markdown",
      "source": [
        "Now we can check if the predicted classes match the labels. This is simple to do by equating `top_class` and `labels`, but we have to be careful of the shapes. Here `top_class` is a 2D tensor with shape `(64, 1)` while `labels` is 1D with shape `(64)`. To get the equality to work out the way we want, `top_class` and `labels` must have the same shape.\n",
        "\n",
        "If we do\n",
        "\n",
        "```python\n",
        "equals = top_class == labels\n",
        "```\n",
        "\n",
        "`equals` will have shape `(64, 64)`, try it yourself. What it's doing is comparing the one element in each row of `top_class` with each element in `labels` which returns 64 True/False boolean values for each row."
      ]
    },
    {
      "metadata": {
        "id": "IZgmP4v2cGKg",
        "colab_type": "code",
        "colab": {}
      },
      "cell_type": "code",
      "source": [
        "equals = top_class == labels.view(*top_class.shape)"
      ],
      "execution_count": 0,
      "outputs": []
    },
    {
      "metadata": {
        "id": "Rj997_njcGKn",
        "colab_type": "text"
      },
      "cell_type": "markdown",
      "source": [
        "Now we need to calculate the percentage of correct predictions. `equals` has binary values, either 0 or 1. This means that if we just sum up all the values and divide by the number of values, we get the percentage of correct predictions. This is the same operation as taking the mean, so we can get the accuracy with a call to `torch.mean`. If only it was that simple. If you try `torch.mean(equals)`, you'll get an error\n",
        "\n",
        "```\n",
        "RuntimeError: mean is not implemented for type torch.ByteTensor\n",
        "```\n",
        "\n",
        "This happens because `equals` has type `torch.ByteTensor` but `torch.mean` isn't implement for tensors with that type. So we'll need to convert `equals` to a float tensor. Note that when we take `torch.mean` it returns a scalar tensor, to get the actual value as a float we'll need to do `accuracy.item()`."
      ]
    },
    {
      "metadata": {
        "id": "1UNAzunlcGKo",
        "colab_type": "code",
        "colab": {
          "base_uri": "https://localhost:8080/",
          "height": 34
        },
        "outputId": "9c57d7e4-7e4b-412d-9c68-6ace8fb48870"
      },
      "cell_type": "code",
      "source": [
        "accuracy = torch.mean(equals.type(torch.FloatTensor))\n",
        "print(f'Accuracy: {accuracy.item()*100}%')"
      ],
      "execution_count": 28,
      "outputs": [
        {
          "output_type": "stream",
          "text": [
            "Accuracy: 12.5%\n"
          ],
          "name": "stdout"
        }
      ]
    },
    {
      "metadata": {
        "id": "RT_LxY6ocGKv",
        "colab_type": "text"
      },
      "cell_type": "markdown",
      "source": [
        "The network is untrained so it's making random guesses and we should see an accuracy around 10%. Now let's train our network and include our validation pass so we can measure how well the network is performing on the test set. Since we're not updating our parameters in the validation pass, we can speed up our code by turning off gradients using `torch.no_grad()`:\n",
        "\n",
        "```python\n",
        "# turn off gradients\n",
        "with torch.no_grad():\n",
        "    # validation pass here\n",
        "    for images, labels in testloader:\n",
        "        ...\n",
        "```\n",
        "\n",
        ">**Exercise:** Implement the validation loop below and print out the total accuracy after the loop. You can largely copy and paste the code from above, but I suggest typing it in because writing it out yourself is essential for building the skill. In general you'll always learn more by typing it rather than copy-pasting. You should be able to get an accuracy above 80%."
      ]
    },
    {
      "metadata": {
        "id": "7US6uEABcGKw",
        "colab_type": "code",
        "colab": {
          "base_uri": "https://localhost:8080/",
          "height": 2057
        },
        "outputId": "4e189a8f-287e-4bb3-e20c-f4a9cebcee9f"
      },
      "cell_type": "code",
      "source": [
        "model = Classifier()\n",
        "model.cuda()\n",
        "criterion = nn.NLLLoss()\n",
        "optimizer = optim.Adam(model.parameters(), lr=0.003)\n",
        "\n",
        "epochs = 30\n",
        "steps = 0\n",
        "\n",
        "train_losses, test_losses = [], []\n",
        "for e in range(epochs):\n",
        "    running_loss = 0\n",
        "    for images, labels in trainloader:\n",
        "        images, labels = images.cuda(), labels.cuda()\n",
        "        \n",
        "        optimizer.zero_grad()\n",
        "        \n",
        "        log_ps = model(images)\n",
        "        loss = criterion(log_ps, labels)\n",
        "        loss.backward()\n",
        "        optimizer.step()\n",
        "        \n",
        "        running_loss += loss.item()\n",
        "        \n",
        "    else:\n",
        "        test_loss = 0\n",
        "        accuracy = 0\n",
        "        \n",
        "        ## TODO: Implement the validation pass and print out the validation accuracy\n",
        "        # turn off gradients\n",
        "        with torch.no_grad():\n",
        "            # validation pass here\n",
        "            for images_test, labels_test in testloader:\n",
        "                images_test, labels_test = images_test.cuda(), labels_test.cuda()\n",
        "                log_ps = model(images_test)\n",
        "                test_loss += criterion(log_ps, labels_test)\n",
        "\n",
        "                ps = torch.exp(log_ps)\n",
        "                top_p, top_class = ps.topk(1, dim=1)\n",
        "                equals = top_class == labels_test.view(*top_class.shape)\n",
        "                accuracy += torch.mean(equals.type(torch.FloatTensor))\n",
        "\n",
        "        print(f'Epoch: {e}')              \n",
        "        print(f'\\tAccuracy: {accuracy/len(testloader)*100}%')        \n",
        "        print(f'\\tTest Loss: {test_loss/len(testloader)}')\n",
        "        print(f'\\tTraining Loss: {running_loss/len(trainloader)}')"
      ],
      "execution_count": 29,
      "outputs": [
        {
          "output_type": "stream",
          "text": [
            "Epoch: 0\n",
            "\tAccuracy: 83.85748291015625%\n",
            "\tTest Loss: 0.43612492084503174\n",
            "\tTraining Loss: 0.5153705084215857\n",
            "Epoch: 1\n",
            "\tAccuracy: 83.40962982177734%\n",
            "\tTest Loss: 0.4570072889328003\n",
            "\tTraining Loss: 0.3942279400570052\n",
            "Epoch: 2\n",
            "\tAccuracy: 85.88773345947266%\n",
            "\tTest Loss: 0.39832162857055664\n",
            "\tTraining Loss: 0.355982945147735\n",
            "Epoch: 3\n",
            "\tAccuracy: 86.8829574584961%\n",
            "\tTest Loss: 0.3733690679073334\n",
            "\tTraining Loss: 0.33559985480297094\n",
            "Epoch: 4\n",
            "\tAccuracy: 86.77348327636719%\n",
            "\tTest Loss: 0.3736749291419983\n",
            "\tTraining Loss: 0.31497718885477416\n",
            "Epoch: 5\n",
            "\tAccuracy: 87.15167236328125%\n",
            "\tTest Loss: 0.3654709756374359\n",
            "\tTraining Loss: 0.30351043234406505\n",
            "Epoch: 6\n",
            "\tAccuracy: 86.87300872802734%\n",
            "\tTest Loss: 0.3770296275615692\n",
            "\tTraining Loss: 0.29258896673380186\n",
            "Epoch: 7\n",
            "\tAccuracy: 86.15644836425781%\n",
            "\tTest Loss: 0.3731451630592346\n",
            "\tTraining Loss: 0.28266021996132856\n",
            "Epoch: 8\n",
            "\tAccuracy: 85.98726654052734%\n",
            "\tTest Loss: 0.4178219139575958\n",
            "\tTraining Loss: 0.27822528411743486\n",
            "Epoch: 9\n",
            "\tAccuracy: 87.74880981445312%\n",
            "\tTest Loss: 0.3570924699306488\n",
            "\tTraining Loss: 0.2683267233126771\n",
            "Epoch: 10\n",
            "\tAccuracy: 87.95780181884766%\n",
            "\tTest Loss: 0.3692612946033478\n",
            "\tTraining Loss: 0.2635627388080427\n",
            "Epoch: 11\n",
            "\tAccuracy: 87.00238800048828%\n",
            "\tTest Loss: 0.38876813650131226\n",
            "\tTraining Loss: 0.25426335442167863\n",
            "Epoch: 12\n",
            "\tAccuracy: 87.32086181640625%\n",
            "\tTest Loss: 0.3847024440765381\n",
            "\tTraining Loss: 0.247826502815302\n",
            "Epoch: 13\n",
            "\tAccuracy: 87.59952545166016%\n",
            "\tTest Loss: 0.3768831491470337\n",
            "\tTraining Loss: 0.24600143537624306\n",
            "Epoch: 14\n",
            "\tAccuracy: 87.74880981445312%\n",
            "\tTest Loss: 0.3585379719734192\n",
            "\tTraining Loss: 0.2427988541620309\n",
            "Epoch: 15\n",
            "\tAccuracy: 87.9677505493164%\n",
            "\tTest Loss: 0.37854039669036865\n",
            "\tTraining Loss: 0.23415811951639556\n",
            "Epoch: 16\n",
            "\tAccuracy: 88.57483673095703%\n",
            "\tTest Loss: 0.3766189217567444\n",
            "\tTraining Loss: 0.2309709499194932\n",
            "Epoch: 17\n",
            "\tAccuracy: 88.10708618164062%\n",
            "\tTest Loss: 0.36722299456596375\n",
            "\tTraining Loss: 0.22339738842282594\n",
            "Epoch: 18\n",
            "\tAccuracy: 87.81847381591797%\n",
            "\tTest Loss: 0.37299326062202454\n",
            "\tTraining Loss: 0.22454577633169795\n",
            "Epoch: 19\n",
            "\tAccuracy: 87.84832763671875%\n",
            "\tTest Loss: 0.388403981924057\n",
            "\tTraining Loss: 0.21497113693322836\n",
            "Epoch: 20\n",
            "\tAccuracy: 88.46537017822266%\n",
            "\tTest Loss: 0.39890575408935547\n",
            "\tTraining Loss: 0.21460687749183127\n",
            "Epoch: 21\n",
            "\tAccuracy: 88.4753189086914%\n",
            "\tTest Loss: 0.38029831647872925\n",
            "\tTraining Loss: 0.21004519714062403\n",
            "Epoch: 22\n",
            "\tAccuracy: 88.40564727783203%\n",
            "\tTest Loss: 0.3793707489967346\n",
            "\tTraining Loss: 0.20891518325709713\n",
            "Epoch: 23\n",
            "\tAccuracy: 88.38574981689453%\n",
            "\tTest Loss: 0.4016319513320923\n",
            "\tTraining Loss: 0.20149501936951045\n",
            "Epoch: 24\n",
            "\tAccuracy: 88.67436218261719%\n",
            "\tTest Loss: 0.3752968907356262\n",
            "\tTraining Loss: 0.20342483315894852\n",
            "Epoch: 25\n",
            "\tAccuracy: 88.12699127197266%\n",
            "\tTest Loss: 0.3964776396751404\n",
            "\tTraining Loss: 0.1982387785535695\n",
            "Epoch: 26\n",
            "\tAccuracy: 88.2563705444336%\n",
            "\tTest Loss: 0.4309903383255005\n",
            "\tTraining Loss: 0.1967975390848638\n",
            "Epoch: 27\n",
            "\tAccuracy: 88.62460327148438%\n",
            "\tTest Loss: 0.3972521424293518\n",
            "\tTraining Loss: 0.19623463173140723\n",
            "Epoch: 28\n",
            "\tAccuracy: 88.1369400024414%\n",
            "\tTest Loss: 0.4169557988643646\n",
            "\tTraining Loss: 0.18837528225820838\n",
            "Epoch: 29\n",
            "\tAccuracy: 88.67436218261719%\n",
            "\tTest Loss: 0.39793553948402405\n",
            "\tTraining Loss: 0.18229312606171758\n"
          ],
          "name": "stdout"
        }
      ]
    },
    {
      "metadata": {
        "id": "KvAgvo1ycGK0",
        "colab_type": "text"
      },
      "cell_type": "markdown",
      "source": [
        "## Overfitting\n",
        "\n",
        "If we look at the training and validation losses as we train the network, we can see a phenomenon known as overfitting.\n",
        "\n",
        "<img src='https://github.com/joaopamaral/deep-learning-v2-pytorch/blob/master/intro-to-pytorch/assets/overfitting.png?raw=1' width=450px>\n",
        "\n",
        "The network learns the training set better and better, resulting in lower training losses. However, it starts having problems generalizing to data outside the training set leading to the validation loss increasing. The ultimate goal of any deep learning model is to make predictions on new data, so we should strive to get the lowest validation loss possible. One option is to use the version of the model with the lowest validation loss, here the one around 8-10 training epochs. This strategy is called *early-stopping*. In practice, you'd save the model frequently as you're training then later choose the model with the lowest validation loss.\n",
        "\n",
        "The most common method to reduce overfitting (outside of early-stopping) is *dropout*, where we randomly drop input units. This forces the network to share information between weights, increasing it's ability to generalize to new data. Adding dropout in PyTorch is straightforward using the [`nn.Dropout`](https://pytorch.org/docs/stable/nn.html#torch.nn.Dropout) module.\n",
        "\n",
        "```python\n",
        "class Classifier(nn.Module):\n",
        "    def __init__(self):\n",
        "        super().__init__()\n",
        "        self.fc1 = nn.Linear(784, 256)\n",
        "        self.fc2 = nn.Linear(256, 128)\n",
        "        self.fc3 = nn.Linear(128, 64)\n",
        "        self.fc4 = nn.Linear(64, 10)\n",
        "        \n",
        "        # Dropout module with 0.2 drop probability\n",
        "        self.dropout = nn.Dropout(p=0.2)\n",
        "        \n",
        "    def forward(self, x):\n",
        "        # make sure input tensor is flattened\n",
        "        x = x.view(x.shape[0], -1)\n",
        "        \n",
        "        # Now with dropout\n",
        "        x = self.dropout(F.relu(self.fc1(x)))\n",
        "        x = self.dropout(F.relu(self.fc2(x)))\n",
        "        x = self.dropout(F.relu(self.fc3(x)))\n",
        "        \n",
        "        # output so no dropout here\n",
        "        x = F.log_softmax(self.fc4(x), dim=1)\n",
        "        \n",
        "        return x\n",
        "```\n",
        "\n",
        "During training we want to use dropout to prevent overfitting, but during inference we want to use the entire network. So, we need to turn off dropout during validation, testing, and whenever we're using the network to make predictions. To do this, you use `model.eval()`. This sets the model to evaluation mode where the dropout probability is 0. You can turn dropout back on by setting the model to train mode with `model.train()`. In general, the pattern for the validation loop will look like this, where you turn off gradients, set the model to evaluation mode, calculate the validation loss and metric, then set the model back to train mode.\n",
        "\n",
        "```python\n",
        "# turn off gradients\n",
        "with torch.no_grad():\n",
        "    \n",
        "    # set model to evaluation mode\n",
        "    model.eval()\n",
        "    \n",
        "    # validation pass here\n",
        "    for images, labels in testloader:\n",
        "        ...\n",
        "\n",
        "# set model back to train mode\n",
        "model.train()\n",
        "```"
      ]
    },
    {
      "metadata": {
        "id": "A0q6zqescGK2",
        "colab_type": "text"
      },
      "cell_type": "markdown",
      "source": [
        "> **Exercise:** Add dropout to your model and train it on Fashion-MNIST again. See if you can get a lower validation loss or higher accuracy."
      ]
    },
    {
      "metadata": {
        "id": "f65faz3TcGK3",
        "colab_type": "code",
        "colab": {}
      },
      "cell_type": "code",
      "source": [
        "## TODO: Define your model with dropout added\n",
        "class Classifier(nn.Module):\n",
        "    def __init__(self):\n",
        "        super().__init__()\n",
        "        self.fc1 = nn.Linear(784, 256)\n",
        "        self.fc2 = nn.Linear(256, 128)\n",
        "        self.fc3 = nn.Linear(128, 64)\n",
        "        self.fc4 = nn.Linear(64, 10)\n",
        "\n",
        "        # Dropout module with 0.2 drop probability\n",
        "        self.dropout = nn.Dropout(p=0.2)\n",
        "\n",
        "    def forward(self, x):\n",
        "        # make sure input tensor is flattened\n",
        "        x = x.view(x.shape[0], -1)\n",
        "\n",
        "        # Now with dropout\n",
        "        x = self.dropout(F.relu(self.fc1(x)))\n",
        "        x = self.dropout(F.relu(self.fc2(x)))\n",
        "        x = self.dropout(F.relu(self.fc3(x)))\n",
        "\n",
        "        # output so no dropout here\n",
        "        x = F.log_softmax(self.fc4(x), dim=1)\n",
        "\n",
        "        return x"
      ],
      "execution_count": 0,
      "outputs": []
    },
    {
      "metadata": {
        "id": "_9ZUHrz4cGK8",
        "colab_type": "code",
        "colab": {
          "base_uri": "https://localhost:8080/",
          "height": 2057
        },
        "outputId": "e65c943d-fb13-445d-b42b-3caef8fffe2c"
      },
      "cell_type": "code",
      "source": [
        "## TODO: Train your model with dropout, and monitor the training progress with the validation loss and accuracy\n",
        "model = Classifier()\n",
        "model.cuda()\n",
        "criterion = nn.NLLLoss()\n",
        "optimizer = optim.Adam(model.parameters(), lr=0.003)\n",
        "\n",
        "epochs = 30\n",
        "steps = 0\n",
        "\n",
        "train_losses, test_losses = [], []\n",
        "for e in range(epochs):\n",
        "    running_loss = 0\n",
        "    for images, labels in trainloader:\n",
        "        images, labels = images.cuda(), labels.cuda()\n",
        "        \n",
        "        optimizer.zero_grad()\n",
        "        \n",
        "        log_ps = model(images)\n",
        "        loss = criterion(log_ps, labels)\n",
        "        loss.backward()\n",
        "        optimizer.step()\n",
        "        \n",
        "        running_loss += loss.item()\n",
        "        \n",
        "    else:\n",
        "        test_loss = 0\n",
        "        accuracy = 0\n",
        "        \n",
        "        ## TODO: Implement the validation pass and print out the validation accuracy\n",
        "        # turn off gradients\n",
        "        with torch.no_grad():\n",
        "            # set model to evaluation mode\n",
        "            model.eval()\n",
        "            \n",
        "            # validation pass here\n",
        "            for images_test, labels_test in testloader:\n",
        "                images_test, labels_test = images_test.cuda(), labels_test.cuda()\n",
        "                log_ps = model(images_test)\n",
        "                test_loss += criterion(log_ps, labels_test)\n",
        "\n",
        "                ps = torch.exp(log_ps)\n",
        "                top_p, top_class = ps.topk(1, dim=1)\n",
        "                equals = top_class == labels_test.view(*top_class.shape)\n",
        "                accuracy += torch.mean(equals.type(torch.FloatTensor))\n",
        "        \n",
        "        # set model back to train mode\n",
        "        model.train()\n",
        "\n",
        "        print(f'Epoch: {e}')              \n",
        "        print(f'\\tAccuracy: {accuracy/len(testloader)*100}%')        \n",
        "        print(f'\\tTest Loss: {test_loss/len(testloader)}')\n",
        "        print(f'\\tTraining Loss: {running_loss/len(trainloader)}')"
      ],
      "execution_count": 31,
      "outputs": [
        {
          "output_type": "stream",
          "text": [
            "Epoch: 0\n",
            "\tAccuracy: 82.78264617919922%\n",
            "\tTest Loss: 0.4736391305923462\n",
            "\tTraining Loss: 0.6135939573650675\n",
            "Epoch: 1\n",
            "\tAccuracy: 83.41958618164062%\n",
            "\tTest Loss: 0.46026524901390076\n",
            "\tTraining Loss: 0.48677007814269585\n",
            "Epoch: 2\n",
            "\tAccuracy: 84.0167236328125%\n",
            "\tTest Loss: 0.4404110312461853\n",
            "\tTraining Loss: 0.4550590721179427\n",
            "Epoch: 3\n",
            "\tAccuracy: 84.7332763671875%\n",
            "\tTest Loss: 0.42650994658470154\n",
            "\tTraining Loss: 0.4359040067139973\n",
            "Epoch: 4\n",
            "\tAccuracy: 85.02189636230469%\n",
            "\tTest Loss: 0.4202146530151367\n",
            "\tTraining Loss: 0.42380264801765555\n",
            "Epoch: 5\n",
            "\tAccuracy: 85.14131927490234%\n",
            "\tTest Loss: 0.40961530804634094\n",
            "\tTraining Loss: 0.41891594123103215\n",
            "Epoch: 6\n",
            "\tAccuracy: 86.106689453125%\n",
            "\tTest Loss: 0.4010538160800934\n",
            "\tTraining Loss: 0.4099309740385521\n",
            "Epoch: 7\n",
            "\tAccuracy: 85.39012908935547%\n",
            "\tTest Loss: 0.4323880672454834\n",
            "\tTraining Loss: 0.40034325651204916\n",
            "Epoch: 8\n",
            "\tAccuracy: 86.5246810913086%\n",
            "\tTest Loss: 0.38648420572280884\n",
            "\tTraining Loss: 0.3939752296280505\n",
            "Epoch: 9\n",
            "\tAccuracy: 86.03702545166016%\n",
            "\tTest Loss: 0.39194491505622864\n",
            "\tTraining Loss: 0.3924131572468957\n",
            "Epoch: 10\n",
            "\tAccuracy: 85.71855163574219%\n",
            "\tTest Loss: 0.394938200712204\n",
            "\tTraining Loss: 0.39128217123337644\n",
            "Epoch: 11\n",
            "\tAccuracy: 87.3109130859375%\n",
            "\tTest Loss: 0.3803768455982208\n",
            "\tTraining Loss: 0.3857793053234818\n",
            "Epoch: 12\n",
            "\tAccuracy: 86.98248291015625%\n",
            "\tTest Loss: 0.37408557534217834\n",
            "\tTraining Loss: 0.3789673124009104\n",
            "Epoch: 13\n",
            "\tAccuracy: 86.66401672363281%\n",
            "\tTest Loss: 0.38034775853157043\n",
            "\tTraining Loss: 0.3746909876463256\n",
            "Epoch: 14\n",
            "\tAccuracy: 86.8829574584961%\n",
            "\tTest Loss: 0.38202783465385437\n",
            "\tTraining Loss: 0.37290758572852434\n",
            "Epoch: 15\n",
            "\tAccuracy: 86.85310363769531%\n",
            "\tTest Loss: 0.3816758096218109\n",
            "\tTraining Loss: 0.3709919116835096\n",
            "Epoch: 16\n",
            "\tAccuracy: 86.90287017822266%\n",
            "\tTest Loss: 0.37589964270591736\n",
            "\tTraining Loss: 0.3651060749854106\n",
            "Epoch: 17\n",
            "\tAccuracy: 86.56449127197266%\n",
            "\tTest Loss: 0.399455189704895\n",
            "\tTraining Loss: 0.3618379992557995\n",
            "Epoch: 18\n",
            "\tAccuracy: 87.18152618408203%\n",
            "\tTest Loss: 0.37620043754577637\n",
            "\tTraining Loss: 0.35753393928601795\n",
            "Epoch: 19\n",
            "\tAccuracy: 86.87300872802734%\n",
            "\tTest Loss: 0.3839259743690491\n",
            "\tTraining Loss: 0.355835895516725\n",
            "Epoch: 20\n",
            "\tAccuracy: 86.73368072509766%\n",
            "\tTest Loss: 0.39154499769210815\n",
            "\tTraining Loss: 0.365315112009295\n",
            "Epoch: 21\n",
            "\tAccuracy: 87.2213363647461%\n",
            "\tTest Loss: 0.3820427358150482\n",
            "\tTraining Loss: 0.36144351179221035\n",
            "Epoch: 22\n",
            "\tAccuracy: 87.12181091308594%\n",
            "\tTest Loss: 0.3711560368537903\n",
            "\tTraining Loss: 0.35403815950793244\n",
            "Epoch: 23\n",
            "\tAccuracy: 87.5%\n",
            "\tTest Loss: 0.36341431736946106\n",
            "\tTraining Loss: 0.3518611172051318\n",
            "Epoch: 24\n",
            "\tAccuracy: 87.330810546875%\n",
            "\tTest Loss: 0.3859197497367859\n",
            "\tTraining Loss: 0.350451847780615\n",
            "Epoch: 25\n",
            "\tAccuracy: 87.28105163574219%\n",
            "\tTest Loss: 0.37510278820991516\n",
            "\tTraining Loss: 0.35711550691139216\n",
            "Epoch: 26\n",
            "\tAccuracy: 87.11186218261719%\n",
            "\tTest Loss: 0.3758727014064789\n",
            "\tTraining Loss: 0.35102213321845416\n",
            "Epoch: 27\n",
            "\tAccuracy: 87.02229309082031%\n",
            "\tTest Loss: 0.36978569626808167\n",
            "\tTraining Loss: 0.34877200033078826\n",
            "Epoch: 28\n",
            "\tAccuracy: 86.6938705444336%\n",
            "\tTest Loss: 0.399813711643219\n",
            "\tTraining Loss: 0.345439458404904\n",
            "Epoch: 29\n",
            "\tAccuracy: 87.57962036132812%\n",
            "\tTest Loss: 0.3740383982658386\n",
            "\tTraining Loss: 0.3453804738343016\n"
          ],
          "name": "stdout"
        }
      ]
    },
    {
      "metadata": {
        "id": "5HhdMMDccGLB",
        "colab_type": "text"
      },
      "cell_type": "markdown",
      "source": [
        "## Inference\n",
        "\n",
        "Now that the model is trained, we can use it for inference. We've done this before, but now we need to remember to set the model in inference mode with `model.eval()`. You'll also want to turn off autograd with the `torch.no_grad()` context."
      ]
    },
    {
      "metadata": {
        "id": "mIH0Q9ctcGLD",
        "colab_type": "code",
        "colab": {
          "base_uri": "https://localhost:8080/",
          "height": 221
        },
        "outputId": "3d183219-f000-4c94-fdac-088e8aa43713"
      },
      "cell_type": "code",
      "source": [
        "# Import helper module (should be in the repo)\n",
        "import helper\n",
        "\n",
        "# Test out your network!\n",
        "\n",
        "model.eval()\n",
        "\n",
        "dataiter = iter(testloader)\n",
        "images, labels = dataiter.next()\n",
        "img = images[0]\n",
        "# Convert 2D image to 1D vector\n",
        "img = img.view(1, 784)\n",
        "\n",
        "# Calculate the class probabilities (softmax) for img\n",
        "with torch.no_grad():\n",
        "    output = model.forward(img.cuda())\n",
        "\n",
        "ps = torch.exp(output)\n",
        "\n",
        "# Plot the image and probabilities\n",
        "helper.view_classify(img.cpu().view(1, 28, 28), ps.cpu(), version='Fashion')"
      ],
      "execution_count": 38,
      "outputs": [
        {
          "output_type": "display_data",
          "data": {
            "image/png": "[encoded data removed]",
            "text/plain": [
              "<matplotlib.figure.Figure at 0x7f833590a320>"
            ]
          },
          "metadata": {
            "tags": []
          }
        }
      ]
    },
    {
      "metadata": {
        "id": "K7FOGcZpcGLK",
        "colab_type": "text"
      },
      "cell_type": "markdown",
      "source": [
        "## Next Up!\n",
        "\n",
        "In the next part, I'll show you how to save your trained models. In general, you won't want to train a model everytime you need it. Instead, you'll train once, save it, then load the model when you want to train more or use if for inference."
      ]
    }
  ]
}