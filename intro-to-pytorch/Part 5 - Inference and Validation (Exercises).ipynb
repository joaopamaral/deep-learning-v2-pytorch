{
 "cells": [
  {
   "cell_type": "markdown",
   "metadata": {
    "colab_type": "text",
    "id": "view-in-github"
   },
   "source": [
    "<a href=\"https://colab.research.google.com/github/joaopamaral/deep-learning-v2-pytorch/blob/master/intro-to-pytorch/Part%205%20-%20Inference%20and%20Validation%20(Exercises).ipynb\" target=\"_parent\"><img src=\"https://colab.research.google.com/assets/colab-badge.svg\" alt=\"Open In Colab\"/></a>"
   ]
  },
  {
   "cell_type": "markdown",
   "metadata": {
    "colab_type": "text",
    "id": "Z6sn3phJcGJ8"
   },
   "source": [
    "# Inference and Validation\n",
    "\n",
    "Now that you have a trained network, you can use it for making predictions. This is typically called **inference**, a term borrowed from statistics. However, neural networks have a tendency to perform *too well* on the training data and aren't able to generalize to data that hasn't been seen before. This is called **overfitting** and it impairs inference performance. To test for overfitting while training, we measure the performance on data not in the training set called the **validation** set. We avoid overfitting through regularization such as dropout while monitoring the validation performance during training. In this notebook, I'll show you how to do this in PyTorch. \n",
    "\n",
    "As usual, let's start by loading the dataset through torchvision. You'll learn more about torchvision and loading data in a later part. This time we'll be taking advantage of the test set which you can get by setting `train=False` here:\n",
    "\n",
    "```python\n",
    "testset = datasets.FashionMNIST('~/.pytorch/F_MNIST_data/', download=True, train=False, transform=transform)\n",
    "```\n",
    "\n",
    "The test set contains images just like the training set. Typically you'll see 10-20% of the original dataset held out for testing and validation with the rest being used for training."
   ]
  },
  {
   "cell_type": "code",
   "execution_count": 2,
   "metadata": {
    "ExecuteTime": {
     "end_time": "2019-02-09T13:04:50.267733Z",
     "start_time": "2019-02-09T13:04:50.218900Z"
    },
    "colab": {},
    "colab_type": "code",
    "id": "MU5pArFMcGJ_"
   },
   "outputs": [],
   "source": [
    "import torch\n",
    "from torchvision import datasets, transforms\n",
    "\n",
    "# Define a transform to normalize the data\n",
    "transform = transforms.Compose([transforms.ToTensor(),\n",
    "                                transforms.Normalize((0.5, 0.5, 0.5), (0.5, 0.5, 0.5))])\n",
    "# Download and load the training data\n",
    "trainset = datasets.FashionMNIST('~/.pytorch/F_MNIST_data/', download=True, train=True, transform=transform)\n",
    "trainloader = torch.utils.data.DataLoader(trainset, batch_size=64, shuffle=True)\n",
    "\n",
    "# Download and load the test data\n",
    "testset = datasets.FashionMNIST('~/.pytorch/F_MNIST_data/', download=True, train=False, transform=transform)\n",
    "testloader = torch.utils.data.DataLoader(testset, batch_size=64, shuffle=True)"
   ]
  },
  {
   "cell_type": "markdown",
   "metadata": {
    "colab_type": "text",
    "id": "T4cHteSRcGKD"
   },
   "source": [
    "Here I'll create a model like normal, using the same one from my solution for part 4."
   ]
  },
  {
   "cell_type": "code",
   "execution_count": 3,
   "metadata": {
    "ExecuteTime": {
     "end_time": "2019-02-09T13:04:51.913118Z",
     "start_time": "2019-02-09T13:04:51.906136Z"
    },
    "colab": {},
    "colab_type": "code",
    "id": "35FGPgblcGKF"
   },
   "outputs": [],
   "source": [
    "from torch import nn, optim\n",
    "import torch.nn.functional as F\n",
    "\n",
    "class Classifier(nn.Module):\n",
    "    def __init__(self):\n",
    "        super().__init__()\n",
    "        self.fc1 = nn.Linear(784, 256)\n",
    "        self.fc2 = nn.Linear(256, 128)\n",
    "        self.fc3 = nn.Linear(128, 64)\n",
    "        self.fc4 = nn.Linear(64, 10)\n",
    "        \n",
    "    def forward(self, x):\n",
    "        # make sure input tensor is flattened\n",
    "        x = x.view(x.shape[0], -1)\n",
    "        \n",
    "        x = F.relu(self.fc1(x))\n",
    "        x = F.relu(self.fc2(x))\n",
    "        x = F.relu(self.fc3(x))\n",
    "        x = F.log_softmax(self.fc4(x), dim=1)\n",
    "        \n",
    "        return x"
   ]
  },
  {
   "cell_type": "markdown",
   "metadata": {
    "colab_type": "text",
    "id": "0xbhVY0UcGKK"
   },
   "source": [
    "The goal of validation is to measure the model's performance on data that isn't part of the training set. Performance here is up to the developer to define though. Typically this is just accuracy, the percentage of classes the network predicted correctly. Other options are [precision and recall](https://en.wikipedia.org/wiki/Precision_and_recall#Definition_(classification_context)) and top-5 error rate. We'll focus on accuracy here. First I'll do a forward pass with one batch from the test set."
   ]
  },
  {
   "cell_type": "code",
   "execution_count": 4,
   "metadata": {
    "ExecuteTime": {
     "end_time": "2019-02-09T13:04:55.183173Z",
     "start_time": "2019-02-09T13:04:55.157244Z"
    },
    "colab": {
     "base_uri": "https://localhost:8080/",
     "height": 34
    },
    "colab_type": "code",
    "id": "hxiais2pcGKL",
    "outputId": "ac98b09e-eab2-47f5-cb93-4ba642d97de9"
   },
   "outputs": [
    {
     "name": "stdout",
     "output_type": "stream",
     "text": [
      "torch.Size([64, 10])\n"
     ]
    }
   ],
   "source": [
    "model = Classifier()\n",
    "\n",
    "images, labels = next(iter(testloader))\n",
    "# Get the class probabilities\n",
    "ps = torch.exp(model(images))\n",
    "# Make sure the shape is appropriate, we should get 10 class probabilities for 64 examples\n",
    "print(ps.shape)"
   ]
  },
  {
   "cell_type": "markdown",
   "metadata": {
    "colab_type": "text",
    "id": "2LqzlWPscGKU"
   },
   "source": [
    "With the probabilities, we can get the most likely class using the `ps.topk` method. This returns the $k$ highest values. Since we just want the most likely class, we can use `ps.topk(1)`. This returns a tuple of the top-$k$ values and the top-$k$ indices. If the highest value is the fifth element, we'll get back 4 as the index."
   ]
  },
  {
   "cell_type": "code",
   "execution_count": 5,
   "metadata": {
    "ExecuteTime": {
     "end_time": "2019-02-09T13:04:57.086971Z",
     "start_time": "2019-02-09T13:04:57.077000Z"
    },
    "colab": {
     "base_uri": "https://localhost:8080/",
     "height": 187
    },
    "colab_type": "code",
    "id": "te4bWycRcGKV",
    "outputId": "80a60614-0cf5-46a2-8c40-16754ceeed18"
   },
   "outputs": [
    {
     "name": "stdout",
     "output_type": "stream",
     "text": [
      "tensor([[1],\n",
      "        [1],\n",
      "        [1],\n",
      "        [1],\n",
      "        [1],\n",
      "        [1],\n",
      "        [1],\n",
      "        [1],\n",
      "        [1],\n",
      "        [1]])\n"
     ]
    }
   ],
   "source": [
    "top_p, top_class = ps.topk(1, dim=1)\n",
    "# Look at the most likely classes for the first 10 examples\n",
    "print(top_class[:10,:])"
   ]
  },
  {
   "cell_type": "markdown",
   "metadata": {
    "colab_type": "text",
    "id": "UCif7ItrcGKe"
   },
   "source": [
    "Now we can check if the predicted classes match the labels. This is simple to do by equating `top_class` and `labels`, but we have to be careful of the shapes. Here `top_class` is a 2D tensor with shape `(64, 1)` while `labels` is 1D with shape `(64)`. To get the equality to work out the way we want, `top_class` and `labels` must have the same shape.\n",
    "\n",
    "If we do\n",
    "\n",
    "```python\n",
    "equals = top_class == labels\n",
    "```\n",
    "\n",
    "`equals` will have shape `(64, 64)`, try it yourself. What it's doing is comparing the one element in each row of `top_class` with each element in `labels` which returns 64 True/False boolean values for each row."
   ]
  },
  {
   "cell_type": "code",
   "execution_count": 6,
   "metadata": {
    "ExecuteTime": {
     "end_time": "2019-02-09T13:05:01.220965Z",
     "start_time": "2019-02-09T13:05:01.216973Z"
    },
    "colab": {},
    "colab_type": "code",
    "id": "IZgmP4v2cGKg"
   },
   "outputs": [],
   "source": [
    "equals = top_class == labels.view(*top_class.shape)"
   ]
  },
  {
   "cell_type": "markdown",
   "metadata": {
    "colab_type": "text",
    "id": "Rj997_njcGKn"
   },
   "source": [
    "Now we need to calculate the percentage of correct predictions. `equals` has binary values, either 0 or 1. This means that if we just sum up all the values and divide by the number of values, we get the percentage of correct predictions. This is the same operation as taking the mean, so we can get the accuracy with a call to `torch.mean`. If only it was that simple. If you try `torch.mean(equals)`, you'll get an error\n",
    "\n",
    "```\n",
    "RuntimeError: mean is not implemented for type torch.ByteTensor\n",
    "```\n",
    "\n",
    "This happens because `equals` has type `torch.ByteTensor` but `torch.mean` isn't implement for tensors with that type. So we'll need to convert `equals` to a float tensor. Note that when we take `torch.mean` it returns a scalar tensor, to get the actual value as a float we'll need to do `accuracy.item()`."
   ]
  },
  {
   "cell_type": "code",
   "execution_count": 7,
   "metadata": {
    "ExecuteTime": {
     "end_time": "2019-02-09T13:05:02.168230Z",
     "start_time": "2019-02-09T13:05:02.161251Z"
    },
    "colab": {
     "base_uri": "https://localhost:8080/",
     "height": 34
    },
    "colab_type": "code",
    "id": "1UNAzunlcGKo",
    "outputId": "9c57d7e4-7e4b-412d-9c68-6ace8fb48870"
   },
   "outputs": [
    {
     "name": "stdout",
     "output_type": "stream",
     "text": [
      "Accuracy: 10.9375%\n"
     ]
    }
   ],
   "source": [
    "accuracy = torch.mean(equals.type(torch.FloatTensor))\n",
    "print(f'Accuracy: {accuracy.item()*100}%')"
   ]
  },
  {
   "cell_type": "markdown",
   "metadata": {
    "colab_type": "text",
    "id": "RT_LxY6ocGKv"
   },
   "source": [
    "The network is untrained so it's making random guesses and we should see an accuracy around 10%. Now let's train our network and include our validation pass so we can measure how well the network is performing on the test set. Since we're not updating our parameters in the validation pass, we can speed up our code by turning off gradients using `torch.no_grad()`:\n",
    "\n",
    "```python\n",
    "# turn off gradients\n",
    "with torch.no_grad():\n",
    "    # validation pass here\n",
    "    for images, labels in testloader:\n",
    "        ...\n",
    "```\n",
    "\n",
    ">**Exercise:** Implement the validation loop below and print out the total accuracy after the loop. You can largely copy and paste the code from above, but I suggest typing it in because writing it out yourself is essential for building the skill. In general you'll always learn more by typing it rather than copy-pasting. You should be able to get an accuracy above 80%."
   ]
  },
  {
   "cell_type": "code",
   "execution_count": 8,
   "metadata": {
    "ExecuteTime": {
     "end_time": "2019-02-09T13:13:22.112059Z",
     "start_time": "2019-02-09T13:05:23.096003Z"
    },
    "colab": {
     "base_uri": "https://localhost:8080/",
     "height": 2057
    },
    "colab_type": "code",
    "id": "7US6uEABcGKw",
    "outputId": "4e189a8f-287e-4bb3-e20c-f4a9cebcee9f",
    "scrolled": true
   },
   "outputs": [
    {
     "name": "stdout",
     "output_type": "stream",
     "text": [
      "Epoch: 0\n",
      "\tAccuracy: 84.9024658203125%\n",
      "\tTest Loss: 0.4357752203941345\n",
      "\tTraining Loss: 0.514898597812856\n",
      "Epoch: 1\n",
      "\tAccuracy: 86.02706909179688%\n",
      "\tTest Loss: 0.3868994414806366\n",
      "\tTraining Loss: 0.38850248982307756\n",
      "Epoch: 2\n",
      "\tAccuracy: 86.62420654296875%\n",
      "\tTest Loss: 0.37419575452804565\n",
      "\tTraining Loss: 0.3554334930424243\n",
      "Epoch: 3\n",
      "\tAccuracy: 86.49482727050781%\n",
      "\tTest Loss: 0.37809038162231445\n",
      "\tTraining Loss: 0.3311149001455129\n",
      "Epoch: 4\n",
      "\tAccuracy: 86.49482727050781%\n",
      "\tTest Loss: 0.39608490467071533\n",
      "\tTraining Loss: 0.3105871054266435\n",
      "Epoch: 5\n",
      "\tAccuracy: 87.38057708740234%\n",
      "\tTest Loss: 0.3746916949748993\n",
      "\tTraining Loss: 0.2995835857938475\n",
      "Epoch: 6\n",
      "\tAccuracy: 87.0322494506836%\n",
      "\tTest Loss: 0.3706072270870209\n",
      "\tTraining Loss: 0.2861484265657884\n",
      "Epoch: 7\n",
      "\tAccuracy: 87.17157745361328%\n",
      "\tTest Loss: 0.3819247782230377\n",
      "\tTraining Loss: 0.27881850453137336\n",
      "Epoch: 8\n",
      "\tAccuracy: 86.65406036376953%\n",
      "\tTest Loss: 0.38951534032821655\n",
      "\tTraining Loss: 0.26999940850269566\n",
      "Epoch: 9\n",
      "\tAccuracy: 87.65923309326172%\n",
      "\tTest Loss: 0.36122143268585205\n",
      "\tTraining Loss: 0.2673628596164016\n",
      "Epoch: 10\n",
      "\tAccuracy: 87.78861999511719%\n",
      "\tTest Loss: 0.36604470014572144\n",
      "\tTraining Loss: 0.25496207904428053\n",
      "Epoch: 11\n",
      "\tAccuracy: 87.64928436279297%\n",
      "\tTest Loss: 0.37681305408477783\n",
      "\tTraining Loss: 0.2571088651469204\n",
      "Epoch: 12\n",
      "\tAccuracy: 88.04737091064453%\n",
      "\tTest Loss: 0.35974276065826416\n",
      "\tTraining Loss: 0.2479000023838236\n",
      "Epoch: 13\n",
      "\tAccuracy: 87.73885345458984%\n",
      "\tTest Loss: 0.37665510177612305\n",
      "\tTraining Loss: 0.23655211871891008\n",
      "Epoch: 14\n",
      "\tAccuracy: 87.27110290527344%\n",
      "\tTest Loss: 0.3970178961753845\n",
      "\tTraining Loss: 0.23341406679261467\n",
      "Epoch: 15\n",
      "\tAccuracy: 88.22651672363281%\n",
      "\tTest Loss: 0.36086881160736084\n",
      "\tTraining Loss: 0.22963798864246177\n",
      "Epoch: 16\n",
      "\tAccuracy: 87.89808654785156%\n",
      "\tTest Loss: 0.39518287777900696\n",
      "\tTraining Loss: 0.22332714617585958\n",
      "Epoch: 17\n",
      "\tAccuracy: 88.3061294555664%\n",
      "\tTest Loss: 0.3708038628101349\n",
      "\tTraining Loss: 0.22793656742490176\n",
      "Epoch: 18\n",
      "\tAccuracy: 87.81847381591797%\n",
      "\tTest Loss: 0.3732742667198181\n",
      "\tTraining Loss: 0.22063992373438787\n",
      "Epoch: 19\n",
      "\tAccuracy: 88.41560363769531%\n",
      "\tTest Loss: 0.39004969596862793\n",
      "\tTraining Loss: 0.21171821066851554\n",
      "Epoch: 20\n",
      "\tAccuracy: 88.41560363769531%\n",
      "\tTest Loss: 0.38073188066482544\n",
      "\tTraining Loss: 0.2114373645953723\n",
      "Epoch: 21\n",
      "\tAccuracy: 88.22651672363281%\n",
      "\tTest Loss: 0.39155375957489014\n",
      "\tTraining Loss: 0.20334511761789892\n",
      "Epoch: 22\n",
      "\tAccuracy: 88.38574981689453%\n",
      "\tTest Loss: 0.39178749918937683\n",
      "\tTraining Loss: 0.20206119962084268\n",
      "Epoch: 23\n",
      "\tAccuracy: 88.34593963623047%\n",
      "\tTest Loss: 0.3872021436691284\n",
      "\tTraining Loss: 0.1980509402246268\n",
      "Epoch: 24\n",
      "\tAccuracy: 88.23646545410156%\n",
      "\tTest Loss: 0.3948492109775543\n",
      "\tTraining Loss: 0.20058787610929912\n",
      "Epoch: 25\n",
      "\tAccuracy: 88.21656036376953%\n",
      "\tTest Loss: 0.4125531017780304\n",
      "\tTraining Loss: 0.19447622531210818\n",
      "Epoch: 26\n",
      "\tAccuracy: 88.22651672363281%\n",
      "\tTest Loss: 0.40093573927879333\n",
      "\tTraining Loss: 0.1942757693554229\n",
      "Epoch: 27\n",
      "\tAccuracy: 88.16679382324219%\n",
      "\tTest Loss: 0.40918129682540894\n",
      "\tTraining Loss: 0.19096801548735545\n",
      "Epoch: 28\n",
      "\tAccuracy: 87.48009490966797%\n",
      "\tTest Loss: 0.44578826427459717\n",
      "\tTraining Loss: 0.18320824002930478\n",
      "Epoch: 29\n",
      "\tAccuracy: 88.45541381835938%\n",
      "\tTest Loss: 0.419040322303772\n",
      "\tTraining Loss: 0.18396145545804043\n"
     ]
    }
   ],
   "source": [
    "model = Classifier()\n",
    "model.cuda()\n",
    "criterion = nn.NLLLoss()\n",
    "optimizer = optim.Adam(model.parameters(), lr=0.003)\n",
    "\n",
    "epochs = 30\n",
    "steps = 0\n",
    "\n",
    "train_losses, test_losses = [], []\n",
    "for e in range(epochs):\n",
    "    running_loss = 0\n",
    "    for images, labels in trainloader:\n",
    "        images, labels = images.cuda(), labels.cuda()\n",
    "        \n",
    "        optimizer.zero_grad()\n",
    "        \n",
    "        log_ps = model(images)\n",
    "        loss = criterion(log_ps, labels)\n",
    "        loss.backward()\n",
    "        optimizer.step()\n",
    "        \n",
    "        running_loss += loss.item()\n",
    "        \n",
    "    else:\n",
    "        test_loss = 0\n",
    "        accuracy = 0\n",
    "        \n",
    "        ## TODO: Implement the validation pass and print out the validation accuracy\n",
    "        # turn off gradients\n",
    "        with torch.no_grad():\n",
    "            # validation pass here\n",
    "            for images_test, labels_test in testloader:\n",
    "                images_test, labels_test = images_test.cuda(), labels_test.cuda()\n",
    "                log_ps = model(images_test)\n",
    "                test_loss += criterion(log_ps, labels_test)\n",
    "\n",
    "                ps = torch.exp(log_ps)\n",
    "                top_p, top_class = ps.topk(1, dim=1)\n",
    "                equals = top_class == labels_test.view(*top_class.shape)\n",
    "                accuracy += torch.mean(equals.type(torch.FloatTensor))\n",
    "\n",
    "        print(f'Epoch: {e}')              \n",
    "        print(f'\\tAccuracy: {accuracy/len(testloader)*100}%')        \n",
    "        print(f'\\tTest Loss: {test_loss/len(testloader)}')\n",
    "        print(f'\\tTraining Loss: {running_loss/len(trainloader)}')"
   ]
  },
  {
   "cell_type": "markdown",
   "metadata": {
    "colab_type": "text",
    "id": "KvAgvo1ycGK0"
   },
   "source": [
    "## Overfitting\n",
    "\n",
    "If we look at the training and validation losses as we train the network, we can see a phenomenon known as overfitting.\n",
    "\n",
    "<img src='https://github.com/joaopamaral/deep-learning-v2-pytorch/blob/master/intro-to-pytorch/assets/overfitting.png?raw=1' width=450px>\n",
    "\n",
    "The network learns the training set better and better, resulting in lower training losses. However, it starts having problems generalizing to data outside the training set leading to the validation loss increasing. The ultimate goal of any deep learning model is to make predictions on new data, so we should strive to get the lowest validation loss possible. One option is to use the version of the model with the lowest validation loss, here the one around 8-10 training epochs. This strategy is called *early-stopping*. In practice, you'd save the model frequently as you're training then later choose the model with the lowest validation loss.\n",
    "\n",
    "The most common method to reduce overfitting (outside of early-stopping) is *dropout*, where we randomly drop input units. This forces the network to share information between weights, increasing it's ability to generalize to new data. Adding dropout in PyTorch is straightforward using the [`nn.Dropout`](https://pytorch.org/docs/stable/nn.html#torch.nn.Dropout) module.\n",
    "\n",
    "```python\n",
    "class Classifier(nn.Module):\n",
    "    def __init__(self):\n",
    "        super().__init__()\n",
    "        self.fc1 = nn.Linear(784, 256)\n",
    "        self.fc2 = nn.Linear(256, 128)\n",
    "        self.fc3 = nn.Linear(128, 64)\n",
    "        self.fc4 = nn.Linear(64, 10)\n",
    "        \n",
    "        # Dropout module with 0.2 drop probability\n",
    "        self.dropout = nn.Dropout(p=0.2)\n",
    "        \n",
    "    def forward(self, x):\n",
    "        # make sure input tensor is flattened\n",
    "        x = x.view(x.shape[0], -1)\n",
    "        \n",
    "        # Now with dropout\n",
    "        x = self.dropout(F.relu(self.fc1(x)))\n",
    "        x = self.dropout(F.relu(self.fc2(x)))\n",
    "        x = self.dropout(F.relu(self.fc3(x)))\n",
    "        \n",
    "        # output so no dropout here\n",
    "        x = F.log_softmax(self.fc4(x), dim=1)\n",
    "        \n",
    "        return x\n",
    "```\n",
    "\n",
    "During training we want to use dropout to prevent overfitting, but during inference we want to use the entire network. So, we need to turn off dropout during validation, testing, and whenever we're using the network to make predictions. To do this, you use `model.eval()`. This sets the model to evaluation mode where the dropout probability is 0. You can turn dropout back on by setting the model to train mode with `model.train()`. In general, the pattern for the validation loop will look like this, where you turn off gradients, set the model to evaluation mode, calculate the validation loss and metric, then set the model back to train mode.\n",
    "\n",
    "```python\n",
    "# turn off gradients\n",
    "with torch.no_grad():\n",
    "    \n",
    "    # set model to evaluation mode\n",
    "    model.eval()\n",
    "    \n",
    "    # validation pass here\n",
    "    for images, labels in testloader:\n",
    "        ...\n",
    "\n",
    "# set model back to train mode\n",
    "model.train()\n",
    "```"
   ]
  },
  {
   "cell_type": "markdown",
   "metadata": {
    "colab_type": "text",
    "id": "A0q6zqescGK2"
   },
   "source": [
    "> **Exercise:** Add dropout to your model and train it on Fashion-MNIST again. See if you can get a lower validation loss or higher accuracy."
   ]
  },
  {
   "cell_type": "code",
   "execution_count": 14,
   "metadata": {
    "ExecuteTime": {
     "end_time": "2019-02-09T13:14:29.893410Z",
     "start_time": "2019-02-09T13:14:29.884396Z"
    },
    "colab": {},
    "colab_type": "code",
    "id": "f65faz3TcGK3"
   },
   "outputs": [],
   "source": [
    "## TODO: Define your model with dropout added\n",
    "class Classifier(nn.Module):\n",
    "    def __init__(self):\n",
    "        super().__init__()\n",
    "        self.fc1 = nn.Linear(784, 256)\n",
    "        self.fc2 = nn.Linear(256, 128)\n",
    "        self.fc3 = nn.Linear(128, 64)\n",
    "        self.fc4 = nn.Linear(64, 10)\n",
    "\n",
    "        # Dropout module with 0.2 drop probability\n",
    "        self.dropout = nn.Dropout(p=0.2)\n",
    "\n",
    "    def forward(self, x):\n",
    "        # make sure input tensor is flattened\n",
    "        x = x.view(x.shape[0], -1)\n",
    "\n",
    "        # Now with dropout\n",
    "        x = self.dropout(F.relu(self.fc1(x)))\n",
    "        x = self.dropout(F.relu(self.fc2(x)))\n",
    "        x = self.dropout(F.relu(self.fc3(x)))\n",
    "\n",
    "        # output so no dropout here\n",
    "        x = F.log_softmax(self.fc4(x), dim=1)\n",
    "\n",
    "        return x"
   ]
  },
  {
   "cell_type": "code",
   "execution_count": 16,
   "metadata": {
    "ExecuteTime": {
     "end_time": "2019-02-09T13:24:32.202349Z",
     "start_time": "2019-02-09T13:15:44.990835Z"
    },
    "colab": {
     "base_uri": "https://localhost:8080/",
     "height": 2057
    },
    "colab_type": "code",
    "id": "_9ZUHrz4cGK8",
    "outputId": "e65c943d-fb13-445d-b42b-3caef8fffe2c",
    "scrolled": true
   },
   "outputs": [
    {
     "name": "stdout",
     "output_type": "stream",
     "text": [
      "Epoch: 0\n",
      "\tAccuracy: 81.55851745605469%\n",
      "\tTest Loss: 0.5308773517608643\n",
      "\tTraining Loss: 0.601279463182126\n",
      "Epoch: 1\n",
      "\tAccuracy: 84.70342254638672%\n",
      "\tTest Loss: 0.4314292073249817\n",
      "\tTraining Loss: 0.4791923555801672\n",
      "Epoch: 2\n",
      "\tAccuracy: 85.2408447265625%\n",
      "\tTest Loss: 0.41674092411994934\n",
      "\tTraining Loss: 0.4428493159729789\n",
      "Epoch: 3\n",
      "\tAccuracy: 85.90764617919922%\n",
      "\tTest Loss: 0.40773165225982666\n",
      "\tTraining Loss: 0.4337277465632984\n",
      "Epoch: 4\n",
      "\tAccuracy: 84.97212982177734%\n",
      "\tTest Loss: 0.4238770604133606\n",
      "\tTraining Loss: 0.4150629699198422\n",
      "Epoch: 5\n",
      "\tAccuracy: 86.32563781738281%\n",
      "\tTest Loss: 0.3899152874946594\n",
      "\tTraining Loss: 0.4118651762477625\n",
      "Epoch: 6\n",
      "\tAccuracy: 85.9375%\n",
      "\tTest Loss: 0.39442479610443115\n",
      "\tTraining Loss: 0.3963088753031515\n",
      "Epoch: 7\n",
      "\tAccuracy: 86.6341552734375%\n",
      "\tTest Loss: 0.38954681158065796\n",
      "\tTraining Loss: 0.4033729588585113\n",
      "Epoch: 8\n",
      "\tAccuracy: 85.66879272460938%\n",
      "\tTest Loss: 0.4034736454486847\n",
      "\tTraining Loss: 0.3872874577257679\n",
      "Epoch: 9\n",
      "\tAccuracy: 85.67874145507812%\n",
      "\tTest Loss: 0.42002034187316895\n",
      "\tTraining Loss: 0.387306352763542\n",
      "Epoch: 10\n",
      "\tAccuracy: 86.25597381591797%\n",
      "\tTest Loss: 0.4117718040943146\n",
      "\tTraining Loss: 0.3864589304462679\n",
      "Epoch: 11\n",
      "\tAccuracy: 86.94267272949219%\n",
      "\tTest Loss: 0.378710001707077\n",
      "\tTraining Loss: 0.3798421682325253\n",
      "Epoch: 12\n",
      "\tAccuracy: 87.0521469116211%\n",
      "\tTest Loss: 0.38441187143325806\n",
      "\tTraining Loss: 0.3740933689433756\n",
      "Epoch: 13\n",
      "\tAccuracy: 85.98726654052734%\n",
      "\tTest Loss: 0.40433040261268616\n",
      "\tTraining Loss: 0.36956960768270086\n",
      "Epoch: 14\n",
      "\tAccuracy: 86.73368072509766%\n",
      "\tTest Loss: 0.4030153453350067\n",
      "\tTraining Loss: 0.37094556346440366\n",
      "Epoch: 15\n",
      "\tAccuracy: 87.11186218261719%\n",
      "\tTest Loss: 0.3920523226261139\n",
      "\tTraining Loss: 0.3663780780425712\n",
      "Epoch: 16\n",
      "\tAccuracy: 85.83797454833984%\n",
      "\tTest Loss: 0.3976745903491974\n",
      "\tTraining Loss: 0.36106494871347444\n",
      "Epoch: 17\n",
      "\tAccuracy: 86.94267272949219%\n",
      "\tTest Loss: 0.38768914341926575\n",
      "\tTraining Loss: 0.35780398656469165\n",
      "Epoch: 18\n",
      "\tAccuracy: 87.20143127441406%\n",
      "\tTest Loss: 0.3915942907333374\n",
      "\tTraining Loss: 0.3602327578055706\n",
      "Epoch: 19\n",
      "\tAccuracy: 87.48009490966797%\n",
      "\tTest Loss: 0.3756023645401001\n",
      "\tTraining Loss: 0.35948416149851353\n",
      "Epoch: 20\n",
      "\tAccuracy: 87.07205963134766%\n",
      "\tTest Loss: 0.37772655487060547\n",
      "\tTraining Loss: 0.35341218626225934\n",
      "Epoch: 21\n",
      "\tAccuracy: 87.47014617919922%\n",
      "\tTest Loss: 0.3745361864566803\n",
      "\tTraining Loss: 0.3492809152329909\n",
      "Epoch: 22\n",
      "\tAccuracy: 87.57962036132812%\n",
      "\tTest Loss: 0.3717479109764099\n",
      "\tTraining Loss: 0.35270861978692286\n",
      "Epoch: 23\n",
      "\tAccuracy: 87.08200073242188%\n",
      "\tTest Loss: 0.3976062834262848\n",
      "\tTraining Loss: 0.3486962506114674\n",
      "Epoch: 24\n",
      "\tAccuracy: 87.36067199707031%\n",
      "\tTest Loss: 0.39407363533973694\n",
      "\tTraining Loss: 0.3456557945592571\n",
      "Epoch: 25\n",
      "\tAccuracy: 87.38057708740234%\n",
      "\tTest Loss: 0.3664511442184448\n",
      "\tTraining Loss: 0.3495038062222858\n",
      "Epoch: 26\n",
      "\tAccuracy: 87.5%\n",
      "\tTest Loss: 0.37334197759628296\n",
      "\tTraining Loss: 0.3418684470167419\n",
      "Epoch: 27\n",
      "\tAccuracy: 87.42037963867188%\n",
      "\tTest Loss: 0.3769223690032959\n",
      "\tTraining Loss: 0.3367138542473189\n",
      "Epoch: 28\n",
      "\tAccuracy: 87.25119018554688%\n",
      "\tTest Loss: 0.37884950637817383\n",
      "\tTraining Loss: 0.3481977102297074\n",
      "Epoch: 29\n",
      "\tAccuracy: 87.49004364013672%\n",
      "\tTest Loss: 0.3772718012332916\n",
      "\tTraining Loss: 0.340626307681743\n"
     ]
    }
   ],
   "source": [
    "## TODO: Train your model with dropout, and monitor the training progress with the validation loss and accuracy\n",
    "model = Classifier()\n",
    "model.cuda()\n",
    "criterion = nn.NLLLoss()\n",
    "optimizer = optim.Adam(model.parameters(), lr=0.003)\n",
    "\n",
    "epochs = 30\n",
    "steps = 0\n",
    "\n",
    "train_losses, test_losses = [], []\n",
    "for e in range(epochs):\n",
    "    running_loss = 0\n",
    "    for images, labels in trainloader:\n",
    "        images, labels = images.cuda(), labels.cuda()\n",
    "        \n",
    "        optimizer.zero_grad()\n",
    "        \n",
    "        log_ps = model(images)\n",
    "        loss = criterion(log_ps, labels)\n",
    "        loss.backward()\n",
    "        optimizer.step()\n",
    "        \n",
    "        running_loss += loss.item()\n",
    "        \n",
    "    else:\n",
    "        test_loss = 0\n",
    "        accuracy = 0\n",
    "        \n",
    "        ## TODO: Implement the validation pass and print out the validation accuracy\n",
    "        # turn off gradients\n",
    "        with torch.no_grad():\n",
    "            # set model to evaluation mode\n",
    "            model.eval()\n",
    "            \n",
    "            # validation pass here\n",
    "            for images_test, labels_test in testloader:\n",
    "                images_test, labels_test = images_test.cuda(), labels_test.cuda()\n",
    "                log_ps = model(images_test)\n",
    "                test_loss += criterion(log_ps, labels_test)\n",
    "\n",
    "                ps = torch.exp(log_ps)\n",
    "                top_p, top_class = ps.topk(1, dim=1)\n",
    "                equals = top_class == labels_test.view(*top_class.shape)\n",
    "                accuracy += torch.mean(equals.type(torch.FloatTensor))\n",
    "        \n",
    "        # set model back to train mode\n",
    "        model.train()\n",
    "\n",
    "        train_losses.append(running_loss/len(trainloader))\n",
    "        test_losses.append(test_loss/len(testloader))\n",
    "        print(f'Epoch: {e}')              \n",
    "        print(f'\\tAccuracy: {accuracy/len(testloader)*100}%')        \n",
    "        print(f'\\tTest Loss: {test_losses[-1]}')\n",
    "        print(f'\\tTraining Loss: {train_losses[-1]}')"
   ]
  },
  {
   "cell_type": "code",
   "execution_count": 17,
   "metadata": {
    "ExecuteTime": {
     "end_time": "2019-02-09T13:24:33.464758Z",
     "start_time": "2019-02-09T13:24:32.948355Z"
    }
   },
   "outputs": [
    {
     "data": {
      "image/png": "[encoded data removed]",
      "text/plain": [
       "<Figure size 432x288 with 1 Axes>"
      ]
     },
     "metadata": {
      "needs_background": "light"
     },
     "output_type": "display_data"
    }
   ],
   "source": [
    "%matplotlib inline\n",
    "import matplotlib.pyplot as plt\n",
    "import pandas as pd\n",
    "\n",
    "plt.plot(pd.DataFrame({'Training loss': train_losses, 'Validation loss': test_losses}));"
   ]
  },
  {
   "cell_type": "markdown",
   "metadata": {
    "colab_type": "text",
    "id": "5HhdMMDccGLB"
   },
   "source": [
    "## Inference\n",
    "\n",
    "Now that the model is trained, we can use it for inference. We've done this before, but now we need to remember to set the model in inference mode with `model.eval()`. You'll also want to turn off autograd with the `torch.no_grad()` context."
   ]
  },
  {
   "cell_type": "code",
   "execution_count": 18,
   "metadata": {
    "ExecuteTime": {
     "end_time": "2019-02-09T13:24:41.373344Z",
     "start_time": "2019-02-09T13:24:41.173839Z"
    },
    "colab": {
     "base_uri": "https://localhost:8080/",
     "height": 221
    },
    "colab_type": "code",
    "id": "mIH0Q9ctcGLD",
    "outputId": "3d183219-f000-4c94-fdac-088e8aa43713"
   },
   "outputs": [
    {
     "data": {
      "image/png": "[encoded data removed]",
      "text/plain": [
       "<Figure size 432x648 with 2 Axes>"
      ]
     },
     "metadata": {
      "needs_background": "light"
     },
     "output_type": "display_data"
    }
   ],
   "source": [
    "# Import helper module (should be in the repo)\n",
    "import helper\n",
    "\n",
    "# Test out your network!\n",
    "\n",
    "model.eval()\n",
    "\n",
    "dataiter = iter(testloader)\n",
    "images, labels = dataiter.next()\n",
    "img = images[0]\n",
    "# Convert 2D image to 1D vector\n",
    "img = img.view(1, 784)\n",
    "\n",
    "# Calculate the class probabilities (softmax) for img\n",
    "with torch.no_grad():\n",
    "    output = model.forward(img.cuda())\n",
    "\n",
    "ps = torch.exp(output)\n",
    "\n",
    "# Plot the image and probabilities\n",
    "helper.view_classify(img.cpu().view(1, 28, 28), ps.cpu(), version='Fashion')"
   ]
  },
  {
   "cell_type": "markdown",
   "metadata": {
    "colab_type": "text",
    "id": "K7FOGcZpcGLK"
   },
   "source": [
    "## Next Up!\n",
    "\n",
    "In the next part, I'll show you how to save your trained models. In general, you won't want to train a model everytime you need it. Instead, you'll train once, save it, then load the model when you want to train more or use if for inference."
   ]
  }
 ],
 "metadata": {
  "accelerator": "GPU",
  "colab": {
   "include_colab_link": true,
   "name": "Part 5 - Inference and Validation (Exercises).ipynb",
   "provenance": [],
   "toc_visible": true,
   "version": "0.3.2"
  },
  "kernelspec": {
   "display_name": "Python 3",
   "language": "python",
   "name": "python3"
  },
  "language_info": {
   "codemirror_mode": {
    "name": "ipython",
    "version": 3
   },
   "file_extension": ".py",
   "mimetype": "text/x-python",
   "name": "python",
   "nbconvert_exporter": "python",
   "pygments_lexer": "ipython3",
   "version": "3.7.1"
  },
  "toc": {
   "base_numbering": 1,
   "nav_menu": {},
   "number_sections": true,
   "sideBar": true,
   "skip_h1_title": false,
   "title_cell": "Table of Contents",
   "title_sidebar": "Contents",
   "toc_cell": false,
   "toc_position": {},
   "toc_section_display": true,
   "toc_window_display": false
  },
  "varInspector": {
   "cols": {
    "lenName": 16,
    "lenType": 16,
    "lenVar": 40
   },
   "kernels_config": {
    "python": {
     "delete_cmd_postfix": "",
     "delete_cmd_prefix": "del ",
     "library": "var_list.py",
     "varRefreshCmd": "print(var_dic_list())"
    },
    "r": {
     "delete_cmd_postfix": ") ",
     "delete_cmd_prefix": "rm(",
     "library": "var_list.r",
     "varRefreshCmd": "cat(var_dic_list()) "
    }
   },
   "types_to_exclude": [
    "module",
    "function",
    "builtin_function_or_method",
    "instance",
    "_Feature"
   ],
   "window_display": false
  }
 },
 "nbformat": 4,
 "nbformat_minor": 1
}
