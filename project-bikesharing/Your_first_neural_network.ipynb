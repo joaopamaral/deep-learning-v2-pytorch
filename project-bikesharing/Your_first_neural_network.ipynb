{
  "nbformat": 4,
  "nbformat_minor": 0,
  "metadata": {
    "colab": {
      "name": "Your_first_neural_network.ipynb",
      "version": "0.3.2",
      "provenance": [],
      "toc_visible": true,
      "include_colab_link": true
    },
    "kernelspec": {
      "display_name": "Python 3",
      "language": "python",
      "name": "python3"
    }
  },
  "cells": [
    {
      "cell_type": "markdown",
      "metadata": {
        "id": "view-in-github",
        "colab_type": "text"
      },
      "source": [
        "<a href=\"https://colab.research.google.com/github/joaopamaral/deep-learning-v2-pytorch/blob/master/project-bikesharing/Your_first_neural_network.ipynb\" target=\"_parent\"><img src=\"https://colab.research.google.com/assets/colab-badge.svg\" alt=\"Open In Colab\"/></a>"
      ]
    },
    {
      "metadata": {
        "id": "xRWykj7DMbVp",
        "colab_type": "text"
      },
      "cell_type": "markdown",
      "source": [
        "# Your first neural network\n",
        "\n",
        "In this project, you'll build your first neural network and use it to predict daily bike rental ridership. We've provided some of the code, but left the implementation of the neural network up to you (for the most part). After you've submitted this project, feel free to explore the data and the model more.\n",
        "\n"
      ]
    },
    {
      "metadata": {
        "id": "6INssrfaMbVs",
        "colab_type": "code",
        "colab": {
          "base_uri": "https://localhost:8080/",
          "height": 50
        },
        "outputId": "445f23c4-f4a3-4fb9-c5ff-54bf2901a54f"
      },
      "cell_type": "code",
      "source": [
        "%matplotlib inline\n",
        "%load_ext autoreload\n",
        "%autoreload 2\n",
        "%config InlineBackend.figure_format = 'retina'\n",
        "\n",
        "import numpy as np\n",
        "import pandas as pd\n",
        "import matplotlib.pyplot as plt\n",
        "\n",
        "try:\n",
        "    import google.colab\n",
        "    IN_COLAB = True\n",
        "except:\n",
        "    IN_COLAB = False"
      ],
      "execution_count": 12,
      "outputs": [
        {
          "output_type": "stream",
          "text": [
            "The autoreload extension is already loaded. To reload it, use:\n",
            "  %reload_ext autoreload\n"
          ],
          "name": "stdout"
        }
      ]
    },
    {
      "metadata": {
        "id": "KNq9GKo9MbVw",
        "colab_type": "text"
      },
      "cell_type": "markdown",
      "source": [
        "## Load and prepare the data\n",
        "\n",
        "A critical step in working with neural networks is preparing the data correctly. Variables on different scales make it difficult for the network to efficiently learn the correct weights. Below, we've written the code to load and prepare the data. You'll learn more about this soon!"
      ]
    },
    {
      "metadata": {
        "id": "6ItOdTiSMoKZ",
        "colab_type": "code",
        "colab": {}
      },
      "cell_type": "code",
      "source": [
        "if IN_COLAB:\n",
        "    !mkdir -p Bike-Sharing-Dataset\n",
        "    !wget -q -nc https://github.com/joaopamaral/deep-learning-v2-pytorch/raw/master/project-bikesharing/Bike-Sharing-Dataset/hour.csv -P Bike-Sharing-Dataset"
      ],
      "execution_count": 0,
      "outputs": []
    },
    {
      "metadata": {
        "id": "SP0IA7yYMbVy",
        "colab_type": "code",
        "colab": {}
      },
      "cell_type": "code",
      "source": [
        "data_path = 'Bike-Sharing-Dataset/hour.csv'\n",
        "\n",
        "rides = pd.read_csv(data_path)"
      ],
      "execution_count": 0,
      "outputs": []
    },
    {
      "metadata": {
        "id": "FrgaxIHnMbV0",
        "colab_type": "code",
        "colab": {
          "base_uri": "https://localhost:8080/",
          "height": 279
        },
        "outputId": "21eac64a-26ab-4c4d-e97e-d010893898ca"
      },
      "cell_type": "code",
      "source": [
        "rides.head()"
      ],
      "execution_count": 4,
      "outputs": [
        {
          "output_type": "execute_result",
          "data": {
            "text/html": [
              "<div>\n",
              "<style scoped>\n",
              "    .dataframe tbody tr th:only-of-type {\n",
              "        vertical-align: middle;\n",
              "    }\n",
              "\n",
              "    .dataframe tbody tr th {\n",
              "        vertical-align: top;\n",
              "    }\n",
              "\n",
              "    .dataframe thead th {\n",
              "        text-align: right;\n",
              "    }\n",
              "</style>\n",
              "<table border=\"1\" class=\"dataframe\">\n",
              "  <thead>\n",
              "    <tr style=\"text-align: right;\">\n",
              "      <th></th>\n",
              "      <th>instant</th>\n",
              "      <th>dteday</th>\n",
              "      <th>season</th>\n",
              "      <th>yr</th>\n",
              "      <th>mnth</th>\n",
              "      <th>hr</th>\n",
              "      <th>holiday</th>\n",
              "      <th>weekday</th>\n",
              "      <th>workingday</th>\n",
              "      <th>weathersit</th>\n",
              "      <th>temp</th>\n",
              "      <th>atemp</th>\n",
              "      <th>hum</th>\n",
              "      <th>windspeed</th>\n",
              "      <th>casual</th>\n",
              "      <th>registered</th>\n",
              "      <th>cnt</th>\n",
              "    </tr>\n",
              "  </thead>\n",
              "  <tbody>\n",
              "    <tr>\n",
              "      <th>0</th>\n",
              "      <td>1</td>\n",
              "      <td>2011-01-01</td>\n",
              "      <td>1</td>\n",
              "      <td>0</td>\n",
              "      <td>1</td>\n",
              "      <td>0</td>\n",
              "      <td>0</td>\n",
              "      <td>6</td>\n",
              "      <td>0</td>\n",
              "      <td>1</td>\n",
              "      <td>0.24</td>\n",
              "      <td>0.2879</td>\n",
              "      <td>0.81</td>\n",
              "      <td>0.0</td>\n",
              "      <td>3</td>\n",
              "      <td>13</td>\n",
              "      <td>16</td>\n",
              "    </tr>\n",
              "    <tr>\n",
              "      <th>1</th>\n",
              "      <td>2</td>\n",
              "      <td>2011-01-01</td>\n",
              "      <td>1</td>\n",
              "      <td>0</td>\n",
              "      <td>1</td>\n",
              "      <td>1</td>\n",
              "      <td>0</td>\n",
              "      <td>6</td>\n",
              "      <td>0</td>\n",
              "      <td>1</td>\n",
              "      <td>0.22</td>\n",
              "      <td>0.2727</td>\n",
              "      <td>0.80</td>\n",
              "      <td>0.0</td>\n",
              "      <td>8</td>\n",
              "      <td>32</td>\n",
              "      <td>40</td>\n",
              "    </tr>\n",
              "    <tr>\n",
              "      <th>2</th>\n",
              "      <td>3</td>\n",
              "      <td>2011-01-01</td>\n",
              "      <td>1</td>\n",
              "      <td>0</td>\n",
              "      <td>1</td>\n",
              "      <td>2</td>\n",
              "      <td>0</td>\n",
              "      <td>6</td>\n",
              "      <td>0</td>\n",
              "      <td>1</td>\n",
              "      <td>0.22</td>\n",
              "      <td>0.2727</td>\n",
              "      <td>0.80</td>\n",
              "      <td>0.0</td>\n",
              "      <td>5</td>\n",
              "      <td>27</td>\n",
              "      <td>32</td>\n",
              "    </tr>\n",
              "    <tr>\n",
              "      <th>3</th>\n",
              "      <td>4</td>\n",
              "      <td>2011-01-01</td>\n",
              "      <td>1</td>\n",
              "      <td>0</td>\n",
              "      <td>1</td>\n",
              "      <td>3</td>\n",
              "      <td>0</td>\n",
              "      <td>6</td>\n",
              "      <td>0</td>\n",
              "      <td>1</td>\n",
              "      <td>0.24</td>\n",
              "      <td>0.2879</td>\n",
              "      <td>0.75</td>\n",
              "      <td>0.0</td>\n",
              "      <td>3</td>\n",
              "      <td>10</td>\n",
              "      <td>13</td>\n",
              "    </tr>\n",
              "    <tr>\n",
              "      <th>4</th>\n",
              "      <td>5</td>\n",
              "      <td>2011-01-01</td>\n",
              "      <td>1</td>\n",
              "      <td>0</td>\n",
              "      <td>1</td>\n",
              "      <td>4</td>\n",
              "      <td>0</td>\n",
              "      <td>6</td>\n",
              "      <td>0</td>\n",
              "      <td>1</td>\n",
              "      <td>0.24</td>\n",
              "      <td>0.2879</td>\n",
              "      <td>0.75</td>\n",
              "      <td>0.0</td>\n",
              "      <td>0</td>\n",
              "      <td>1</td>\n",
              "      <td>1</td>\n",
              "    </tr>\n",
              "  </tbody>\n",
              "</table>\n",
              "</div>"
            ],
            "text/plain": [
              "   instant      dteday  season  yr  mnth  hr  holiday  weekday  workingday  \\\n",
              "0        1  2011-01-01       1   0     1   0        0        6           0   \n",
              "1        2  2011-01-01       1   0     1   1        0        6           0   \n",
              "2        3  2011-01-01       1   0     1   2        0        6           0   \n",
              "3        4  2011-01-01       1   0     1   3        0        6           0   \n",
              "4        5  2011-01-01       1   0     1   4        0        6           0   \n",
              "\n",
              "   weathersit  temp   atemp   hum  windspeed  casual  registered  cnt  \n",
              "0           1  0.24  0.2879  0.81        0.0       3          13   16  \n",
              "1           1  0.22  0.2727  0.80        0.0       8          32   40  \n",
              "2           1  0.22  0.2727  0.80        0.0       5          27   32  \n",
              "3           1  0.24  0.2879  0.75        0.0       3          10   13  \n",
              "4           1  0.24  0.2879  0.75        0.0       0           1    1  "
            ]
          },
          "metadata": {
            "tags": []
          },
          "execution_count": 4
        }
      ]
    },
    {
      "metadata": {
        "id": "9RnpAgrDNdIF",
        "colab_type": "code",
        "colab": {
          "base_uri": "https://localhost:8080/",
          "height": 304
        },
        "outputId": "23ae555c-b45f-4c12-ce5b-445c6d4a0ec6"
      },
      "cell_type": "code",
      "source": [
        "# Understand the data diatribution\n",
        "rides.describe()"
      ],
      "execution_count": 5,
      "outputs": [
        {
          "output_type": "execute_result",
          "data": {
            "text/html": [
              "<div>\n",
              "<style scoped>\n",
              "    .dataframe tbody tr th:only-of-type {\n",
              "        vertical-align: middle;\n",
              "    }\n",
              "\n",
              "    .dataframe tbody tr th {\n",
              "        vertical-align: top;\n",
              "    }\n",
              "\n",
              "    .dataframe thead th {\n",
              "        text-align: right;\n",
              "    }\n",
              "</style>\n",
              "<table border=\"1\" class=\"dataframe\">\n",
              "  <thead>\n",
              "    <tr style=\"text-align: right;\">\n",
              "      <th></th>\n",
              "      <th>instant</th>\n",
              "      <th>season</th>\n",
              "      <th>yr</th>\n",
              "      <th>mnth</th>\n",
              "      <th>hr</th>\n",
              "      <th>holiday</th>\n",
              "      <th>weekday</th>\n",
              "      <th>workingday</th>\n",
              "      <th>weathersit</th>\n",
              "      <th>temp</th>\n",
              "      <th>atemp</th>\n",
              "      <th>hum</th>\n",
              "      <th>windspeed</th>\n",
              "      <th>casual</th>\n",
              "      <th>registered</th>\n",
              "      <th>cnt</th>\n",
              "    </tr>\n",
              "  </thead>\n",
              "  <tbody>\n",
              "    <tr>\n",
              "      <th>count</th>\n",
              "      <td>17379.0000</td>\n",
              "      <td>17379.000000</td>\n",
              "      <td>17379.000000</td>\n",
              "      <td>17379.000000</td>\n",
              "      <td>17379.000000</td>\n",
              "      <td>17379.000000</td>\n",
              "      <td>17379.000000</td>\n",
              "      <td>17379.000000</td>\n",
              "      <td>17379.000000</td>\n",
              "      <td>17379.000000</td>\n",
              "      <td>17379.000000</td>\n",
              "      <td>17379.000000</td>\n",
              "      <td>17379.000000</td>\n",
              "      <td>17379.000000</td>\n",
              "      <td>17379.000000</td>\n",
              "      <td>17379.000000</td>\n",
              "    </tr>\n",
              "    <tr>\n",
              "      <th>mean</th>\n",
              "      <td>8690.0000</td>\n",
              "      <td>2.501640</td>\n",
              "      <td>0.502561</td>\n",
              "      <td>6.537775</td>\n",
              "      <td>11.546752</td>\n",
              "      <td>0.028770</td>\n",
              "      <td>3.003683</td>\n",
              "      <td>0.682721</td>\n",
              "      <td>1.425283</td>\n",
              "      <td>0.496987</td>\n",
              "      <td>0.475775</td>\n",
              "      <td>0.627229</td>\n",
              "      <td>0.190098</td>\n",
              "      <td>35.676218</td>\n",
              "      <td>153.786869</td>\n",
              "      <td>189.463088</td>\n",
              "    </tr>\n",
              "    <tr>\n",
              "      <th>std</th>\n",
              "      <td>5017.0295</td>\n",
              "      <td>1.106918</td>\n",
              "      <td>0.500008</td>\n",
              "      <td>3.438776</td>\n",
              "      <td>6.914405</td>\n",
              "      <td>0.167165</td>\n",
              "      <td>2.005771</td>\n",
              "      <td>0.465431</td>\n",
              "      <td>0.639357</td>\n",
              "      <td>0.192556</td>\n",
              "      <td>0.171850</td>\n",
              "      <td>0.192930</td>\n",
              "      <td>0.122340</td>\n",
              "      <td>49.305030</td>\n",
              "      <td>151.357286</td>\n",
              "      <td>181.387599</td>\n",
              "    </tr>\n",
              "    <tr>\n",
              "      <th>min</th>\n",
              "      <td>1.0000</td>\n",
              "      <td>1.000000</td>\n",
              "      <td>0.000000</td>\n",
              "      <td>1.000000</td>\n",
              "      <td>0.000000</td>\n",
              "      <td>0.000000</td>\n",
              "      <td>0.000000</td>\n",
              "      <td>0.000000</td>\n",
              "      <td>1.000000</td>\n",
              "      <td>0.020000</td>\n",
              "      <td>0.000000</td>\n",
              "      <td>0.000000</td>\n",
              "      <td>0.000000</td>\n",
              "      <td>0.000000</td>\n",
              "      <td>0.000000</td>\n",
              "      <td>1.000000</td>\n",
              "    </tr>\n",
              "    <tr>\n",
              "      <th>25%</th>\n",
              "      <td>4345.5000</td>\n",
              "      <td>2.000000</td>\n",
              "      <td>0.000000</td>\n",
              "      <td>4.000000</td>\n",
              "      <td>6.000000</td>\n",
              "      <td>0.000000</td>\n",
              "      <td>1.000000</td>\n",
              "      <td>0.000000</td>\n",
              "      <td>1.000000</td>\n",
              "      <td>0.340000</td>\n",
              "      <td>0.333300</td>\n",
              "      <td>0.480000</td>\n",
              "      <td>0.104500</td>\n",
              "      <td>4.000000</td>\n",
              "      <td>34.000000</td>\n",
              "      <td>40.000000</td>\n",
              "    </tr>\n",
              "    <tr>\n",
              "      <th>50%</th>\n",
              "      <td>8690.0000</td>\n",
              "      <td>3.000000</td>\n",
              "      <td>1.000000</td>\n",
              "      <td>7.000000</td>\n",
              "      <td>12.000000</td>\n",
              "      <td>0.000000</td>\n",
              "      <td>3.000000</td>\n",
              "      <td>1.000000</td>\n",
              "      <td>1.000000</td>\n",
              "      <td>0.500000</td>\n",
              "      <td>0.484800</td>\n",
              "      <td>0.630000</td>\n",
              "      <td>0.194000</td>\n",
              "      <td>17.000000</td>\n",
              "      <td>115.000000</td>\n",
              "      <td>142.000000</td>\n",
              "    </tr>\n",
              "    <tr>\n",
              "      <th>75%</th>\n",
              "      <td>13034.5000</td>\n",
              "      <td>3.000000</td>\n",
              "      <td>1.000000</td>\n",
              "      <td>10.000000</td>\n",
              "      <td>18.000000</td>\n",
              "      <td>0.000000</td>\n",
              "      <td>5.000000</td>\n",
              "      <td>1.000000</td>\n",
              "      <td>2.000000</td>\n",
              "      <td>0.660000</td>\n",
              "      <td>0.621200</td>\n",
              "      <td>0.780000</td>\n",
              "      <td>0.253700</td>\n",
              "      <td>48.000000</td>\n",
              "      <td>220.000000</td>\n",
              "      <td>281.000000</td>\n",
              "    </tr>\n",
              "    <tr>\n",
              "      <th>max</th>\n",
              "      <td>17379.0000</td>\n",
              "      <td>4.000000</td>\n",
              "      <td>1.000000</td>\n",
              "      <td>12.000000</td>\n",
              "      <td>23.000000</td>\n",
              "      <td>1.000000</td>\n",
              "      <td>6.000000</td>\n",
              "      <td>1.000000</td>\n",
              "      <td>4.000000</td>\n",
              "      <td>1.000000</td>\n",
              "      <td>1.000000</td>\n",
              "      <td>1.000000</td>\n",
              "      <td>0.850700</td>\n",
              "      <td>367.000000</td>\n",
              "      <td>886.000000</td>\n",
              "      <td>977.000000</td>\n",
              "    </tr>\n",
              "  </tbody>\n",
              "</table>\n",
              "</div>"
            ],
            "text/plain": [
              "          instant        season            yr          mnth            hr  \\\n",
              "count  17379.0000  17379.000000  17379.000000  17379.000000  17379.000000   \n",
              "mean    8690.0000      2.501640      0.502561      6.537775     11.546752   \n",
              "std     5017.0295      1.106918      0.500008      3.438776      6.914405   \n",
              "min        1.0000      1.000000      0.000000      1.000000      0.000000   \n",
              "25%     4345.5000      2.000000      0.000000      4.000000      6.000000   \n",
              "50%     8690.0000      3.000000      1.000000      7.000000     12.000000   \n",
              "75%    13034.5000      3.000000      1.000000     10.000000     18.000000   \n",
              "max    17379.0000      4.000000      1.000000     12.000000     23.000000   \n",
              "\n",
              "            holiday       weekday    workingday    weathersit          temp  \\\n",
              "count  17379.000000  17379.000000  17379.000000  17379.000000  17379.000000   \n",
              "mean       0.028770      3.003683      0.682721      1.425283      0.496987   \n",
              "std        0.167165      2.005771      0.465431      0.639357      0.192556   \n",
              "min        0.000000      0.000000      0.000000      1.000000      0.020000   \n",
              "25%        0.000000      1.000000      0.000000      1.000000      0.340000   \n",
              "50%        0.000000      3.000000      1.000000      1.000000      0.500000   \n",
              "75%        0.000000      5.000000      1.000000      2.000000      0.660000   \n",
              "max        1.000000      6.000000      1.000000      4.000000      1.000000   \n",
              "\n",
              "              atemp           hum     windspeed        casual    registered  \\\n",
              "count  17379.000000  17379.000000  17379.000000  17379.000000  17379.000000   \n",
              "mean       0.475775      0.627229      0.190098     35.676218    153.786869   \n",
              "std        0.171850      0.192930      0.122340     49.305030    151.357286   \n",
              "min        0.000000      0.000000      0.000000      0.000000      0.000000   \n",
              "25%        0.333300      0.480000      0.104500      4.000000     34.000000   \n",
              "50%        0.484800      0.630000      0.194000     17.000000    115.000000   \n",
              "75%        0.621200      0.780000      0.253700     48.000000    220.000000   \n",
              "max        1.000000      1.000000      0.850700    367.000000    886.000000   \n",
              "\n",
              "                cnt  \n",
              "count  17379.000000  \n",
              "mean     189.463088  \n",
              "std      181.387599  \n",
              "min        1.000000  \n",
              "25%       40.000000  \n",
              "50%      142.000000  \n",
              "75%      281.000000  \n",
              "max      977.000000  "
            ]
          },
          "metadata": {
            "tags": []
          },
          "execution_count": 5
        }
      ]
    },
    {
      "metadata": {
        "id": "cfn0fdp1MbV3",
        "colab_type": "text"
      },
      "cell_type": "markdown",
      "source": [
        "## Checking out the data\n",
        "\n",
        "This dataset has the number of riders for each hour of each day from January 1 2011 to December 31 2012. The number of riders is split between casual and registered, summed up in the `cnt` column. You can see the first few rows of the data above.\n",
        "\n",
        "Below is a plot showing the number of bike riders over the first 10 days or so in the data set. (Some days don't have exactly 24 entries in the data set, so it's not exactly 10 days.) You can see the hourly rentals here. This data is pretty complicated! The weekends have lower over all ridership and there are spikes when people are biking to and from work during the week. Looking at the data above, we also have information about temperature, humidity, and windspeed, all of these likely affecting the number of riders. You'll be trying to capture all this with your model."
      ]
    },
    {
      "metadata": {
        "id": "rqUZYlA-MbV4",
        "colab_type": "code",
        "colab": {
          "base_uri": "https://localhost:8080/",
          "height": 270
        },
        "outputId": "ac67dc0d-b4b1-462a-94e1-3dcde6c159d8"
      },
      "cell_type": "code",
      "source": [
        "rides[:24*10].plot(x='dteday', y='cnt');"
      ],
      "execution_count": 6,
      "outputs": [
        {
          "output_type": "display_data",
          "data": {
            "image/png": "[encoded data removed]",
            "text/plain": [
              "<Figure size 432x288 with 1 Axes>"
            ]
          },
          "metadata": {
            "tags": [],
            "image/png": {
              "width": 372,
              "height": 253
            }
          }
        }
      ]
    },
    {
      "metadata": {
        "id": "sVn-Fnd-MbV7",
        "colab_type": "text"
      },
      "cell_type": "markdown",
      "source": [
        "### Dummy variables\n",
        "Here we have some categorical variables like season, weather, month. To include these in our model, we'll need to make binary dummy variables. This is simple to do with Pandas thanks to `get_dummies()`."
      ]
    },
    {
      "metadata": {
        "id": "AMZ01ylsMbV9",
        "colab_type": "code",
        "colab": {
          "base_uri": "https://localhost:8080/",
          "height": 244
        },
        "outputId": "6bcff3d6-aed5-4034-e1bc-5c654038403d"
      },
      "cell_type": "code",
      "source": [
        "dummy_fields = ['season', 'weathersit', 'mnth', 'hr', 'weekday']\n",
        "for each in dummy_fields:\n",
        "    dummies = pd.get_dummies(rides[each], prefix=each, drop_first=False)\n",
        "    rides = pd.concat([rides, dummies], axis=1)\n",
        "\n",
        "fields_to_drop = ['instant', 'dteday', 'season', 'weathersit', \n",
        "                  'weekday', 'atemp', 'mnth', 'workingday', 'hr']\n",
        "data = rides.drop(fields_to_drop, axis=1)\n",
        "data.head()"
      ],
      "execution_count": 7,
      "outputs": [
        {
          "output_type": "execute_result",
          "data": {
            "text/html": [
              "<div>\n",
              "<style scoped>\n",
              "    .dataframe tbody tr th:only-of-type {\n",
              "        vertical-align: middle;\n",
              "    }\n",
              "\n",
              "    .dataframe tbody tr th {\n",
              "        vertical-align: top;\n",
              "    }\n",
              "\n",
              "    .dataframe thead th {\n",
              "        text-align: right;\n",
              "    }\n",
              "</style>\n",
              "<table border=\"1\" class=\"dataframe\">\n",
              "  <thead>\n",
              "    <tr style=\"text-align: right;\">\n",
              "      <th></th>\n",
              "      <th>yr</th>\n",
              "      <th>holiday</th>\n",
              "      <th>temp</th>\n",
              "      <th>hum</th>\n",
              "      <th>windspeed</th>\n",
              "      <th>casual</th>\n",
              "      <th>registered</th>\n",
              "      <th>cnt</th>\n",
              "      <th>season_1</th>\n",
              "      <th>season_2</th>\n",
              "      <th>...</th>\n",
              "      <th>hr_21</th>\n",
              "      <th>hr_22</th>\n",
              "      <th>hr_23</th>\n",
              "      <th>weekday_0</th>\n",
              "      <th>weekday_1</th>\n",
              "      <th>weekday_2</th>\n",
              "      <th>weekday_3</th>\n",
              "      <th>weekday_4</th>\n",
              "      <th>weekday_5</th>\n",
              "      <th>weekday_6</th>\n",
              "    </tr>\n",
              "  </thead>\n",
              "  <tbody>\n",
              "    <tr>\n",
              "      <th>0</th>\n",
              "      <td>0</td>\n",
              "      <td>0</td>\n",
              "      <td>0.24</td>\n",
              "      <td>0.81</td>\n",
              "      <td>0.0</td>\n",
              "      <td>3</td>\n",
              "      <td>13</td>\n",
              "      <td>16</td>\n",
              "      <td>1</td>\n",
              "      <td>0</td>\n",
              "      <td>...</td>\n",
              "      <td>0</td>\n",
              "      <td>0</td>\n",
              "      <td>0</td>\n",
              "      <td>0</td>\n",
              "      <td>0</td>\n",
              "      <td>0</td>\n",
              "      <td>0</td>\n",
              "      <td>0</td>\n",
              "      <td>0</td>\n",
              "      <td>1</td>\n",
              "    </tr>\n",
              "    <tr>\n",
              "      <th>1</th>\n",
              "      <td>0</td>\n",
              "      <td>0</td>\n",
              "      <td>0.22</td>\n",
              "      <td>0.80</td>\n",
              "      <td>0.0</td>\n",
              "      <td>8</td>\n",
              "      <td>32</td>\n",
              "      <td>40</td>\n",
              "      <td>1</td>\n",
              "      <td>0</td>\n",
              "      <td>...</td>\n",
              "      <td>0</td>\n",
              "      <td>0</td>\n",
              "      <td>0</td>\n",
              "      <td>0</td>\n",
              "      <td>0</td>\n",
              "      <td>0</td>\n",
              "      <td>0</td>\n",
              "      <td>0</td>\n",
              "      <td>0</td>\n",
              "      <td>1</td>\n",
              "    </tr>\n",
              "    <tr>\n",
              "      <th>2</th>\n",
              "      <td>0</td>\n",
              "      <td>0</td>\n",
              "      <td>0.22</td>\n",
              "      <td>0.80</td>\n",
              "      <td>0.0</td>\n",
              "      <td>5</td>\n",
              "      <td>27</td>\n",
              "      <td>32</td>\n",
              "      <td>1</td>\n",
              "      <td>0</td>\n",
              "      <td>...</td>\n",
              "      <td>0</td>\n",
              "      <td>0</td>\n",
              "      <td>0</td>\n",
              "      <td>0</td>\n",
              "      <td>0</td>\n",
              "      <td>0</td>\n",
              "      <td>0</td>\n",
              "      <td>0</td>\n",
              "      <td>0</td>\n",
              "      <td>1</td>\n",
              "    </tr>\n",
              "    <tr>\n",
              "      <th>3</th>\n",
              "      <td>0</td>\n",
              "      <td>0</td>\n",
              "      <td>0.24</td>\n",
              "      <td>0.75</td>\n",
              "      <td>0.0</td>\n",
              "      <td>3</td>\n",
              "      <td>10</td>\n",
              "      <td>13</td>\n",
              "      <td>1</td>\n",
              "      <td>0</td>\n",
              "      <td>...</td>\n",
              "      <td>0</td>\n",
              "      <td>0</td>\n",
              "      <td>0</td>\n",
              "      <td>0</td>\n",
              "      <td>0</td>\n",
              "      <td>0</td>\n",
              "      <td>0</td>\n",
              "      <td>0</td>\n",
              "      <td>0</td>\n",
              "      <td>1</td>\n",
              "    </tr>\n",
              "    <tr>\n",
              "      <th>4</th>\n",
              "      <td>0</td>\n",
              "      <td>0</td>\n",
              "      <td>0.24</td>\n",
              "      <td>0.75</td>\n",
              "      <td>0.0</td>\n",
              "      <td>0</td>\n",
              "      <td>1</td>\n",
              "      <td>1</td>\n",
              "      <td>1</td>\n",
              "      <td>0</td>\n",
              "      <td>...</td>\n",
              "      <td>0</td>\n",
              "      <td>0</td>\n",
              "      <td>0</td>\n",
              "      <td>0</td>\n",
              "      <td>0</td>\n",
              "      <td>0</td>\n",
              "      <td>0</td>\n",
              "      <td>0</td>\n",
              "      <td>0</td>\n",
              "      <td>1</td>\n",
              "    </tr>\n",
              "  </tbody>\n",
              "</table>\n",
              "<p>5 rows × 59 columns</p>\n",
              "</div>"
            ],
            "text/plain": [
              "   yr  holiday  temp   hum  windspeed  casual  registered  cnt  season_1  \\\n",
              "0   0        0  0.24  0.81        0.0       3          13   16         1   \n",
              "1   0        0  0.22  0.80        0.0       8          32   40         1   \n",
              "2   0        0  0.22  0.80        0.0       5          27   32         1   \n",
              "3   0        0  0.24  0.75        0.0       3          10   13         1   \n",
              "4   0        0  0.24  0.75        0.0       0           1    1         1   \n",
              "\n",
              "   season_2    ...      hr_21  hr_22  hr_23  weekday_0  weekday_1  weekday_2  \\\n",
              "0         0    ...          0      0      0          0          0          0   \n",
              "1         0    ...          0      0      0          0          0          0   \n",
              "2         0    ...          0      0      0          0          0          0   \n",
              "3         0    ...          0      0      0          0          0          0   \n",
              "4         0    ...          0      0      0          0          0          0   \n",
              "\n",
              "   weekday_3  weekday_4  weekday_5  weekday_6  \n",
              "0          0          0          0          1  \n",
              "1          0          0          0          1  \n",
              "2          0          0          0          1  \n",
              "3          0          0          0          1  \n",
              "4          0          0          0          1  \n",
              "\n",
              "[5 rows x 59 columns]"
            ]
          },
          "metadata": {
            "tags": []
          },
          "execution_count": 7
        }
      ]
    },
    {
      "metadata": {
        "id": "utCg_Vs9MbV_",
        "colab_type": "text"
      },
      "cell_type": "markdown",
      "source": [
        "### Scaling target variables\n",
        "To make training the network easier, we'll standardize each of the continuous variables. That is, we'll shift and scale the variables such that they have zero mean and a standard deviation of 1.\n",
        "\n",
        "The scaling factors are saved so we can go backwards when we use the network for predictions."
      ]
    },
    {
      "metadata": {
        "id": "1ZugHcmvMbWA",
        "colab_type": "code",
        "colab": {
          "base_uri": "https://localhost:8080/",
          "height": 354
        },
        "outputId": "6bd4c8fa-8dfd-42c2-93b8-8d2fcdbdc3f5"
      },
      "cell_type": "code",
      "source": [
        "fig, ax = plt.subplots(1, 2, figsize=(20, 5))\n",
        "ax[0].set_title('Before scaling')\n",
        "\n",
        "quant_features = ['casual', 'registered', 'cnt', 'temp', 'hum', 'windspeed']\n",
        "\n",
        "data.boxplot(quant_features, ax=ax[0]);\n",
        "# Store scalings in a dictionary so we can convert back later\n",
        "scaled_features = {}\n",
        "for each in quant_features:\n",
        "    mean, std = data[each].mean(), data[each].std()\n",
        "    scaled_features[each] = [mean, std]\n",
        "    data.loc[:, each] = (data[each] - mean)/std\n",
        "\n",
        "ax[1].set_title('After scaling')\n",
        "data.boxplot(quant_features, ax=ax[1]);"
      ],
      "execution_count": 8,
      "outputs": [
        {
          "output_type": "display_data",
          "data": {
            "image/png": "[encoded data removed]",
            "text/plain": [
              "<Figure size 1440x360 with 2 Axes>"
            ]
          },
          "metadata": {
            "tags": [],
            "image/png": {
              "width": 1159,
              "height": 317
            }
          }
        }
      ]
    },
    {
      "metadata": {
        "id": "yzxMJ_cSMbWE",
        "colab_type": "text"
      },
      "cell_type": "markdown",
      "source": [
        "### Splitting the data into training, testing, and validation sets\n",
        "\n",
        "We'll save the data for the last approximately 21 days to use as a test set after we've trained the network. We'll use this set to make predictions and compare them with the actual number of riders."
      ]
    },
    {
      "metadata": {
        "id": "R_HSAgXTMbWE",
        "colab_type": "code",
        "colab": {}
      },
      "cell_type": "code",
      "source": [
        "# Save data for approximately the last 21 days \n",
        "test_data = data[-21*24:]\n",
        "\n",
        "# Now remove the test data from the data set \n",
        "data = data[:-21*24]\n",
        "\n",
        "# Separate the data into features and targets\n",
        "target_fields = ['cnt', 'casual', 'registered']\n",
        "features, targets = data.drop(target_fields, axis=1), data[target_fields]\n",
        "test_features, test_targets = test_data.drop(target_fields, axis=1), test_data[target_fields]"
      ],
      "execution_count": 0,
      "outputs": []
    },
    {
      "metadata": {
        "id": "fUuNXiFnMbWI",
        "colab_type": "text"
      },
      "cell_type": "markdown",
      "source": [
        "We'll split the data into two sets, one for training and one for validating as the network is being trained. Since this is time series data, we'll train on historical data, then try to predict on future data (the validation set)."
      ]
    },
    {
      "metadata": {
        "id": "xknTxictMbWJ",
        "colab_type": "code",
        "colab": {}
      },
      "cell_type": "code",
      "source": [
        "# Hold out the last 60 days or so of the remaining data as a validation set\n",
        "train_features, train_targets = features[:-60*24], targets[:-60*24]\n",
        "val_features, val_targets = features[-60*24:], targets[-60*24:]"
      ],
      "execution_count": 0,
      "outputs": []
    },
    {
      "metadata": {
        "id": "MS02XX6KMbWL",
        "colab_type": "text"
      },
      "cell_type": "markdown",
      "source": [
        "## Time to build the network\n",
        "\n",
        "Below you'll build your network. We've built out the structure. You'll implement both the forward pass and backwards pass through the network. You'll also set the hyperparameters: the learning rate, the number of hidden units, and the number of training passes.\n",
        "\n",
        "<img src=\"https://github.com/joaopamaral/deep-learning-v2-pytorch/blob/master/project-bikesharing/assets/neural_network.png?raw=1\" width=300px>\n",
        "\n",
        "The network has two layers, a hidden layer and an output layer. The hidden layer will use the sigmoid function for activations. The output layer has only one node and is used for the regression, the output of the node is the same as the input of the node. That is, the activation function is $f(x)=x$. A function that takes the input signal and generates an output signal, but takes into account the threshold, is called an activation function. We work through each layer of our network calculating the outputs for each neuron. All of the outputs from one layer become inputs to the neurons on the next layer. This process is called *forward propagation*.\n",
        "\n",
        "We use the weights to propagate signals forward from the input to the output layers in a neural network. We use the weights to also propagate error backwards from the output back into the network to update our weights. This is called *backpropagation*.\n",
        "\n",
        "> **Hint:** You'll need the derivative of the output activation function ($f(x) = x$) for the backpropagation implementation. If you aren't familiar with calculus, this function is equivalent to the equation $y = x$. What is the slope of that equation? That is the derivative of $f(x)$.\n",
        "\n",
        "Below, you have these tasks:\n",
        "1. Implement the sigmoid function to use as the activation function. Set `self.activation_function` in `__init__` to your sigmoid function.\n",
        "2. Implement the forward pass in the `train` method.\n",
        "3. Implement the backpropagation algorithm in the `train` method, including calculating the output error.\n",
        "4. Implement the forward pass in the `run` method.\n",
        "  "
      ]
    },
    {
      "metadata": {
        "id": "t9nDC5uSVVbK",
        "colab_type": "code",
        "colab": {}
      },
      "cell_type": "code",
      "source": [
        "if IN_COLAB:\n",
        "    !wget -q -N https://github.com/joaopamaral/deep-learning-v2-pytorch/raw/master/project-bikesharing/my_answers.py "
      ],
      "execution_count": 0,
      "outputs": []
    },
    {
      "metadata": {
        "id": "0p4zDa0KMbWM",
        "colab_type": "code",
        "colab": {}
      },
      "cell_type": "code",
      "source": [
        "#############\n",
        "# In the my_answers.py file, fill out the TODO sections as specified\n",
        "#############\n",
        "\n",
        "from my_answers import NeuralNetwork"
      ],
      "execution_count": 0,
      "outputs": []
    },
    {
      "metadata": {
        "id": "Q4ifiLgVMbWP",
        "colab_type": "code",
        "colab": {}
      },
      "cell_type": "code",
      "source": [
        "def MSE(y, Y):\n",
        "    return np.mean((y-Y)**2)"
      ],
      "execution_count": 0,
      "outputs": []
    },
    {
      "metadata": {
        "id": "W7okfFAAMbWS",
        "colab_type": "text"
      },
      "cell_type": "markdown",
      "source": [
        "## Unit tests\n",
        "\n",
        "Run these unit tests to check the correctness of your network implementation. This will help you be sure your network was implemented correctly befor you starting trying to train it. These tests must all be successful to pass the project."
      ]
    },
    {
      "metadata": {
        "id": "1Ef1MlfsMbWT",
        "colab_type": "code",
        "colab": {
          "base_uri": "https://localhost:8080/",
          "height": 454
        },
        "outputId": "4b1078f3-7a71-45e5-bea7-f5f847feee72"
      },
      "cell_type": "code",
      "source": [
        "import unittest\n",
        "\n",
        "inputs = np.array([[0.5, -0.2, 0.1]])\n",
        "targets = np.array([[0.4]])\n",
        "test_w_i_h = np.array([[0.1, -0.2],\n",
        "                       [0.4, 0.5],\n",
        "                       [-0.3, 0.2]])\n",
        "test_w_h_o = np.array([[0.3],\n",
        "                       [-0.1]])\n",
        "\n",
        "class TestMethods(unittest.TestCase):\n",
        "    \n",
        "    ##########\n",
        "    # Unit tests for data loading\n",
        "    ##########\n",
        "    \n",
        "    def test_data_path(self):\n",
        "        # Test that file path to dataset has been unaltered\n",
        "        self.assertTrue(data_path.lower() == 'bike-sharing-dataset/hour.csv')\n",
        "        \n",
        "    def test_data_loaded(self):\n",
        "        # Test that data frame loaded\n",
        "        self.assertTrue(isinstance(rides, pd.DataFrame))\n",
        "    \n",
        "    ##########\n",
        "    # Unit tests for network functionality\n",
        "    ##########\n",
        "\n",
        "    def test_activation(self):\n",
        "        network = NeuralNetwork(3, 2, 1, 0.5)\n",
        "        # Test that the activation function is a sigmoid\n",
        "        self.assertTrue(np.all(network.activation_function(0.5) == 1/(1+np.exp(-0.5))))\n",
        "\n",
        "    def test_train(self):\n",
        "        # Test that weights are updated correctly on training\n",
        "        network = NeuralNetwork(3, 2, 1, 0.5)\n",
        "        network.weights_input_to_hidden = test_w_i_h.copy()\n",
        "        network.weights_hidden_to_output = test_w_h_o.copy()\n",
        "        \n",
        "        network.train(inputs, targets)\n",
        "        self.assertTrue(np.allclose(network.weights_hidden_to_output, \n",
        "                                    np.array([[ 0.37275328], \n",
        "                                              [-0.03172939]])))\n",
        "        self.assertTrue(np.allclose(network.weights_input_to_hidden,\n",
        "                                    np.array([[ 0.10562014, -0.20185996], \n",
        "                                              [0.39775194, 0.50074398], \n",
        "                                              [-0.29887597, 0.19962801]])))\n",
        "\n",
        "    def test_run(self):\n",
        "        # Test correctness of run method\n",
        "        network = NeuralNetwork(3, 2, 1, 0.5)\n",
        "        network.weights_input_to_hidden = test_w_i_h.copy()\n",
        "        network.weights_hidden_to_output = test_w_h_o.copy()\n",
        "\n",
        "        self.assertTrue(np.allclose(network.run(inputs), 0.09998924))\n",
        "\n",
        "suite = unittest.TestLoader().loadTestsFromModule(TestMethods())\n",
        "unittest.TextTestRunner().run(suite)"
      ],
      "execution_count": 19,
      "outputs": [
        {
          "output_type": "stream",
          "text": [
            "...FE\n",
            "======================================================================\n",
            "ERROR: test_train (__main__.TestMethods)\n",
            "----------------------------------------------------------------------\n",
            "Traceback (most recent call last):\n",
            "  File \"<ipython-input-19-add1f7c23be2>\", line 40, in test_train\n",
            "    network.train(inputs, targets)\n",
            "  File \"/content/my_answers.py\", line 52, in train\n",
            "    delta_weights_i_h, delta_weights_h_o)\n",
            "  File \"/content/my_answers.py\", line 97, in backpropagation\n",
            "    hidden_error = np.dot(output_error_term, self.weights_hidden_to_output)\n",
            "ValueError: shapes (1,) and (2,1) not aligned: 1 (dim 0) != 2 (dim 0)\n",
            "\n",
            "======================================================================\n",
            "FAIL: test_run (__main__.TestMethods)\n",
            "----------------------------------------------------------------------\n",
            "Traceback (most recent call last):\n",
            "  File \"<ipython-input-19-add1f7c23be2>\", line 55, in test_run\n",
            "    self.assertTrue(np.allclose(network.run(inputs), 0.09998924))\n",
            "AssertionError: False is not true\n",
            "\n",
            "----------------------------------------------------------------------\n",
            "Ran 5 tests in 0.008s\n",
            "\n",
            "FAILED (failures=1, errors=1)\n"
          ],
          "name": "stderr"
        },
        {
          "output_type": "execute_result",
          "data": {
            "text/plain": [
              "<unittest.runner.TextTestResult run=5 errors=1 failures=1>"
            ]
          },
          "metadata": {
            "tags": []
          },
          "execution_count": 19
        }
      ]
    },
    {
      "metadata": {
        "id": "u89wRRN3MbWX",
        "colab_type": "text"
      },
      "cell_type": "markdown",
      "source": [
        "## Training the network\n",
        "\n",
        "Here you'll set the hyperparameters for the network. The strategy here is to find hyperparameters such that the error on the training set is low, but you're not overfitting to the data. If you train the network too long or have too many hidden nodes, it can become overly specific to the training set and will fail to generalize to the validation set. That is, the loss on the validation set will start increasing as the training set loss drops.\n",
        "\n",
        "You'll also be using a method know as Stochastic Gradient Descent (SGD) to train the network. The idea is that for each training pass, you grab a random sample of the data instead of using the whole data set. You use many more training passes than with normal gradient descent, but each pass is much faster. This ends up training the network more efficiently. You'll learn more about SGD later.\n",
        "\n",
        "### Choose the number of iterations\n",
        "This is the number of batches of samples from the training data we'll use to train the network. The more iterations you use, the better the model will fit the data. However, this process can have sharply diminishing returns and can waste computational resources if you use too many iterations.  You want to find a number here where the network has a low training loss, and the validation loss is at a minimum. The ideal number of iterations would be a level that stops shortly after the validation loss is no longer decreasing.\n",
        "\n",
        "### Choose the learning rate\n",
        "This scales the size of weight updates. If this is too big, the weights tend to explode and the network fails to fit the data. Normally a good choice to start at is 0.1; however, if you effectively divide the learning rate by n_records, try starting out with a learning rate of 1. In either case, if the network has problems fitting the data, try reducing the learning rate. Note that the lower the learning rate, the smaller the steps are in the weight updates and the longer it takes for the neural network to converge.\n",
        "\n",
        "### Choose the number of hidden nodes\n",
        "In a model where all the weights are optimized, the more hidden nodes you have, the more accurate the predictions of the model will be.  (A fully optimized model could have weights of zero, after all.) However, the more hidden nodes you have, the harder it will be to optimize the weights of the model, and the more likely it will be that suboptimal weights will lead to overfitting. With overfitting, the model will memorize the training data instead of learning the true pattern, and won't generalize well to unseen data.  \n",
        "\n",
        "Try a few different numbers and see how it affects the performance. You can look at the losses dictionary for a metric of the network performance. If the number of hidden units is too low, then the model won't have enough space to learn and if it is too high there are too many options for the direction that the learning can take. The trick here is to find the right balance in number of hidden units you choose.  You'll generally find that the best number of hidden nodes to use ends up being between the number of input and output nodes."
      ]
    },
    {
      "metadata": {
        "id": "zQAMNJCjMbWY",
        "colab_type": "code",
        "colab": {}
      },
      "cell_type": "code",
      "source": [
        "import sys\n",
        "\n",
        "####################\n",
        "### Set the hyperparameters in you myanswers.py file ###\n",
        "####################\n",
        "\n",
        "from my_answers import iterations, learning_rate, hidden_nodes, output_nodes\n",
        "\n",
        "\n",
        "N_i = train_features.shape[1]\n",
        "network = NeuralNetwork(N_i, hidden_nodes, output_nodes, learning_rate)\n",
        "\n",
        "losses = {'train':[], 'validation':[]}\n",
        "for ii in range(iterations):\n",
        "    # Go through a random batch of 128 records from the training data set\n",
        "    batch = np.random.choice(train_features.index, size=128)\n",
        "    X, y = train_features.ix[batch].values, train_targets.ix[batch]['cnt']\n",
        "                             \n",
        "    network.train(X, y)\n",
        "    \n",
        "    # Printing out the training progress\n",
        "    train_loss = MSE(network.run(train_features).T, train_targets['cnt'].values)\n",
        "    val_loss = MSE(network.run(val_features).T, val_targets['cnt'].values)\n",
        "    sys.stdout.write(\"\\rProgress: {:2.1f}\".format(100 * ii/float(iterations)) \\\n",
        "                     + \"% ... Training loss: \" + str(train_loss)[:5] \\\n",
        "                     + \" ... Validation loss: \" + str(val_loss)[:5])\n",
        "    sys.stdout.flush()\n",
        "    \n",
        "    losses['train'].append(train_loss)\n",
        "    losses['validation'].append(val_loss)"
      ],
      "execution_count": 0,
      "outputs": []
    },
    {
      "metadata": {
        "id": "a4QRi3bZMbWa",
        "colab_type": "code",
        "colab": {}
      },
      "cell_type": "code",
      "source": [
        "plt.plot(losses['train'], label='Training loss')\n",
        "plt.plot(losses['validation'], label='Validation loss')\n",
        "plt.legend()\n",
        "_ = plt.ylim()"
      ],
      "execution_count": 0,
      "outputs": []
    },
    {
      "metadata": {
        "id": "h8HtSjyFMbWe",
        "colab_type": "text"
      },
      "cell_type": "markdown",
      "source": [
        "## Check out your predictions\n",
        "\n",
        "Here, use the test data to view how well your network is modeling the data. If something is completely wrong here, make sure each step in your network is implemented correctly."
      ]
    },
    {
      "metadata": {
        "id": "4z9P6p-HMbWe",
        "colab_type": "code",
        "colab": {}
      },
      "cell_type": "code",
      "source": [
        "fig, ax = plt.subplots(figsize=(8,4))\n",
        "\n",
        "mean, std = scaled_features['cnt']\n",
        "predictions = network.run(test_features).T*std + mean\n",
        "ax.plot(predictions[0], label='Prediction')\n",
        "ax.plot((test_targets['cnt']*std + mean).values, label='Data')\n",
        "ax.set_xlim(right=len(predictions))\n",
        "ax.legend()\n",
        "\n",
        "dates = pd.to_datetime(rides.ix[test_data.index]['dteday'])\n",
        "dates = dates.apply(lambda d: d.strftime('%b %d'))\n",
        "ax.set_xticks(np.arange(len(dates))[12::24])\n",
        "_ = ax.set_xticklabels(dates[12::24], rotation=45)"
      ],
      "execution_count": 0,
      "outputs": []
    },
    {
      "metadata": {
        "id": "sNiYLcwGMbWj",
        "colab_type": "text"
      },
      "cell_type": "markdown",
      "source": [
        "## OPTIONAL: Thinking about your results(this question will not be evaluated in the rubric).\n",
        " \n",
        "Answer these questions about your results. How well does the model predict the data? Where does it fail? Why does it fail where it does?\n",
        "\n",
        "> **Note:** You can edit the text in this cell by double clicking on it. When you want to render the text, press control + enter\n",
        "\n",
        "#### Your answer below"
      ]
    }
  ]
}