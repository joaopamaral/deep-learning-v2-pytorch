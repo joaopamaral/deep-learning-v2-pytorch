{
  "nbformat": 4,
  "nbformat_minor": 0,
  "metadata": {
    "colab": {
      "name": "Character_Level_RNN_Exercise.ipynb",
      "version": "0.3.2",
      "provenance": [],
      "include_colab_link": true
    },
    "kernelspec": {
      "name": "python3",
      "display_name": "Python 3"
    },
    "accelerator": "GPU"
  },
  "cells": [
    {
      "cell_type": "markdown",
      "metadata": {
        "id": "view-in-github",
        "colab_type": "text"
      },
      "source": [
        "<a href=\"https://colab.research.google.com/github/joaopamaral/deep-learning-v2-pytorch/blob/master/recurrent-neural-networks/char-rnn/Character_Level_RNN_Exercise.ipynb\" target=\"_parent\"><img src=\"https://colab.research.google.com/assets/colab-badge.svg\" alt=\"Open In Colab\"/></a>"
      ]
    },
    {
      "metadata": {
        "id": "K4_Xg258orZV",
        "colab_type": "text"
      },
      "cell_type": "markdown",
      "source": [
        "# Character-Level LSTM in PyTorch\n",
        "\n",
        "In this notebook, I'll construct a character-level LSTM with PyTorch. The network will train character by character on some text, then generate new text character by character. As an example, I will train on Anna Karenina. **This model will be able to generate new text based on the text from the book!**\n",
        "\n",
        "This network is based off of Andrej Karpathy's [post on RNNs](http://karpathy.github.io/2015/05/21/rnn-effectiveness/) and [implementation in Torch](https://github.com/karpathy/char-rnn). Below is the general architecture of the character-wise RNN.\n",
        "\n",
        "<img src=\"https://github.com/joaopamaral/deep-learning-v2-pytorch/blob/master/recurrent-neural-networks/char-rnn/assets/charseq.jpeg?raw=1\" width=\"500\">"
      ]
    },
    {
      "metadata": {
        "id": "sjiGAM5joxb1",
        "colab_type": "code",
        "colab": {
          "base_uri": "https://localhost:8080/",
          "height": 54
        },
        "outputId": "40439076-6f9a-4d86-efe3-179db8a41dd8"
      },
      "cell_type": "code",
      "source": [
        "# http://pytorch.org/\n",
        "from os.path import exists\n",
        "from wheel.pep425tags import get_abbr_impl, get_impl_ver, get_abi_tag\n",
        "platform = '{}{}-{}'.format(get_abbr_impl(), get_impl_ver(), get_abi_tag())\n",
        "cuda_output = !ldconfig -p|grep cudart.so|sed -e 's/.*\\.\\([0-9]*\\)\\.\\([0-9]*\\)$/cu\\1\\2/'\n",
        "accelerator = cuda_output[0] if exists('/dev/nvidia0') else 'cpu'\n",
        "\n",
        "!pip install -q http://download.pytorch.org/whl/{accelerator}/torch-0.4.1-{platform}-linux_x86_64.whl torchvision"
      ],
      "execution_count": 1,
      "outputs": [
        {
          "output_type": "stream",
          "text": [
            "tcmalloc: large alloc 1073750016 bytes == 0x575d6000 @  0x7f9d4eb7f2a4 0x591a07 0x5b5d56 0x502e9a 0x506859 0x502209 0x502f3d 0x506859 0x504c28 0x502540 0x502f3d 0x506859 0x504c28 0x502540 0x502f3d 0x506859 0x504c28 0x502540 0x502f3d 0x507641 0x502209 0x502f3d 0x506859 0x504c28 0x502540 0x502f3d 0x507641 0x504c28 0x502540 0x502f3d 0x507641\n"
          ],
          "name": "stdout"
        }
      ]
    },
    {
      "metadata": {
        "id": "aVogeJNporZZ",
        "colab_type": "text"
      },
      "cell_type": "markdown",
      "source": [
        "First let's load in our required resources for data loading and model creation."
      ]
    },
    {
      "metadata": {
        "id": "-V9sxpOborZb",
        "colab_type": "code",
        "colab": {}
      },
      "cell_type": "code",
      "source": [
        "import numpy as np\n",
        "import torch\n",
        "from torch import nn\n",
        "import torch.nn.functional as F"
      ],
      "execution_count": 0,
      "outputs": []
    },
    {
      "metadata": {
        "id": "1JBhmlHBorZf",
        "colab_type": "text"
      },
      "cell_type": "markdown",
      "source": [
        "## Load in Data\n",
        "\n",
        "Then, we'll load the Anna Karenina text file and convert it into integers for our network to use. "
      ]
    },
    {
      "metadata": {
        "id": "pv6N2ek5orZg",
        "colab_type": "code",
        "colab": {
          "base_uri": "https://localhost:8080/",
          "height": 298
        },
        "outputId": "1afd7b8d-7bf6-4b68-967c-f60cb4268fff"
      },
      "cell_type": "code",
      "source": [
        "!wget -nc https://github.com/joaopamaral/deep-learning-v2-pytorch/raw/master/recurrent-neural-networks/char-rnn/data/anna.txt\n",
        "\n",
        "# open text file and read in data as `text`\n",
        "with open('anna.txt', 'r') as f:\n",
        "    text = f.read()"
      ],
      "execution_count": 3,
      "outputs": [
        {
          "output_type": "stream",
          "text": [
            "--2018-12-21 21:20:46--  https://github.com/joaopamaral/deep-learning-v2-pytorch/raw/master/recurrent-neural-networks/char-rnn/data/anna.txt\n",
            "Resolving github.com (github.com)... 192.30.253.112, 192.30.253.113\n",
            "Connecting to github.com (github.com)|192.30.253.112|:443... connected.\n",
            "HTTP request sent, awaiting response... 302 Found\n",
            "Location: https://raw.githubusercontent.com/joaopamaral/deep-learning-v2-pytorch/master/recurrent-neural-networks/char-rnn/data/anna.txt [following]\n",
            "--2018-12-21 21:20:47--  https://raw.githubusercontent.com/joaopamaral/deep-learning-v2-pytorch/master/recurrent-neural-networks/char-rnn/data/anna.txt\n",
            "Resolving raw.githubusercontent.com (raw.githubusercontent.com)... 151.101.0.133, 151.101.64.133, 151.101.128.133, ...\n",
            "Connecting to raw.githubusercontent.com (raw.githubusercontent.com)|151.101.0.133|:443... connected.\n",
            "HTTP request sent, awaiting response... 200 OK\n",
            "Length: 2025486 (1.9M) [text/plain]\n",
            "Saving to: ‘anna.txt’\n",
            "\n",
            "anna.txt            100%[===================>]   1.93M  --.-KB/s    in 0.07s   \n",
            "\n",
            "2018-12-21 21:20:47 (26.1 MB/s) - ‘anna.txt’ saved [2025486/2025486]\n",
            "\n"
          ],
          "name": "stdout"
        }
      ]
    },
    {
      "metadata": {
        "id": "YcS_EnJRorZj",
        "colab_type": "text"
      },
      "cell_type": "markdown",
      "source": [
        "Let's check out the first 100 characters, make sure everything is peachy. According to the [American Book Review](http://americanbookreview.org/100bestlines.asp), this is the 6th best first line of a book ever."
      ]
    },
    {
      "metadata": {
        "id": "lb4RswvcorZk",
        "colab_type": "code",
        "colab": {
          "base_uri": "https://localhost:8080/",
          "height": 34
        },
        "outputId": "2fb300a9-c5b9-4a72-9da9-e0fc38f4dfde"
      },
      "cell_type": "code",
      "source": [
        "text[:100]"
      ],
      "execution_count": 4,
      "outputs": [
        {
          "output_type": "execute_result",
          "data": {
            "text/plain": [
              "'Chapter 1\\n\\n\\nHappy families are all alike; every unhappy family is unhappy in its own\\nway.\\n\\nEverythin'"
            ]
          },
          "metadata": {
            "tags": []
          },
          "execution_count": 4
        }
      ]
    },
    {
      "metadata": {
        "id": "hQcbk6_porZn",
        "colab_type": "text"
      },
      "cell_type": "markdown",
      "source": [
        "### Tokenization\n",
        "\n",
        "In the cells, below, I'm creating a couple **dictionaries** to convert the characters to and from integers. Encoding the characters as integers makes it easier to use as input in the network."
      ]
    },
    {
      "metadata": {
        "id": "MwKhwtJnorZp",
        "colab_type": "code",
        "colab": {}
      },
      "cell_type": "code",
      "source": [
        "# encode the text and map each character to an integer and vice versa\n",
        "\n",
        "# we create two dictionaries:\n",
        "# 1. int2char, which maps integers to characters\n",
        "# 2. char2int, which maps characters to unique integers\n",
        "chars = tuple(set(text))\n",
        "int2char = dict(enumerate(chars))\n",
        "char2int = {ch: ii for ii, ch in int2char.items()}\n",
        "\n",
        "# encode the text\n",
        "encoded = np.array([char2int[ch] for ch in text])"
      ],
      "execution_count": 0,
      "outputs": []
    },
    {
      "metadata": {
        "id": "WIs-ayLsorZr",
        "colab_type": "text"
      },
      "cell_type": "markdown",
      "source": [
        "And we can see those same characters from above, encoded as integers."
      ]
    },
    {
      "metadata": {
        "id": "dx3g-r1sorZs",
        "colab_type": "code",
        "colab": {
          "base_uri": "https://localhost:8080/",
          "height": 122
        },
        "outputId": "4e424461-3b6f-461f-97e7-09d203204676"
      },
      "cell_type": "code",
      "source": [
        "encoded[:100]"
      ],
      "execution_count": 6,
      "outputs": [
        {
          "output_type": "execute_result",
          "data": {
            "text/plain": [
              "array([69, 29, 38, 60, 51, 75, 16, 34, 10, 77, 77, 77, 82, 38, 60, 60, 74,\n",
              "       34, 30, 38, 43,  3, 79,  3, 75, 20, 34, 38, 16, 75, 34, 38, 79, 79,\n",
              "       34, 38, 79,  3, 31, 75, 17, 34, 75, 33, 75, 16, 74, 34, 52, 39, 29,\n",
              "       38, 60, 60, 74, 34, 30, 38, 43,  3, 79, 74, 34,  3, 20, 34, 52, 39,\n",
              "       29, 38, 60, 60, 74, 34,  3, 39, 34,  3, 51, 20, 34, 53, 22, 39, 77,\n",
              "       22, 38, 74, 24, 77, 77, 27, 33, 75, 16, 74, 51, 29,  3, 39])"
            ]
          },
          "metadata": {
            "tags": []
          },
          "execution_count": 6
        }
      ]
    },
    {
      "metadata": {
        "id": "UUYGf-gAorZv",
        "colab_type": "text"
      },
      "cell_type": "markdown",
      "source": [
        "## Pre-processing the data\n",
        "\n",
        "As you can see in our char-RNN image above, our LSTM expects an input that is **one-hot encoded** meaning that each character is converted into an integer (via our created dictionary) and *then* converted into a column vector where only it's corresponding integer index will have the value of 1 and the rest of the vector will be filled with 0's. Since we're one-hot encoding the data, let's make a function to do that!\n"
      ]
    },
    {
      "metadata": {
        "id": "9iG4RWaXorZw",
        "colab_type": "code",
        "colab": {}
      },
      "cell_type": "code",
      "source": [
        "def one_hot_encode(arr, n_labels):\n",
        "    \n",
        "    # Initialize the the encoded array\n",
        "    one_hot = np.zeros((np.multiply(*arr.shape), n_labels), dtype=np.float32)\n",
        "    \n",
        "    # Fill the appropriate elements with ones\n",
        "    one_hot[np.arange(one_hot.shape[0]), arr.flatten()] = 1.\n",
        "    \n",
        "    # Finally reshape it to get back to the original array\n",
        "    one_hot = one_hot.reshape((*arr.shape, n_labels))\n",
        "    \n",
        "    return one_hot"
      ],
      "execution_count": 0,
      "outputs": []
    },
    {
      "metadata": {
        "id": "JVxRoVs3orZ0",
        "colab_type": "code",
        "colab": {
          "base_uri": "https://localhost:8080/",
          "height": 70
        },
        "outputId": "c8559712-49b3-49a5-c179-007d520a6ac4"
      },
      "cell_type": "code",
      "source": [
        "# check that the function works as expected\n",
        "test_seq = np.array([[3, 5, 1]])\n",
        "one_hot = one_hot_encode(test_seq, 8)\n",
        "\n",
        "print(one_hot)"
      ],
      "execution_count": 8,
      "outputs": [
        {
          "output_type": "stream",
          "text": [
            "[[[0. 0. 0. 1. 0. 0. 0. 0.]\n",
            "  [0. 0. 0. 0. 0. 1. 0. 0.]\n",
            "  [0. 1. 0. 0. 0. 0. 0. 0.]]]\n"
          ],
          "name": "stdout"
        }
      ]
    },
    {
      "metadata": {
        "id": "22qAyEyhorZ3",
        "colab_type": "text"
      },
      "cell_type": "markdown",
      "source": [
        "## Making training mini-batches\n",
        "\n",
        "\n",
        "To train on this data, we also want to create mini-batches for training. Remember that we want our batches to be multiple sequences of some desired number of sequence steps. Considering a simple example, our batches would look like this:\n",
        "\n",
        "<img src=\"https://github.com/joaopamaral/deep-learning-v2-pytorch/blob/master/recurrent-neural-networks/char-rnn/assets/sequence_batching@1x.png?raw=1\" width=500px>\n",
        "\n",
        "\n",
        "<br>\n",
        "\n",
        "In this example, we'll take the encoded characters (passed in as the `arr` parameter) and split them into multiple sequences, given by `batch_size`. Each of our sequences will be `seq_length` long.\n",
        "\n",
        "### Creating Batches\n",
        "\n",
        "**1. The first thing we need to do is discard some of the text so we only have completely full mini-batches. **\n",
        "\n",
        "Each batch contains $N \\times M$ characters, where $N$ is the batch size (the number of sequences in a batch) and $M$ is the seq_length or number of time steps in a sequence. Then, to get the total number of batches, $K$, that we can make from the array `arr`, you divide the length of `arr` by the number of characters per batch. Once you know the number of batches, you can get the total number of characters to keep from `arr`, $N * M * K$.\n",
        "\n",
        "**2. After that, we need to split `arr` into $N$ batches. ** \n",
        "\n",
        "You can do this using `arr.reshape(size)` where `size` is a tuple containing the dimensions sizes of the reshaped array. We know we want $N$ sequences in a batch, so let's make that the size of the first dimension. For the second dimension, you can use `-1` as a placeholder in the size, it'll fill up the array with the appropriate data for you. After this, you should have an array that is $N \\times (M * K)$.\n",
        "\n",
        "**3. Now that we have this array, we can iterate through it to get our mini-batches. **\n",
        "\n",
        "The idea is each batch is a $N \\times M$ window on the $N \\times (M * K)$ array. For each subsequent batch, the window moves over by `seq_length`. We also want to create both the input and target arrays. Remember that the targets are just the inputs shifted over by one character. The way I like to do this window is use `range` to take steps of size `n_steps` from $0$ to `arr.shape[1]`, the total number of tokens in each sequence. That way, the integers you get from `range` always point to the start of a batch, and each window is `seq_length` wide.\n",
        "\n",
        "> **TODO:** Write the code for creating batches in the function below. The exercises in this notebook _will not be easy_. I've provided a notebook with solutions alongside this notebook. If you get stuck, checkout the solutions. The most important thing is that you don't copy and paste the code into here, **type out the solution code yourself.**"
      ]
    },
    {
      "metadata": {
        "id": "QrmdiIPDorZ6",
        "colab_type": "code",
        "colab": {}
      },
      "cell_type": "code",
      "source": [
        "def get_batches(arr, batch_size, seq_length):\n",
        "    '''Create a generator that returns batches of size\n",
        "       batch_size x seq_length from arr.\n",
        "       \n",
        "       Arguments\n",
        "       ---------\n",
        "       arr: Array you want to make batches from\n",
        "       batch_size: Batch size, the number of sequences per batch\n",
        "       seq_length: Number of encoded chars in a sequence\n",
        "    '''\n",
        "    \n",
        "    batch_size_total = batch_size * seq_length\n",
        "    # total number of batches we can make\n",
        "    n_batches = len(arr)//batch_size_total\n",
        "    \n",
        "    # Keep only enough characters to make full batches\n",
        "    arr = arr[:n_batches * batch_size_total]\n",
        "    # Reshape into batch_size rows\n",
        "    arr = arr.reshape((batch_size, -1))\n",
        "    \n",
        "    # iterate through the array, one sequence at a time\n",
        "    for n in range(0, arr.shape[1], seq_length):\n",
        "        # The features\n",
        "        x = arr[:, n:n+seq_length]\n",
        "        # The targets, shifted by one\n",
        "        y = np.zeros_like(x)\n",
        "        try:\n",
        "            y[:, :-1], y[:, -1] = x[:, 1:], arr[:, n+seq_length]\n",
        "        except IndexError:\n",
        "            y[:, :-1], y[:, -1] = x[:, 1:], arr[:, 0]\n",
        "        yield x, y"
      ],
      "execution_count": 0,
      "outputs": []
    },
    {
      "metadata": {
        "id": "VPD2FaruorZ9",
        "colab_type": "text"
      },
      "cell_type": "markdown",
      "source": [
        "### Test Your Implementation\n",
        "\n",
        "Now I'll make some data sets and we can check out what's going on as we batch data. Here, as an example, I'm going to use a batch size of 8 and 50 sequence steps."
      ]
    },
    {
      "metadata": {
        "id": "Q5hCFpqiorZ-",
        "colab_type": "code",
        "colab": {}
      },
      "cell_type": "code",
      "source": [
        "batches = get_batches(encoded, 8, 50)\n",
        "x, y = next(batches)"
      ],
      "execution_count": 0,
      "outputs": []
    },
    {
      "metadata": {
        "id": "TTVoYiLOoraA",
        "colab_type": "code",
        "colab": {
          "base_uri": "https://localhost:8080/",
          "height": 351
        },
        "outputId": "00912d94-4c2a-4f5f-e008-0711daa3ca5b"
      },
      "cell_type": "code",
      "source": [
        "# printing out the first 10 items in a sequence\n",
        "print('x\\n', x[:10, :10])\n",
        "print('\\ny\\n', y[:10, :10])"
      ],
      "execution_count": 11,
      "outputs": [
        {
          "output_type": "stream",
          "text": [
            "x\n",
            " [[69 29 38 60 51 75 16 34 10 77]\n",
            " [20 53 39 34 51 29 38 51 34 38]\n",
            " [75 39 23 34 53 16 34 38 34 30]\n",
            " [20 34 51 29 75 34 66 29  3 75]\n",
            " [34 20 38 22 34 29 75 16 34 51]\n",
            " [66 52 20 20  3 53 39 34 38 39]\n",
            " [34 80 39 39 38 34 29 38 23 34]\n",
            " [40 11 79 53 39 20 31 74 24 34]]\n",
            "\n",
            "y\n",
            " [[29 38 60 51 75 16 34 10 77 77]\n",
            " [53 39 34 51 29 38 51 34 38 51]\n",
            " [39 23 34 53 16 34 38 34 30 53]\n",
            " [34 51 29 75 34 66 29  3 75 30]\n",
            " [20 38 22 34 29 75 16 34 51 75]\n",
            " [52 20 20  3 53 39 34 38 39 23]\n",
            " [80 39 39 38 34 29 38 23 34 20]\n",
            " [11 79 53 39 20 31 74 24 34 18]]\n"
          ],
          "name": "stdout"
        }
      ]
    },
    {
      "metadata": {
        "id": "WGyO1caboraD",
        "colab_type": "text"
      },
      "cell_type": "markdown",
      "source": [
        "If you implemented `get_batches` correctly, the above output should look something like \n",
        "```\n",
        "x\n",
        " [[25  8 60 11 45 27 28 73  1  2]\n",
        " [17  7 20 73 45  8 60 45 73 60]\n",
        " [27 20 80 73  7 28 73 60 73 65]\n",
        " [17 73 45  8 27 73 66  8 46 27]\n",
        " [73 17 60 12 73  8 27 28 73 45]\n",
        " [66 64 17 17 46  7 20 73 60 20]\n",
        " [73 76 20 20 60 73  8 60 80 73]\n",
        " [47 35 43  7 20 17 24 50 37 73]]\n",
        "\n",
        "y\n",
        " [[ 8 60 11 45 27 28 73  1  2  2]\n",
        " [ 7 20 73 45  8 60 45 73 60 45]\n",
        " [20 80 73  7 28 73 60 73 65  7]\n",
        " [73 45  8 27 73 66  8 46 27 65]\n",
        " [17 60 12 73  8 27 28 73 45 27]\n",
        " [64 17 17 46  7 20 73 60 20 80]\n",
        " [76 20 20 60 73  8 60 80 73 17]\n",
        " [35 43  7 20 17 24 50 37 73 36]]\n",
        " ```\n",
        " although the exact numbers may be different. Check to make sure the data is shifted over one step for `y`."
      ]
    },
    {
      "metadata": {
        "id": "OJS3ypOToraE",
        "colab_type": "text"
      },
      "cell_type": "markdown",
      "source": [
        "---\n",
        "## Defining the network with PyTorch\n",
        "\n",
        "Below is where you'll define the network.\n",
        "\n",
        "<img src=\"https://github.com/joaopamaral/deep-learning-v2-pytorch/blob/master/recurrent-neural-networks/char-rnn/assets/charRNN.png?raw=1\" width=500px>\n",
        "\n",
        "Next, you'll use PyTorch to define the architecture of the network. We start by defining the layers and operations we want. Then, define a method for the forward pass. You've also been given a method for predicting characters."
      ]
    },
    {
      "metadata": {
        "id": "gbBKRU_4oraF",
        "colab_type": "text"
      },
      "cell_type": "markdown",
      "source": [
        "### Model Structure\n",
        "\n",
        "In `__init__` the suggested structure is as follows:\n",
        "* Create and store the necessary dictionaries (this has been done for you)\n",
        "* Define an LSTM layer that takes as params: an input size (the number of characters), a hidden layer size `n_hidden`, a number of layers `n_layers`, a dropout probability `drop_prob`, and a batch_first boolean (True, since we are batching)\n",
        "* Define a dropout layer with `dropout_prob`\n",
        "* Define a fully-connected layer with params: input size `n_hidden` and output size (the number of characters)\n",
        "* Finally, initialize the weights (again, this has been given)\n",
        "\n",
        "Note that some parameters have been named and given in the `__init__` function, and we use them and store them by doing something like `self.drop_prob = drop_prob`."
      ]
    },
    {
      "metadata": {
        "id": "KCeNBoQ8oraF",
        "colab_type": "text"
      },
      "cell_type": "markdown",
      "source": [
        "---\n",
        "### LSTM Inputs/Outputs\n",
        "\n",
        "You can create a basic [LSTM layer](https://pytorch.org/docs/stable/nn.html#lstm) as follows\n",
        "\n",
        "```python\n",
        "self.lstm = nn.LSTM(input_size, n_hidden, n_layers, \n",
        "                            dropout=drop_prob, batch_first=True)\n",
        "```\n",
        "\n",
        "where `input_size` is the number of characters this cell expects to see as sequential input, and `n_hidden` is the number of units in the hidden layers in the cell. And we can add dropout by adding a dropout parameter with a specified probability; this will automatically add dropout to the inputs or outputs. Finally, in the `forward` function, we can stack up the LSTM cells into layers using `.view`. With this, you pass in a list of cells and it will send the output of one cell into the next cell.\n",
        "\n",
        "We also need to create an initial hidden state of all zeros. This is done like so\n",
        "\n",
        "```python\n",
        "self.init_hidden()\n",
        "```"
      ]
    },
    {
      "metadata": {
        "id": "36dzY-lyoraG",
        "colab_type": "code",
        "colab": {
          "base_uri": "https://localhost:8080/",
          "height": 34
        },
        "outputId": "4b529f2f-a5d2-4606-a496-17e588cf6818"
      },
      "cell_type": "code",
      "source": [
        "# check if GPU is available\n",
        "train_on_gpu = torch.cuda.is_available()\n",
        "if(train_on_gpu):\n",
        "    print('Training on GPU!')\n",
        "else: \n",
        "    print('No GPU available, training on CPU; consider making n_epochs very small.')"
      ],
      "execution_count": 12,
      "outputs": [
        {
          "output_type": "stream",
          "text": [
            "Training on GPU!\n"
          ],
          "name": "stdout"
        }
      ]
    },
    {
      "metadata": {
        "id": "Ox6jwOmGoraJ",
        "colab_type": "code",
        "colab": {}
      },
      "cell_type": "code",
      "source": [
        "class CharRNN(nn.Module):\n",
        "    \n",
        "    def __init__(self, tokens, n_hidden=256, n_layers=2,\n",
        "                               drop_prob=0.5, lr=0.001):\n",
        "        super().__init__()\n",
        "        self.drop_prob = drop_prob\n",
        "        self.n_layers = n_layers\n",
        "        self.n_hidden = n_hidden\n",
        "        self.lr = lr\n",
        "        \n",
        "        # creating character dictionaries\n",
        "        self.chars = tokens\n",
        "        self.int2char = dict(enumerate(self.chars))\n",
        "        self.char2int = {ch: ii for ii, ch in self.int2char.items()}\n",
        "        \n",
        "        ## TODO: define the LSTM\n",
        "        self.lstm = nn.LSTM(len(self.chars), n_hidden, n_layers, \n",
        "                            dropout=drop_prob, batch_first=True)\n",
        "        \n",
        "        ## TODO: define a dropout layer\n",
        "        self.dropout = nn.Dropout(drop_prob)\n",
        "        \n",
        "        ## TODO: define the final, fully-connected output layer\n",
        "        self.fc = nn.Linear(n_hidden, len(self.chars))\n",
        "      \n",
        "    \n",
        "    def forward(self, x, hidden):\n",
        "        ''' Forward pass through the network. \n",
        "            These inputs are x, and the hidden/cell state `hidden`. '''\n",
        "                \n",
        "        ## TODO: Get the outputs and the new hidden state from the lstm\n",
        "        r_output, hidden = self.lstm(x, hidden)\n",
        "        \n",
        "        ## TODO: pass through a dropout layer\n",
        "        out = self.dropout(r_output)\n",
        "        \n",
        "        # Stack up LSTM outputs using view\n",
        "        # you may need to use contiguous to reshape the output\n",
        "        out = out.contiguous().view(-1, self.n_hidden)\n",
        "        \n",
        "        ## TODO: put x through the fully-connected layer\n",
        "        out = self.fc(out)\n",
        "        \n",
        "        # return the final output and the hidden state\n",
        "        return out, hidden\n",
        "    \n",
        "    \n",
        "    def init_hidden(self, batch_size):\n",
        "        ''' Initializes hidden state '''\n",
        "        # Create two new tensors with sizes n_layers x batch_size x n_hidden,\n",
        "        # initialized to zero, for hidden state and cell state of LSTM\n",
        "        weight = next(self.parameters()).data\n",
        "        \n",
        "        if (train_on_gpu):\n",
        "            hidden = (weight.new(self.n_layers, batch_size, self.n_hidden).zero_().cuda(),\n",
        "                  weight.new(self.n_layers, batch_size, self.n_hidden).zero_().cuda())\n",
        "        else:\n",
        "            hidden = (weight.new(self.n_layers, batch_size, self.n_hidden).zero_(),\n",
        "                      weight.new(self.n_layers, batch_size, self.n_hidden).zero_())\n",
        "        \n",
        "        return hidden\n",
        "        "
      ],
      "execution_count": 0,
      "outputs": []
    },
    {
      "metadata": {
        "id": "vkQ3XYXLoraO",
        "colab_type": "text"
      },
      "cell_type": "markdown",
      "source": [
        "## Time to train\n",
        "\n",
        "The train function gives us the ability to set the number of epochs, the learning rate, and other parameters.\n",
        "\n",
        "Below we're using an Adam optimizer and cross entropy loss since we are looking at character class scores as output. We calculate the loss and perform backpropagation, as usual!\n",
        "\n",
        "A couple of details about training: \n",
        ">* Within the batch loop, we detach the hidden state from its history; this time setting it equal to a new *tuple* variable because an LSTM has a hidden state that is a tuple of the hidden and cell states.\n",
        "* We use [`clip_grad_norm_`](https://pytorch.org/docs/stable/_modules/torch/nn/utils/clip_grad.html) to help prevent exploding gradients."
      ]
    },
    {
      "metadata": {
        "id": "Crl2_HxvoraQ",
        "colab_type": "code",
        "colab": {}
      },
      "cell_type": "code",
      "source": [
        "def train(net, data, epochs=10, batch_size=10, seq_length=50, lr=0.001, clip=5, val_frac=0.1, print_every=10):\n",
        "    ''' Training a network \n",
        "    \n",
        "        Arguments\n",
        "        ---------\n",
        "        \n",
        "        net: CharRNN network\n",
        "        data: text data to train the network\n",
        "        epochs: Number of epochs to train\n",
        "        batch_size: Number of mini-sequences per mini-batch, aka batch size\n",
        "        seq_length: Number of character steps per mini-batch\n",
        "        lr: learning rate\n",
        "        clip: gradient clipping\n",
        "        val_frac: Fraction of data to hold out for validation\n",
        "        print_every: Number of steps for printing training and validation loss\n",
        "    \n",
        "    '''\n",
        "    net.train()\n",
        "    \n",
        "    opt = torch.optim.Adam(net.parameters(), lr=lr)\n",
        "    criterion = nn.CrossEntropyLoss()\n",
        "    \n",
        "    # create training and validation data\n",
        "    val_idx = int(len(data)*(1-val_frac))\n",
        "    data, val_data = data[:val_idx], data[val_idx:]\n",
        "    \n",
        "    if(train_on_gpu):\n",
        "        net.cuda()\n",
        "    \n",
        "    counter = 0\n",
        "    n_chars = len(net.chars)\n",
        "    for e in range(epochs):\n",
        "        # initialize hidden state\n",
        "        h = net.init_hidden(batch_size)\n",
        "        \n",
        "        for x, y in get_batches(data, batch_size, seq_length):\n",
        "            counter += 1\n",
        "            \n",
        "            # One-hot encode our data and make them Torch tensors\n",
        "            x = one_hot_encode(x, n_chars)\n",
        "            inputs, targets = torch.from_numpy(x), torch.from_numpy(y)\n",
        "            \n",
        "            if(train_on_gpu):\n",
        "                inputs, targets = inputs.cuda(), targets.cuda()\n",
        "\n",
        "            # Creating new variables for the hidden state, otherwise\n",
        "            # we'd backprop through the entire training history\n",
        "            h = tuple([each.data for each in h])\n",
        "\n",
        "            # zero accumulated gradients\n",
        "            net.zero_grad()\n",
        "            \n",
        "            # get the output from the model\n",
        "            output, h = net(inputs, h)\n",
        "            \n",
        "            # calculate the loss and perform backprop\n",
        "            loss = criterion(output, targets.view(batch_size*seq_length))\n",
        "            loss.backward()\n",
        "            # `clip_grad_norm` helps prevent the exploding gradient problem in RNNs / LSTMs.\n",
        "            nn.utils.clip_grad_norm_(net.parameters(), clip)\n",
        "            opt.step()\n",
        "            \n",
        "            # loss stats\n",
        "            if counter % print_every == 0:\n",
        "                # Get validation loss\n",
        "                val_h = net.init_hidden(batch_size)\n",
        "                val_losses = []\n",
        "                net.eval()\n",
        "                for x, y in get_batches(val_data, batch_size, seq_length):\n",
        "                    # One-hot encode our data and make them Torch tensors\n",
        "                    x = one_hot_encode(x, n_chars)\n",
        "                    x, y = torch.from_numpy(x), torch.from_numpy(y)\n",
        "                    \n",
        "                    # Creating new variables for the hidden state, otherwise\n",
        "                    # we'd backprop through the entire training history\n",
        "                    val_h = tuple([each.data for each in val_h])\n",
        "                    \n",
        "                    inputs, targets = x, y\n",
        "                    if(train_on_gpu):\n",
        "                        inputs, targets = inputs.cuda(), targets.cuda()\n",
        "\n",
        "                    output, val_h = net(inputs, val_h)\n",
        "                    val_loss = criterion(output, targets.view(batch_size*seq_length))\n",
        "                \n",
        "                    val_losses.append(val_loss.item())\n",
        "                \n",
        "                net.train() # reset to train mode after iterationg through validation data\n",
        "                \n",
        "                print(\"Epoch: {}/{}...\".format(e+1, epochs),\n",
        "                      \"Step: {}...\".format(counter),\n",
        "                      \"Loss: {:.4f}...\".format(loss.item()),\n",
        "                      \"Val Loss: {:.4f}\".format(np.mean(val_losses)))"
      ],
      "execution_count": 0,
      "outputs": []
    },
    {
      "metadata": {
        "id": "nl456l2JoraU",
        "colab_type": "text"
      },
      "cell_type": "markdown",
      "source": [
        "## Instantiating the model\n",
        "\n",
        "Now we can actually train the network. First we'll create the network itself, with some given hyperparameters. Then, define the mini-batches sizes, and start training!"
      ]
    },
    {
      "metadata": {
        "id": "B-1P8gWUoraW",
        "colab_type": "code",
        "colab": {
          "base_uri": "https://localhost:8080/",
          "height": 105
        },
        "outputId": "12ed8fd7-952a-40d7-ba33-c1c92616aa49"
      },
      "cell_type": "code",
      "source": [
        "## TODO: set you model hyperparameters\n",
        "# define and print the net\n",
        "n_hidden=512\n",
        "n_layers=2\n",
        "\n",
        "net = CharRNN(chars, n_hidden, n_layers)\n",
        "print(net)"
      ],
      "execution_count": 15,
      "outputs": [
        {
          "output_type": "stream",
          "text": [
            "CharRNN(\n",
            "  (lstm): LSTM(83, 512, num_layers=2, batch_first=True, dropout=0.5)\n",
            "  (dropout): Dropout(p=0.5)\n",
            "  (fc): Linear(in_features=512, out_features=83, bias=True)\n",
            ")\n"
          ],
          "name": "stdout"
        }
      ]
    },
    {
      "metadata": {
        "id": "Dyf8KwoZoraY",
        "colab_type": "text"
      },
      "cell_type": "markdown",
      "source": [
        "### Set your training hyperparameters!"
      ]
    },
    {
      "metadata": {
        "scrolled": true,
        "id": "CVP_-lL3oraa",
        "colab_type": "code",
        "colab": {
          "base_uri": "https://localhost:8080/",
          "height": 4910
        },
        "outputId": "62bcbae0-1828-4f40-93bf-99d3ed83eaae"
      },
      "cell_type": "code",
      "source": [
        "batch_size = 128\n",
        "seq_length = 100\n",
        "n_epochs = 20 # start smaller if you are just testing initial behavior\n",
        "\n",
        "# train the model\n",
        "train(net, encoded, epochs=n_epochs, batch_size=batch_size, seq_length=seq_length, lr=0.001, print_every=10)"
      ],
      "execution_count": 16,
      "outputs": [
        {
          "output_type": "stream",
          "text": [
            "Epoch: 1/20... Step: 10... Loss: 3.2549... Val Loss: 3.1951\n",
            "Epoch: 1/20... Step: 20... Loss: 3.1466... Val Loss: 3.1349\n",
            "Epoch: 1/20... Step: 30... Loss: 3.1385... Val Loss: 3.1223\n",
            "Epoch: 1/20... Step: 40... Loss: 3.1102... Val Loss: 3.1205\n",
            "Epoch: 1/20... Step: 50... Loss: 3.1428... Val Loss: 3.1178\n",
            "Epoch: 1/20... Step: 60... Loss: 3.1200... Val Loss: 3.1157\n",
            "Epoch: 1/20... Step: 70... Loss: 3.1089... Val Loss: 3.1137\n",
            "Epoch: 1/20... Step: 80... Loss: 3.1211... Val Loss: 3.1088\n",
            "Epoch: 1/20... Step: 90... Loss: 3.1139... Val Loss: 3.0968\n",
            "Epoch: 1/20... Step: 100... Loss: 3.0793... Val Loss: 3.0707\n",
            "Epoch: 1/20... Step: 110... Loss: 3.0309... Val Loss: 3.0042\n",
            "Epoch: 1/20... Step: 120... Loss: 2.9097... Val Loss: 2.8901\n",
            "Epoch: 1/20... Step: 130... Loss: 2.8240... Val Loss: 2.7743\n",
            "Epoch: 2/20... Step: 140... Loss: 2.7014... Val Loss: 2.6509\n",
            "Epoch: 2/20... Step: 150... Loss: 2.6225... Val Loss: 2.5695\n",
            "Epoch: 2/20... Step: 160... Loss: 2.5493... Val Loss: 2.5137\n",
            "Epoch: 2/20... Step: 170... Loss: 2.4818... Val Loss: 2.4763\n",
            "Epoch: 2/20... Step: 180... Loss: 2.4663... Val Loss: 2.4364\n",
            "Epoch: 2/20... Step: 190... Loss: 2.4059... Val Loss: 2.4014\n",
            "Epoch: 2/20... Step: 200... Loss: 2.4212... Val Loss: 2.3781\n",
            "Epoch: 2/20... Step: 210... Loss: 2.3712... Val Loss: 2.3489\n",
            "Epoch: 2/20... Step: 220... Loss: 2.3289... Val Loss: 2.3169\n",
            "Epoch: 2/20... Step: 230... Loss: 2.3197... Val Loss: 2.2874\n",
            "Epoch: 2/20... Step: 240... Loss: 2.2960... Val Loss: 2.2565\n",
            "Epoch: 2/20... Step: 250... Loss: 2.2303... Val Loss: 2.2323\n",
            "Epoch: 2/20... Step: 260... Loss: 2.2103... Val Loss: 2.2047\n",
            "Epoch: 2/20... Step: 270... Loss: 2.2079... Val Loss: 2.1797\n",
            "Epoch: 3/20... Step: 280... Loss: 2.2091... Val Loss: 2.1684\n",
            "Epoch: 3/20... Step: 290... Loss: 2.1757... Val Loss: 2.1380\n",
            "Epoch: 3/20... Step: 300... Loss: 2.1509... Val Loss: 2.1127\n",
            "Epoch: 3/20... Step: 310... Loss: 2.1171... Val Loss: 2.0954\n",
            "Epoch: 3/20... Step: 320... Loss: 2.0900... Val Loss: 2.0738\n",
            "Epoch: 3/20... Step: 330... Loss: 2.0657... Val Loss: 2.0609\n",
            "Epoch: 3/20... Step: 340... Loss: 2.0825... Val Loss: 2.0437\n",
            "Epoch: 3/20... Step: 350... Loss: 2.0665... Val Loss: 2.0223\n",
            "Epoch: 3/20... Step: 360... Loss: 1.9967... Val Loss: 2.0059\n",
            "Epoch: 3/20... Step: 370... Loss: 2.0217... Val Loss: 1.9882\n",
            "Epoch: 3/20... Step: 380... Loss: 1.9970... Val Loss: 1.9720\n",
            "Epoch: 3/20... Step: 390... Loss: 1.9687... Val Loss: 1.9584\n",
            "Epoch: 3/20... Step: 400... Loss: 1.9393... Val Loss: 1.9436\n",
            "Epoch: 3/20... Step: 410... Loss: 1.9638... Val Loss: 1.9333\n",
            "Epoch: 4/20... Step: 420... Loss: 1.9505... Val Loss: 1.9131\n",
            "Epoch: 4/20... Step: 430... Loss: 1.9299... Val Loss: 1.9019\n",
            "Epoch: 4/20... Step: 440... Loss: 1.9187... Val Loss: 1.8887\n",
            "Epoch: 4/20... Step: 450... Loss: 1.8617... Val Loss: 1.8714\n",
            "Epoch: 4/20... Step: 460... Loss: 1.8488... Val Loss: 1.8621\n",
            "Epoch: 4/20... Step: 470... Loss: 1.8787... Val Loss: 1.8552\n",
            "Epoch: 4/20... Step: 480... Loss: 1.8583... Val Loss: 1.8401\n",
            "Epoch: 4/20... Step: 490... Loss: 1.8552... Val Loss: 1.8278\n",
            "Epoch: 4/20... Step: 500... Loss: 1.8644... Val Loss: 1.8180\n",
            "Epoch: 4/20... Step: 510... Loss: 1.8319... Val Loss: 1.8076\n",
            "Epoch: 4/20... Step: 520... Loss: 1.8500... Val Loss: 1.7965\n",
            "Epoch: 4/20... Step: 530... Loss: 1.8123... Val Loss: 1.7903\n",
            "Epoch: 4/20... Step: 540... Loss: 1.7692... Val Loss: 1.7731\n",
            "Epoch: 4/20... Step: 550... Loss: 1.8109... Val Loss: 1.7640\n",
            "Epoch: 5/20... Step: 560... Loss: 1.7749... Val Loss: 1.7595\n",
            "Epoch: 5/20... Step: 570... Loss: 1.7669... Val Loss: 1.7451\n",
            "Epoch: 5/20... Step: 580... Loss: 1.7425... Val Loss: 1.7401\n",
            "Epoch: 5/20... Step: 590... Loss: 1.7472... Val Loss: 1.7328\n",
            "Epoch: 5/20... Step: 600... Loss: 1.7377... Val Loss: 1.7205\n",
            "Epoch: 5/20... Step: 610... Loss: 1.7160... Val Loss: 1.7128\n",
            "Epoch: 5/20... Step: 620... Loss: 1.7264... Val Loss: 1.7090\n",
            "Epoch: 5/20... Step: 630... Loss: 1.7336... Val Loss: 1.7012\n",
            "Epoch: 5/20... Step: 640... Loss: 1.7048... Val Loss: 1.6902\n",
            "Epoch: 5/20... Step: 650... Loss: 1.6913... Val Loss: 1.6824\n",
            "Epoch: 5/20... Step: 660... Loss: 1.6683... Val Loss: 1.6825\n",
            "Epoch: 5/20... Step: 670... Loss: 1.6886... Val Loss: 1.6734\n",
            "Epoch: 5/20... Step: 680... Loss: 1.6899... Val Loss: 1.6605\n",
            "Epoch: 5/20... Step: 690... Loss: 1.6691... Val Loss: 1.6591\n",
            "Epoch: 6/20... Step: 700... Loss: 1.6678... Val Loss: 1.6541\n",
            "Epoch: 6/20... Step: 710... Loss: 1.6552... Val Loss: 1.6424\n",
            "Epoch: 6/20... Step: 720... Loss: 1.6541... Val Loss: 1.6396\n",
            "Epoch: 6/20... Step: 730... Loss: 1.6585... Val Loss: 1.6309\n",
            "Epoch: 6/20... Step: 740... Loss: 1.6271... Val Loss: 1.6285\n",
            "Epoch: 6/20... Step: 750... Loss: 1.6098... Val Loss: 1.6227\n",
            "Epoch: 6/20... Step: 760... Loss: 1.6438... Val Loss: 1.6143\n",
            "Epoch: 6/20... Step: 770... Loss: 1.6266... Val Loss: 1.6096\n",
            "Epoch: 6/20... Step: 780... Loss: 1.6124... Val Loss: 1.6082\n",
            "Epoch: 6/20... Step: 790... Loss: 1.5929... Val Loss: 1.5995\n",
            "Epoch: 6/20... Step: 800... Loss: 1.6142... Val Loss: 1.5953\n",
            "Epoch: 6/20... Step: 810... Loss: 1.6008... Val Loss: 1.5894\n",
            "Epoch: 6/20... Step: 820... Loss: 1.5727... Val Loss: 1.5827\n",
            "Epoch: 6/20... Step: 830... Loss: 1.6071... Val Loss: 1.5826\n",
            "Epoch: 7/20... Step: 840... Loss: 1.5640... Val Loss: 1.5783\n",
            "Epoch: 7/20... Step: 850... Loss: 1.5778... Val Loss: 1.5729\n",
            "Epoch: 7/20... Step: 860... Loss: 1.5646... Val Loss: 1.5673\n",
            "Epoch: 7/20... Step: 870... Loss: 1.5730... Val Loss: 1.5632\n",
            "Epoch: 7/20... Step: 880... Loss: 1.5740... Val Loss: 1.5588\n",
            "Epoch: 7/20... Step: 890... Loss: 1.5710... Val Loss: 1.5597\n",
            "Epoch: 7/20... Step: 900... Loss: 1.5512... Val Loss: 1.5514\n",
            "Epoch: 7/20... Step: 910... Loss: 1.5210... Val Loss: 1.5476\n",
            "Epoch: 7/20... Step: 920... Loss: 1.5425... Val Loss: 1.5442\n",
            "Epoch: 7/20... Step: 930... Loss: 1.5319... Val Loss: 1.5419\n",
            "Epoch: 7/20... Step: 940... Loss: 1.5343... Val Loss: 1.5389\n",
            "Epoch: 7/20... Step: 950... Loss: 1.5617... Val Loss: 1.5346\n",
            "Epoch: 7/20... Step: 960... Loss: 1.5456... Val Loss: 1.5306\n",
            "Epoch: 7/20... Step: 970... Loss: 1.5457... Val Loss: 1.5242\n",
            "Epoch: 8/20... Step: 980... Loss: 1.5273... Val Loss: 1.5233\n",
            "Epoch: 8/20... Step: 990... Loss: 1.5132... Val Loss: 1.5164\n",
            "Epoch: 8/20... Step: 1000... Loss: 1.5161... Val Loss: 1.5137\n",
            "Epoch: 8/20... Step: 1010... Loss: 1.5615... Val Loss: 1.5099\n",
            "Epoch: 8/20... Step: 1020... Loss: 1.5240... Val Loss: 1.5078\n",
            "Epoch: 8/20... Step: 1030... Loss: 1.5034... Val Loss: 1.5065\n",
            "Epoch: 8/20... Step: 1040... Loss: 1.5158... Val Loss: 1.5044\n",
            "Epoch: 8/20... Step: 1050... Loss: 1.4890... Val Loss: 1.4987\n",
            "Epoch: 8/20... Step: 1060... Loss: 1.4988... Val Loss: 1.4968\n",
            "Epoch: 8/20... Step: 1070... Loss: 1.5028... Val Loss: 1.4936\n",
            "Epoch: 8/20... Step: 1080... Loss: 1.5004... Val Loss: 1.4935\n",
            "Epoch: 8/20... Step: 1090... Loss: 1.4803... Val Loss: 1.4866\n",
            "Epoch: 8/20... Step: 1100... Loss: 1.4729... Val Loss: 1.4813\n",
            "Epoch: 8/20... Step: 1110... Loss: 1.4782... Val Loss: 1.4797\n",
            "Epoch: 9/20... Step: 1120... Loss: 1.4918... Val Loss: 1.4814\n",
            "Epoch: 9/20... Step: 1130... Loss: 1.4827... Val Loss: 1.4755\n",
            "Epoch: 9/20... Step: 1140... Loss: 1.4784... Val Loss: 1.4737\n",
            "Epoch: 9/20... Step: 1150... Loss: 1.5005... Val Loss: 1.4703\n",
            "Epoch: 9/20... Step: 1160... Loss: 1.4524... Val Loss: 1.4671\n",
            "Epoch: 9/20... Step: 1170... Loss: 1.4656... Val Loss: 1.4647\n",
            "Epoch: 9/20... Step: 1180... Loss: 1.4572... Val Loss: 1.4648\n",
            "Epoch: 9/20... Step: 1190... Loss: 1.4831... Val Loss: 1.4609\n",
            "Epoch: 9/20... Step: 1200... Loss: 1.4383... Val Loss: 1.4597\n",
            "Epoch: 9/20... Step: 1210... Loss: 1.4478... Val Loss: 1.4558\n",
            "Epoch: 9/20... Step: 1220... Loss: 1.4481... Val Loss: 1.4535\n",
            "Epoch: 9/20... Step: 1230... Loss: 1.4272... Val Loss: 1.4566\n",
            "Epoch: 9/20... Step: 1240... Loss: 1.4372... Val Loss: 1.4490\n",
            "Epoch: 9/20... Step: 1250... Loss: 1.4486... Val Loss: 1.4487\n",
            "Epoch: 10/20... Step: 1260... Loss: 1.4470... Val Loss: 1.4479\n",
            "Epoch: 10/20... Step: 1270... Loss: 1.4449... Val Loss: 1.4478\n",
            "Epoch: 10/20... Step: 1280... Loss: 1.4496... Val Loss: 1.4443\n",
            "Epoch: 10/20... Step: 1290... Loss: 1.4431... Val Loss: 1.4400\n",
            "Epoch: 10/20... Step: 1300... Loss: 1.4256... Val Loss: 1.4351\n",
            "Epoch: 10/20... Step: 1310... Loss: 1.4376... Val Loss: 1.4325\n",
            "Epoch: 10/20... Step: 1320... Loss: 1.4096... Val Loss: 1.4362\n",
            "Epoch: 10/20... Step: 1330... Loss: 1.4098... Val Loss: 1.4310\n",
            "Epoch: 10/20... Step: 1340... Loss: 1.4016... Val Loss: 1.4306\n",
            "Epoch: 10/20... Step: 1350... Loss: 1.3901... Val Loss: 1.4296\n",
            "Epoch: 10/20... Step: 1360... Loss: 1.3984... Val Loss: 1.4284\n",
            "Epoch: 10/20... Step: 1370... Loss: 1.3856... Val Loss: 1.4254\n",
            "Epoch: 10/20... Step: 1380... Loss: 1.4341... Val Loss: 1.4231\n",
            "Epoch: 10/20... Step: 1390... Loss: 1.4285... Val Loss: 1.4198\n",
            "Epoch: 11/20... Step: 1400... Loss: 1.4348... Val Loss: 1.4183\n",
            "Epoch: 11/20... Step: 1410... Loss: 1.4435... Val Loss: 1.4168\n",
            "Epoch: 11/20... Step: 1420... Loss: 1.4250... Val Loss: 1.4104\n",
            "Epoch: 11/20... Step: 1430... Loss: 1.3953... Val Loss: 1.4141\n",
            "Epoch: 11/20... Step: 1440... Loss: 1.4297... Val Loss: 1.4098\n",
            "Epoch: 11/20... Step: 1450... Loss: 1.3579... Val Loss: 1.4072\n",
            "Epoch: 11/20... Step: 1460... Loss: 1.3807... Val Loss: 1.4069\n",
            "Epoch: 11/20... Step: 1470... Loss: 1.3694... Val Loss: 1.4075\n",
            "Epoch: 11/20... Step: 1480... Loss: 1.3897... Val Loss: 1.4023\n",
            "Epoch: 11/20... Step: 1490... Loss: 1.3720... Val Loss: 1.4023\n",
            "Epoch: 11/20... Step: 1500... Loss: 1.3715... Val Loss: 1.4074\n",
            "Epoch: 11/20... Step: 1510... Loss: 1.3535... Val Loss: 1.4037\n",
            "Epoch: 11/20... Step: 1520... Loss: 1.3828... Val Loss: 1.3990\n",
            "Epoch: 12/20... Step: 1530... Loss: 1.4437... Val Loss: 1.3960\n",
            "Epoch: 12/20... Step: 1540... Loss: 1.4009... Val Loss: 1.3938\n",
            "Epoch: 12/20... Step: 1550... Loss: 1.3897... Val Loss: 1.3965\n",
            "Epoch: 12/20... Step: 1560... Loss: 1.4096... Val Loss: 1.3908\n",
            "Epoch: 12/20... Step: 1570... Loss: 1.3694... Val Loss: 1.3923\n",
            "Epoch: 12/20... Step: 1580... Loss: 1.3357... Val Loss: 1.3900\n",
            "Epoch: 12/20... Step: 1590... Loss: 1.3394... Val Loss: 1.3872\n",
            "Epoch: 12/20... Step: 1600... Loss: 1.3680... Val Loss: 1.3889\n",
            "Epoch: 12/20... Step: 1610... Loss: 1.3441... Val Loss: 1.3896\n",
            "Epoch: 12/20... Step: 1620... Loss: 1.3544... Val Loss: 1.3852\n",
            "Epoch: 12/20... Step: 1630... Loss: 1.3741... Val Loss: 1.3854\n",
            "Epoch: 12/20... Step: 1640... Loss: 1.3587... Val Loss: 1.3869\n",
            "Epoch: 12/20... Step: 1650... Loss: 1.3224... Val Loss: 1.3857\n",
            "Epoch: 12/20... Step: 1660... Loss: 1.3880... Val Loss: 1.3839\n",
            "Epoch: 13/20... Step: 1670... Loss: 1.3475... Val Loss: 1.3856\n",
            "Epoch: 13/20... Step: 1680... Loss: 1.3567... Val Loss: 1.3744\n",
            "Epoch: 13/20... Step: 1690... Loss: 1.3440... Val Loss: 1.3782\n",
            "Epoch: 13/20... Step: 1700... Loss: 1.3364... Val Loss: 1.3768\n",
            "Epoch: 13/20... Step: 1710... Loss: 1.3167... Val Loss: 1.3739\n",
            "Epoch: 13/20... Step: 1720... Loss: 1.3277... Val Loss: 1.3740\n",
            "Epoch: 13/20... Step: 1730... Loss: 1.3670... Val Loss: 1.3670\n",
            "Epoch: 13/20... Step: 1740... Loss: 1.3315... Val Loss: 1.3742\n",
            "Epoch: 13/20... Step: 1750... Loss: 1.3082... Val Loss: 1.3701\n",
            "Epoch: 13/20... Step: 1760... Loss: 1.3283... Val Loss: 1.3698\n",
            "Epoch: 13/20... Step: 1770... Loss: 1.3499... Val Loss: 1.3681\n",
            "Epoch: 13/20... Step: 1780... Loss: 1.3241... Val Loss: 1.3688\n",
            "Epoch: 13/20... Step: 1790... Loss: 1.3126... Val Loss: 1.3694\n",
            "Epoch: 13/20... Step: 1800... Loss: 1.3354... Val Loss: 1.3681\n",
            "Epoch: 14/20... Step: 1810... Loss: 1.3388... Val Loss: 1.3665\n",
            "Epoch: 14/20... Step: 1820... Loss: 1.3252... Val Loss: 1.3642\n",
            "Epoch: 14/20... Step: 1830... Loss: 1.3425... Val Loss: 1.3585\n",
            "Epoch: 14/20... Step: 1840... Loss: 1.2958... Val Loss: 1.3629\n",
            "Epoch: 14/20... Step: 1850... Loss: 1.2702... Val Loss: 1.3600\n",
            "Epoch: 14/20... Step: 1860... Loss: 1.3341... Val Loss: 1.3533\n",
            "Epoch: 14/20... Step: 1870... Loss: 1.3414... Val Loss: 1.3499\n",
            "Epoch: 14/20... Step: 1880... Loss: 1.3282... Val Loss: 1.3538\n",
            "Epoch: 14/20... Step: 1890... Loss: 1.3475... Val Loss: 1.3569\n",
            "Epoch: 14/20... Step: 1900... Loss: 1.3218... Val Loss: 1.3555\n",
            "Epoch: 14/20... Step: 1910... Loss: 1.3244... Val Loss: 1.3543\n",
            "Epoch: 14/20... Step: 1920... Loss: 1.3235... Val Loss: 1.3501\n",
            "Epoch: 14/20... Step: 1930... Loss: 1.2771... Val Loss: 1.3541\n",
            "Epoch: 14/20... Step: 1940... Loss: 1.3498... Val Loss: 1.3544\n",
            "Epoch: 15/20... Step: 1950... Loss: 1.3089... Val Loss: 1.3508\n",
            "Epoch: 15/20... Step: 1960... Loss: 1.3095... Val Loss: 1.3492\n",
            "Epoch: 15/20... Step: 1970... Loss: 1.3120... Val Loss: 1.3468\n",
            "Epoch: 15/20... Step: 1980... Loss: 1.2872... Val Loss: 1.3480\n",
            "Epoch: 15/20... Step: 1990... Loss: 1.2951... Val Loss: 1.3471\n",
            "Epoch: 15/20... Step: 2000... Loss: 1.2806... Val Loss: 1.3484\n",
            "Epoch: 15/20... Step: 2010... Loss: 1.3105... Val Loss: 1.3463\n",
            "Epoch: 15/20... Step: 2020... Loss: 1.3197... Val Loss: 1.3463\n",
            "Epoch: 15/20... Step: 2030... Loss: 1.2897... Val Loss: 1.3440\n",
            "Epoch: 15/20... Step: 2040... Loss: 1.3069... Val Loss: 1.3434\n",
            "Epoch: 15/20... Step: 2050... Loss: 1.2924... Val Loss: 1.3439\n",
            "Epoch: 15/20... Step: 2060... Loss: 1.2981... Val Loss: 1.3403\n",
            "Epoch: 15/20... Step: 2070... Loss: 1.3142... Val Loss: 1.3397\n",
            "Epoch: 15/20... Step: 2080... Loss: 1.3040... Val Loss: 1.3434\n",
            "Epoch: 16/20... Step: 2090... Loss: 1.3022... Val Loss: 1.3415\n",
            "Epoch: 16/20... Step: 2100... Loss: 1.2811... Val Loss: 1.3375\n",
            "Epoch: 16/20... Step: 2110... Loss: 1.2774... Val Loss: 1.3336\n",
            "Epoch: 16/20... Step: 2120... Loss: 1.2869... Val Loss: 1.3371\n",
            "Epoch: 16/20... Step: 2130... Loss: 1.2652... Val Loss: 1.3362\n",
            "Epoch: 16/20... Step: 2140... Loss: 1.2849... Val Loss: 1.3354\n",
            "Epoch: 16/20... Step: 2150... Loss: 1.3125... Val Loss: 1.3372\n",
            "Epoch: 16/20... Step: 2160... Loss: 1.2840... Val Loss: 1.3343\n",
            "Epoch: 16/20... Step: 2170... Loss: 1.2813... Val Loss: 1.3321\n",
            "Epoch: 16/20... Step: 2180... Loss: 1.2758... Val Loss: 1.3300\n",
            "Epoch: 16/20... Step: 2190... Loss: 1.2990... Val Loss: 1.3300\n",
            "Epoch: 16/20... Step: 2200... Loss: 1.2719... Val Loss: 1.3323\n",
            "Epoch: 16/20... Step: 2210... Loss: 1.2340... Val Loss: 1.3296\n",
            "Epoch: 16/20... Step: 2220... Loss: 1.2831... Val Loss: 1.3316\n",
            "Epoch: 17/20... Step: 2230... Loss: 1.2619... Val Loss: 1.3263\n",
            "Epoch: 17/20... Step: 2240... Loss: 1.2643... Val Loss: 1.3249\n",
            "Epoch: 17/20... Step: 2250... Loss: 1.2516... Val Loss: 1.3225\n",
            "Epoch: 17/20... Step: 2260... Loss: 1.2583... Val Loss: 1.3262\n",
            "Epoch: 17/20... Step: 2270... Loss: 1.2676... Val Loss: 1.3276\n",
            "Epoch: 17/20... Step: 2280... Loss: 1.2859... Val Loss: 1.3261\n",
            "Epoch: 17/20... Step: 2290... Loss: 1.2741... Val Loss: 1.3246\n",
            "Epoch: 17/20... Step: 2300... Loss: 1.2332... Val Loss: 1.3215\n",
            "Epoch: 17/20... Step: 2310... Loss: 1.2674... Val Loss: 1.3188\n",
            "Epoch: 17/20... Step: 2320... Loss: 1.2571... Val Loss: 1.3210\n",
            "Epoch: 17/20... Step: 2330... Loss: 1.2557... Val Loss: 1.3216\n",
            "Epoch: 17/20... Step: 2340... Loss: 1.2675... Val Loss: 1.3235\n",
            "Epoch: 17/20... Step: 2350... Loss: 1.2769... Val Loss: 1.3201\n",
            "Epoch: 17/20... Step: 2360... Loss: 1.2889... Val Loss: 1.3173\n",
            "Epoch: 18/20... Step: 2370... Loss: 1.2501... Val Loss: 1.3156\n",
            "Epoch: 18/20... Step: 2380... Loss: 1.2459... Val Loss: 1.3156\n",
            "Epoch: 18/20... Step: 2390... Loss: 1.2603... Val Loss: 1.3154\n",
            "Epoch: 18/20... Step: 2400... Loss: 1.2758... Val Loss: 1.3165\n",
            "Epoch: 18/20... Step: 2410... Loss: 1.2725... Val Loss: 1.3197\n",
            "Epoch: 18/20... Step: 2420... Loss: 1.2568... Val Loss: 1.3149\n",
            "Epoch: 18/20... Step: 2430... Loss: 1.2582... Val Loss: 1.3148\n",
            "Epoch: 18/20... Step: 2440... Loss: 1.2473... Val Loss: 1.3131\n",
            "Epoch: 18/20... Step: 2450... Loss: 1.2486... Val Loss: 1.3097\n",
            "Epoch: 18/20... Step: 2460... Loss: 1.2590... Val Loss: 1.3131\n",
            "Epoch: 18/20... Step: 2470... Loss: 1.2529... Val Loss: 1.3124\n",
            "Epoch: 18/20... Step: 2480... Loss: 1.2362... Val Loss: 1.3093\n",
            "Epoch: 18/20... Step: 2490... Loss: 1.2290... Val Loss: 1.3063\n",
            "Epoch: 18/20... Step: 2500... Loss: 1.2394... Val Loss: 1.3019\n",
            "Epoch: 19/20... Step: 2510... Loss: 1.2524... Val Loss: 1.3003\n",
            "Epoch: 19/20... Step: 2520... Loss: 1.2583... Val Loss: 1.3053\n",
            "Epoch: 19/20... Step: 2530... Loss: 1.2553... Val Loss: 1.2993\n",
            "Epoch: 19/20... Step: 2540... Loss: 1.2710... Val Loss: 1.3045\n",
            "Epoch: 19/20... Step: 2550... Loss: 1.2357... Val Loss: 1.3022\n",
            "Epoch: 19/20... Step: 2560... Loss: 1.2447... Val Loss: 1.3027\n",
            "Epoch: 19/20... Step: 2570... Loss: 1.2328... Val Loss: 1.2987\n",
            "Epoch: 19/20... Step: 2580... Loss: 1.2573... Val Loss: 1.2960\n",
            "Epoch: 19/20... Step: 2590... Loss: 1.2251... Val Loss: 1.2922\n",
            "Epoch: 19/20... Step: 2600... Loss: 1.2243... Val Loss: 1.2992\n",
            "Epoch: 19/20... Step: 2610... Loss: 1.2290... Val Loss: 1.2990\n",
            "Epoch: 19/20... Step: 2620... Loss: 1.2179... Val Loss: 1.2961\n",
            "Epoch: 19/20... Step: 2630... Loss: 1.2190... Val Loss: 1.2905\n",
            "Epoch: 19/20... Step: 2640... Loss: 1.2359... Val Loss: 1.2901\n",
            "Epoch: 20/20... Step: 2650... Loss: 1.2336... Val Loss: 1.2958\n",
            "Epoch: 20/20... Step: 2660... Loss: 1.2375... Val Loss: 1.2947\n",
            "Epoch: 20/20... Step: 2670... Loss: 1.2458... Val Loss: 1.2947\n",
            "Epoch: 20/20... Step: 2680... Loss: 1.2406... Val Loss: 1.2947\n",
            "Epoch: 20/20... Step: 2690... Loss: 1.2307... Val Loss: 1.2941\n",
            "Epoch: 20/20... Step: 2700... Loss: 1.2328... Val Loss: 1.2858\n",
            "Epoch: 20/20... Step: 2710... Loss: 1.2060... Val Loss: 1.2869\n",
            "Epoch: 20/20... Step: 2720... Loss: 1.2096... Val Loss: 1.2879\n",
            "Epoch: 20/20... Step: 2730... Loss: 1.1977... Val Loss: 1.2856\n",
            "Epoch: 20/20... Step: 2740... Loss: 1.2021... Val Loss: 1.2899\n",
            "Epoch: 20/20... Step: 2750... Loss: 1.2090... Val Loss: 1.2865\n",
            "Epoch: 20/20... Step: 2760... Loss: 1.1956... Val Loss: 1.2891\n",
            "Epoch: 20/20... Step: 2770... Loss: 1.2317... Val Loss: 1.2795\n",
            "Epoch: 20/20... Step: 2780... Loss: 1.2642... Val Loss: 1.2762\n"
          ],
          "name": "stdout"
        }
      ]
    },
    {
      "metadata": {
        "id": "gtBB6igRorac",
        "colab_type": "text"
      },
      "cell_type": "markdown",
      "source": [
        "## Getting the best model\n",
        "\n",
        "To set your hyperparameters to get the best performance, you'll want to watch the training and validation losses. If your training loss is much lower than the validation loss, you're overfitting. Increase regularization (more dropout) or use a smaller network. If the training and validation losses are close, you're underfitting so you can increase the size of the network."
      ]
    },
    {
      "metadata": {
        "id": "RAp5FNAYorac",
        "colab_type": "text"
      },
      "cell_type": "markdown",
      "source": [
        "## Hyperparameters\n",
        "\n",
        "Here are the hyperparameters for the network.\n",
        "\n",
        "In defining the model:\n",
        "* `n_hidden` - The number of units in the hidden layers.\n",
        "* `n_layers` - Number of hidden LSTM layers to use.\n",
        "\n",
        "We assume that dropout probability and learning rate will be kept at the default, in this example.\n",
        "\n",
        "And in training:\n",
        "* `batch_size` - Number of sequences running through the network in one pass.\n",
        "* `seq_length` - Number of characters in the sequence the network is trained on. Larger is better typically, the network will learn more long range dependencies. But it takes longer to train. 100 is typically a good number here.\n",
        "* `lr` - Learning rate for training\n",
        "\n",
        "Here's some good advice from Andrej Karpathy on training the network. I'm going to copy it in here for your benefit, but also link to [where it originally came from](https://github.com/karpathy/char-rnn#tips-and-tricks).\n",
        "\n",
        "> ## Tips and Tricks\n",
        "\n",
        ">### Monitoring Validation Loss vs. Training Loss\n",
        ">If you're somewhat new to Machine Learning or Neural Networks it can take a bit of expertise to get good models. The most important quantity to keep track of is the difference between your training loss (printed during training) and the validation loss (printed once in a while when the RNN is run on the validation data (by default every 1000 iterations)). In particular:\n",
        "\n",
        "> - If your training loss is much lower than validation loss then this means the network might be **overfitting**. Solutions to this are to decrease your network size, or to increase dropout. For example you could try dropout of 0.5 and so on.\n",
        "> - If your training/validation loss are about equal then your model is **underfitting**. Increase the size of your model (either number of layers or the raw number of neurons per layer)\n",
        "\n",
        "> ### Approximate number of parameters\n",
        "\n",
        "> The two most important parameters that control the model are `n_hidden` and `n_layers`. I would advise that you always use `n_layers` of either 2/3. The `n_hidden` can be adjusted based on how much data you have. The two important quantities to keep track of here are:\n",
        "\n",
        "> - The number of parameters in your model. This is printed when you start training.\n",
        "> - The size of your dataset. 1MB file is approximately 1 million characters.\n",
        "\n",
        ">These two should be about the same order of magnitude. It's a little tricky to tell. Here are some examples:\n",
        "\n",
        "> - I have a 100MB dataset and I'm using the default parameter settings (which currently print 150K parameters). My data size is significantly larger (100 mil >> 0.15 mil), so I expect to heavily underfit. I am thinking I can comfortably afford to make `n_hidden` larger.\n",
        "> - I have a 10MB dataset and running a 10 million parameter model. I'm slightly nervous and I'm carefully monitoring my validation loss. If it's larger than my training loss then I may want to try to increase dropout a bit and see if that helps the validation loss.\n",
        "\n",
        "> ### Best models strategy\n",
        "\n",
        ">The winning strategy to obtaining very good models (if you have the compute time) is to always err on making the network larger (as large as you're willing to wait for it to compute) and then try different dropout values (between 0,1). Whatever model has the best validation performance (the loss, written in the checkpoint filename, low is good) is the one you should use in the end.\n",
        "\n",
        ">It is very common in deep learning to run many different models with many different hyperparameter settings, and in the end take whatever checkpoint gave the best validation performance.\n",
        "\n",
        ">By the way, the size of your training and validation splits are also parameters. Make sure you have a decent amount of data in your validation set or otherwise the validation performance will be noisy and not very informative."
      ]
    },
    {
      "metadata": {
        "id": "chhZvPdxorae",
        "colab_type": "text"
      },
      "cell_type": "markdown",
      "source": [
        "## Checkpoint\n",
        "\n",
        "After training, we'll save the model so we can load it again later if we need too. Here I'm saving the parameters needed to create the same architecture, the hidden layer hyperparameters and the text characters."
      ]
    },
    {
      "metadata": {
        "id": "NRSputbIoraf",
        "colab_type": "code",
        "colab": {}
      },
      "cell_type": "code",
      "source": [
        "# change the name, for saving multiple files\n",
        "model_name = 'rnn_x_epoch.net'\n",
        "\n",
        "checkpoint = {'n_hidden': net.n_hidden,\n",
        "              'n_layers': net.n_layers,\n",
        "              'state_dict': net.state_dict(),\n",
        "              'tokens': net.chars}\n",
        "\n",
        "with open(model_name, 'wb') as f:\n",
        "    torch.save(checkpoint, f)"
      ],
      "execution_count": 0,
      "outputs": []
    },
    {
      "metadata": {
        "id": "H2mHDZ2porah",
        "colab_type": "text"
      },
      "cell_type": "markdown",
      "source": [
        "---\n",
        "## Making Predictions\n",
        "\n",
        "Now that the model is trained, we'll want to sample from it and make predictions about next characters! To sample, we pass in a character and have the network predict the next character. Then we take that character, pass it back in, and get another predicted character. Just keep doing this and you'll generate a bunch of text!\n",
        "\n",
        "### A note on the `predict`  function\n",
        "\n",
        "The output of our RNN is from a fully-connected layer and it outputs a **distribution of next-character scores**.\n",
        "\n",
        "> To actually get the next character, we apply a softmax function, which gives us a *probability* distribution that we can then sample to predict the next character.\n",
        "\n",
        "### Top K sampling\n",
        "\n",
        "Our predictions come from a categorical probability distribution over all the possible characters. We can make the sample text and make it more reasonable to handle (with less variables) by only considering some $K$ most probable characters. This will prevent the network from giving us completely absurd characters while allowing it to introduce some noise and randomness into the sampled text. Read more about [topk, here](https://pytorch.org/docs/stable/torch.html#torch.topk).\n"
      ]
    },
    {
      "metadata": {
        "id": "-dLyIN6corai",
        "colab_type": "code",
        "colab": {}
      },
      "cell_type": "code",
      "source": [
        "def predict(net, char, h=None, top_k=None):\n",
        "        ''' Given a character, predict the next character.\n",
        "            Returns the predicted character and the hidden state.\n",
        "        '''\n",
        "        \n",
        "        # tensor inputs\n",
        "        x = np.array([[net.char2int[char]]])\n",
        "        x = one_hot_encode(x, len(net.chars))\n",
        "        inputs = torch.from_numpy(x)\n",
        "        \n",
        "        if(train_on_gpu):\n",
        "            inputs = inputs.cuda()\n",
        "        \n",
        "        # detach hidden state from history\n",
        "        h = tuple([each.data for each in h])\n",
        "        # get the output of the model\n",
        "        out, h = net(inputs, h)\n",
        "\n",
        "        # get the character probabilities\n",
        "        p = F.softmax(out, dim=1).data\n",
        "        if(train_on_gpu):\n",
        "            p = p.cpu() # move to cpu\n",
        "        \n",
        "        # get top characters\n",
        "        if top_k is None:\n",
        "            top_ch = np.arange(len(net.chars))\n",
        "        else:\n",
        "            p, top_ch = p.topk(top_k)\n",
        "            top_ch = top_ch.numpy().squeeze()\n",
        "        \n",
        "        # select the likely next character with some element of randomness\n",
        "        p = p.numpy().squeeze()\n",
        "        char = np.random.choice(top_ch, p=p/p.sum())\n",
        "        \n",
        "        # return the encoded value of the predicted char and the hidden state\n",
        "        return net.int2char[char], h"
      ],
      "execution_count": 0,
      "outputs": []
    },
    {
      "metadata": {
        "id": "R7O44J1Zorak",
        "colab_type": "text"
      },
      "cell_type": "markdown",
      "source": [
        "### Priming and generating text \n",
        "\n",
        "Typically you'll want to prime the network so you can build up a hidden state. Otherwise the network will start out generating characters at random. In general the first bunch of characters will be a little rough since it hasn't built up a long history of characters to predict from."
      ]
    },
    {
      "metadata": {
        "id": "o-Ini45_oral",
        "colab_type": "code",
        "colab": {}
      },
      "cell_type": "code",
      "source": [
        "def sample(net, size, prime='The', top_k=None):\n",
        "        \n",
        "    if(train_on_gpu):\n",
        "        net.cuda()\n",
        "    else:\n",
        "        net.cpu()\n",
        "    \n",
        "    net.eval() # eval mode\n",
        "    \n",
        "    # First off, run through the prime characters\n",
        "    chars = [ch for ch in prime]\n",
        "    h = net.init_hidden(1)\n",
        "    for ch in prime:\n",
        "        char, h = predict(net, ch, h, top_k=top_k)\n",
        "\n",
        "    chars.append(char)\n",
        "    \n",
        "    # Now pass in the previous character and get a new one\n",
        "    for ii in range(size):\n",
        "        char, h = predict(net, chars[-1], h, top_k=top_k)\n",
        "        chars.append(char)\n",
        "\n",
        "    return ''.join(chars)"
      ],
      "execution_count": 0,
      "outputs": []
    },
    {
      "metadata": {
        "id": "7UwHieFRoran",
        "colab_type": "code",
        "colab": {
          "base_uri": "https://localhost:8080/",
          "height": 386
        },
        "outputId": "79e27148-ca2e-4952-92b6-cf183fd3adf0"
      },
      "cell_type": "code",
      "source": [
        "print(sample(net, 1000, prime='Anna', top_k=5))"
      ],
      "execution_count": 20,
      "outputs": [
        {
          "output_type": "stream",
          "text": [
            "Anna was\n",
            "not that the means of the man, who had been done to say, which he were sitting,\n",
            "and and with him at the time that he had stopned on a change of hair and\n",
            "things and at time that they came out in what to say and wanted to say to her and to say that\n",
            "where she meet, when the drawing room, hid back to the musical steps, and as it\n",
            "had been still to be a part an ought back to himself, but she felt towards\n",
            "him in sick man, and a strange feeling to him and was so lovely and\n",
            "to say that to the doctors, twere a strange son simple thousand, and\n",
            "whether these wart man this was the fair of the marsh. He was sawing, trying to\n",
            "blame his heavily on sitting as he had sent to be always sitting that she came to his\n",
            "frue conscious of the man to him.\n",
            "\n",
            "\"I'm getting all, at the table?\" he said, smiling.\n",
            "\n",
            "The peasants then to bring the princess, he had been carried\n",
            "in hands.\n",
            "\n",
            "Though he could not tell me to his sufferings that\n",
            "they were saying to said.\n",
            "\n",
            "\"That's in the province is so,\" said Seryeyov. \"At the\n"
          ],
          "name": "stdout"
        }
      ]
    },
    {
      "metadata": {
        "id": "y8UHxoVaoraq",
        "colab_type": "text"
      },
      "cell_type": "markdown",
      "source": [
        "## Loading a checkpoint"
      ]
    },
    {
      "metadata": {
        "id": "DcYM_Awtoraq",
        "colab_type": "code",
        "colab": {}
      },
      "cell_type": "code",
      "source": [
        "# Here we have loaded in a model that trained over 20 epochs `rnn_20_epoch.net`\n",
        "with open('rnn_x_epoch.net', 'rb') as f:\n",
        "    checkpoint = torch.load(f)\n",
        "    \n",
        "loaded = CharRNN(checkpoint['tokens'], n_hidden=checkpoint['n_hidden'], n_layers=checkpoint['n_layers'])\n",
        "loaded.load_state_dict(checkpoint['state_dict'])"
      ],
      "execution_count": 0,
      "outputs": []
    },
    {
      "metadata": {
        "id": "zwjw0r1Zorau",
        "colab_type": "code",
        "colab": {
          "base_uri": "https://localhost:8080/",
          "height": 650
        },
        "outputId": "f182b7c5-7bda-43e3-9948-0c3cf994dbee"
      },
      "cell_type": "code",
      "source": [
        "# Sample using a loaded model\n",
        "print(sample(loaded, 2000, top_k=5, prime=\"And Levin said\"))"
      ],
      "execution_count": 22,
      "outputs": [
        {
          "output_type": "stream",
          "text": [
            "And Levin said: \"I am\n",
            "going, and there was simply.\n",
            "\n",
            "The sound, is to think. And this worse then is all to the supposities\n",
            "there was nothing. But the carriage, was almost so it.\"\n",
            "\n",
            "\"Oh, not as I don't said.\"\n",
            "\n",
            "\"I won't see you ask talking. I don't see. In the contrary is to say,\" said Sorge how.\n",
            "\n",
            "\"The same senden, are sorry, that yoo've been taken at the possibility,\n",
            "or sometimes always any people, that's a pickure, and she havent meen for\n",
            "you with my care. In her hearts. I was already for him. I'm not so much at the\n",
            "position, and I don't know. You don't know, and we are\n",
            "did, the stern-starts of cartes the carryands and the same\n",
            "thing thene's no talking of a stooping too, took him it would be the sound of me, that if\n",
            "you should stood it. It's not all the country, to distrest. It was anything in\n",
            "a subject to her humbally which we're satisfied in and all the part in the\n",
            "party, and with a compleating man, and then in what was so and more should be\n",
            "still to sponk out as you, I do to bring it. And, what's the simploring and other\n",
            "milliagh on the children. In the striggle they could not be\n",
            "tailing that it is so much some pities. The most solance, in my\n",
            "place. There's over it. It's\n",
            "all that way to speak of it, that you will be doubts, that I shall come. I share not\n",
            "be to say...\" he added. \"Why does never say, I\n",
            "have seen him as thinking at that though I am natural to him. I am to get the\n",
            "stands, and was a choremance.\"\n",
            "\n",
            "How say, they were at anything too word, and to him a complexe conscious\n",
            "of their stares; some subject the sound of some portraits he had beet so all of\n",
            "him; but it was in a look at the church. A still contembtuon of the secret\n",
            "complications with his father and thoughts and tone of this mind. He felt taken off the stole,\n",
            "the made his side that he had not the study and the cheating white sharp,\n",
            "the song of those wife was naturally as to go and\n",
            "tell him and some single courtes far in the close and this sones watching\n",
            "fresh bottle with their friends with an end was a completion.\n"
          ],
          "name": "stdout"
        }
      ]
    },
    {
      "metadata": {
        "id": "vR6b91PVoraw",
        "colab_type": "code",
        "colab": {}
      },
      "cell_type": "code",
      "source": [
        ""
      ],
      "execution_count": 0,
      "outputs": []
    }
  ]
}