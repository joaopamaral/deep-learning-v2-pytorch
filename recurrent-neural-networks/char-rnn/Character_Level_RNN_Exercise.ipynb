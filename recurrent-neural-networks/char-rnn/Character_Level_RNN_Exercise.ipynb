{
  "nbformat": 4,
  "nbformat_minor": 0,
  "metadata": {
    "colab": {
      "name": "Character_Level_RNN_Exercise.ipynb",
      "version": "0.3.2",
      "provenance": [],
      "include_colab_link": true
    },
    "kernelspec": {
      "name": "python3",
      "display_name": "Python 3"
    },
    "accelerator": "GPU"
  },
  "cells": [
    {
      "cell_type": "markdown",
      "metadata": {
        "id": "view-in-github",
        "colab_type": "text"
      },
      "source": [
        "<a href=\"https://colab.research.google.com/github/joaopamaral/deep-learning-v2-pytorch/blob/master/recurrent-neural-networks/char-rnn/Character_Level_RNN_Exercise.ipynb\" target=\"_parent\"><img src=\"https://colab.research.google.com/assets/colab-badge.svg\" alt=\"Open In Colab\"/></a>"
      ]
    },
    {
      "metadata": {
        "id": "K4_Xg258orZV",
        "colab_type": "text"
      },
      "cell_type": "markdown",
      "source": [
        "# Character-Level LSTM in PyTorch\n",
        "\n",
        "In this notebook, I'll construct a character-level LSTM with PyTorch. The network will train character by character on some text, then generate new text character by character. As an example, I will train on Anna Karenina. **This model will be able to generate new text based on the text from the book!**\n",
        "\n",
        "This network is based off of Andrej Karpathy's [post on RNNs](http://karpathy.github.io/2015/05/21/rnn-effectiveness/) and [implementation in Torch](https://github.com/karpathy/char-rnn). Below is the general architecture of the character-wise RNN.\n",
        "\n",
        "<img src=\"https://github.com/joaopamaral/deep-learning-v2-pytorch/blob/master/recurrent-neural-networks/char-rnn/assets/charseq.jpeg?raw=1\" width=\"500\">"
      ]
    },
    {
      "metadata": {
        "id": "aVogeJNporZZ",
        "colab_type": "text"
      },
      "cell_type": "markdown",
      "source": [
        "First let's load in our required resources for data loading and model creation."
      ]
    },
    {
      "metadata": {
        "id": "-V9sxpOborZb",
        "colab_type": "code",
        "colab": {}
      },
      "cell_type": "code",
      "source": [
        "import numpy as np\n",
        "import torch\n",
        "from torch import nn\n",
        "import torch.nn.functional as F"
      ],
      "execution_count": 0,
      "outputs": []
    },
    {
      "metadata": {
        "id": "1JBhmlHBorZf",
        "colab_type": "text"
      },
      "cell_type": "markdown",
      "source": [
        "## Load in Data\n",
        "\n",
        "Then, we'll load the Anna Karenina text file and convert it into integers for our network to use. "
      ]
    },
    {
      "metadata": {
        "id": "pv6N2ek5orZg",
        "colab_type": "code",
        "colab": {}
      },
      "cell_type": "code",
      "source": [
        "!wget -nc -q https://github.com/joaopamaral/deep-learning-v2-pytorch/raw/master/recurrent-neural-networks/char-rnn/data/anna.txt\n",
        "\n",
        "# open text file and read in data as `text`\n",
        "with open('anna.txt', 'r') as f:\n",
        "    text = f.read()"
      ],
      "execution_count": 0,
      "outputs": []
    },
    {
      "metadata": {
        "id": "YcS_EnJRorZj",
        "colab_type": "text"
      },
      "cell_type": "markdown",
      "source": [
        "Let's check out the first 100 characters, make sure everything is peachy. According to the [American Book Review](http://americanbookreview.org/100bestlines.asp), this is the 6th best first line of a book ever."
      ]
    },
    {
      "metadata": {
        "id": "lb4RswvcorZk",
        "colab_type": "code",
        "outputId": "3b6be92b-18d7-486b-f285-6ac46bbf32aa",
        "colab": {
          "base_uri": "https://localhost:8080/",
          "height": 34
        }
      },
      "cell_type": "code",
      "source": [
        "text[:100]"
      ],
      "execution_count": 3,
      "outputs": [
        {
          "output_type": "execute_result",
          "data": {
            "text/plain": [
              "'Chapter 1\\n\\n\\nHappy families are all alike; every unhappy family is unhappy in its own\\nway.\\n\\nEverythin'"
            ]
          },
          "metadata": {
            "tags": []
          },
          "execution_count": 3
        }
      ]
    },
    {
      "metadata": {
        "id": "hQcbk6_porZn",
        "colab_type": "text"
      },
      "cell_type": "markdown",
      "source": [
        "### Tokenization\n",
        "\n",
        "In the cells, below, I'm creating a couple **dictionaries** to convert the characters to and from integers. Encoding the characters as integers makes it easier to use as input in the network."
      ]
    },
    {
      "metadata": {
        "id": "MwKhwtJnorZp",
        "colab_type": "code",
        "colab": {}
      },
      "cell_type": "code",
      "source": [
        "# encode the text and map each character to an integer and vice versa\n",
        "\n",
        "# we create two dictionaries:\n",
        "# 1. int2char, which maps integers to characters\n",
        "# 2. char2int, which maps characters to unique integers\n",
        "chars = tuple(set(text))\n",
        "int2char = dict(enumerate(chars))\n",
        "char2int = {ch: ii for ii, ch in int2char.items()}\n",
        "\n",
        "# encode the text\n",
        "encoded = np.array([char2int[ch] for ch in text])"
      ],
      "execution_count": 0,
      "outputs": []
    },
    {
      "metadata": {
        "id": "WIs-ayLsorZr",
        "colab_type": "text"
      },
      "cell_type": "markdown",
      "source": [
        "And we can see those same characters from above, encoded as integers."
      ]
    },
    {
      "metadata": {
        "id": "dx3g-r1sorZs",
        "colab_type": "code",
        "outputId": "4e424461-3b6f-461f-97e7-09d203204676",
        "colab": {
          "base_uri": "https://localhost:8080/",
          "height": 122
        }
      },
      "cell_type": "code",
      "source": [
        "encoded[:100]"
      ],
      "execution_count": 0,
      "outputs": [
        {
          "output_type": "execute_result",
          "data": {
            "text/plain": [
              "array([69, 29, 38, 60, 51, 75, 16, 34, 10, 77, 77, 77, 82, 38, 60, 60, 74,\n",
              "       34, 30, 38, 43,  3, 79,  3, 75, 20, 34, 38, 16, 75, 34, 38, 79, 79,\n",
              "       34, 38, 79,  3, 31, 75, 17, 34, 75, 33, 75, 16, 74, 34, 52, 39, 29,\n",
              "       38, 60, 60, 74, 34, 30, 38, 43,  3, 79, 74, 34,  3, 20, 34, 52, 39,\n",
              "       29, 38, 60, 60, 74, 34,  3, 39, 34,  3, 51, 20, 34, 53, 22, 39, 77,\n",
              "       22, 38, 74, 24, 77, 77, 27, 33, 75, 16, 74, 51, 29,  3, 39])"
            ]
          },
          "metadata": {
            "tags": []
          },
          "execution_count": 6
        }
      ]
    },
    {
      "metadata": {
        "id": "UUYGf-gAorZv",
        "colab_type": "text"
      },
      "cell_type": "markdown",
      "source": [
        "## Pre-processing the data\n",
        "\n",
        "As you can see in our char-RNN image above, our LSTM expects an input that is **one-hot encoded** meaning that each character is converted into an integer (via our created dictionary) and *then* converted into a column vector where only it's corresponding integer index will have the value of 1 and the rest of the vector will be filled with 0's. Since we're one-hot encoding the data, let's make a function to do that!\n"
      ]
    },
    {
      "metadata": {
        "id": "9iG4RWaXorZw",
        "colab_type": "code",
        "colab": {}
      },
      "cell_type": "code",
      "source": [
        "def one_hot_encode(arr, n_labels):\n",
        "    \n",
        "    # Initialize the the encoded array\n",
        "    one_hot = np.zeros((np.multiply(*arr.shape), n_labels), dtype=np.float32)\n",
        "    \n",
        "    # Fill the appropriate elements with ones\n",
        "    one_hot[np.arange(one_hot.shape[0]), arr.flatten()] = 1.\n",
        "    \n",
        "    # Finally reshape it to get back to the original array\n",
        "    one_hot = one_hot.reshape((*arr.shape, n_labels))\n",
        "    \n",
        "    return one_hot"
      ],
      "execution_count": 0,
      "outputs": []
    },
    {
      "metadata": {
        "id": "JVxRoVs3orZ0",
        "colab_type": "code",
        "outputId": "85f0026a-51e0-403d-937f-581ac24ebe64",
        "colab": {
          "base_uri": "https://localhost:8080/",
          "height": 67
        }
      },
      "cell_type": "code",
      "source": [
        "# check that the function works as expected\n",
        "test_seq = np.array([[3, 5, 1]])\n",
        "one_hot = one_hot_encode(test_seq, 8)\n",
        "\n",
        "print(one_hot)"
      ],
      "execution_count": 6,
      "outputs": [
        {
          "output_type": "stream",
          "text": [
            "[[[0. 0. 0. 1. 0. 0. 0. 0.]\n",
            "  [0. 0. 0. 0. 0. 1. 0. 0.]\n",
            "  [0. 1. 0. 0. 0. 0. 0. 0.]]]\n"
          ],
          "name": "stdout"
        }
      ]
    },
    {
      "metadata": {
        "id": "22qAyEyhorZ3",
        "colab_type": "text"
      },
      "cell_type": "markdown",
      "source": [
        "## Making training mini-batches\n",
        "\n",
        "\n",
        "To train on this data, we also want to create mini-batches for training. Remember that we want our batches to be multiple sequences of some desired number of sequence steps. Considering a simple example, our batches would look like this:\n",
        "\n",
        "<img src=\"https://github.com/joaopamaral/deep-learning-v2-pytorch/blob/master/recurrent-neural-networks/char-rnn/assets/sequence_batching@1x.png?raw=1\" width=500px>\n",
        "\n",
        "\n",
        "<br>\n",
        "\n",
        "In this example, we'll take the encoded characters (passed in as the `arr` parameter) and split them into multiple sequences, given by `batch_size`. Each of our sequences will be `seq_length` long.\n",
        "\n",
        "### Creating Batches\n",
        "\n",
        "**1. The first thing we need to do is discard some of the text so we only have completely full mini-batches. **\n",
        "\n",
        "Each batch contains $N \\times M$ characters, where $N$ is the batch size (the number of sequences in a batch) and $M$ is the seq_length or number of time steps in a sequence. Then, to get the total number of batches, $K$, that we can make from the array `arr`, you divide the length of `arr` by the number of characters per batch. Once you know the number of batches, you can get the total number of characters to keep from `arr`, $N * M * K$.\n",
        "\n",
        "**2. After that, we need to split `arr` into $N$ batches. ** \n",
        "\n",
        "You can do this using `arr.reshape(size)` where `size` is a tuple containing the dimensions sizes of the reshaped array. We know we want $N$ sequences in a batch, so let's make that the size of the first dimension. For the second dimension, you can use `-1` as a placeholder in the size, it'll fill up the array with the appropriate data for you. After this, you should have an array that is $N \\times (M * K)$.\n",
        "\n",
        "**3. Now that we have this array, we can iterate through it to get our mini-batches. **\n",
        "\n",
        "The idea is each batch is a $N \\times M$ window on the $N \\times (M * K)$ array. For each subsequent batch, the window moves over by `seq_length`. We also want to create both the input and target arrays. Remember that the targets are just the inputs shifted over by one character. The way I like to do this window is use `range` to take steps of size `n_steps` from $0$ to `arr.shape[1]`, the total number of tokens in each sequence. That way, the integers you get from `range` always point to the start of a batch, and each window is `seq_length` wide.\n",
        "\n",
        "> **TODO:** Write the code for creating batches in the function below. The exercises in this notebook _will not be easy_. I've provided a notebook with solutions alongside this notebook. If you get stuck, checkout the solutions. The most important thing is that you don't copy and paste the code into here, **type out the solution code yourself.**"
      ]
    },
    {
      "metadata": {
        "id": "QrmdiIPDorZ6",
        "colab_type": "code",
        "colab": {}
      },
      "cell_type": "code",
      "source": [
        "def get_batches(arr, batch_size, seq_length):\n",
        "    '''Create a generator that returns batches of size\n",
        "       batch_size x seq_length from arr.\n",
        "       \n",
        "       Arguments\n",
        "       ---------\n",
        "       arr: Array you want to make batches from\n",
        "       batch_size: Batch size, the number of sequences per batch\n",
        "       seq_length: Number of encoded chars in a sequence\n",
        "    '''\n",
        "    \n",
        "    batch_size_total = batch_size * seq_length\n",
        "    # total number of batches we can make\n",
        "    n_batches = len(arr)//batch_size_total\n",
        "    \n",
        "    # Keep only enough characters to make full batches\n",
        "    arr = arr[:n_batches * batch_size_total]\n",
        "    # Reshape into batch_size rows\n",
        "    arr = arr.reshape((batch_size, -1))\n",
        "    \n",
        "    # iterate through the array, one sequence at a time\n",
        "    for n in range(0, arr.shape[1], seq_length):\n",
        "        # The features\n",
        "        x = arr[:, n:n+seq_length]\n",
        "        # The targets, shifted by one\n",
        "        y = np.zeros_like(x)\n",
        "        try:\n",
        "            y[:, :-1], y[:, -1] = x[:, 1:], arr[:, n+seq_length]\n",
        "        except IndexError:\n",
        "            y[:, :-1], y[:, -1] = x[:, 1:], arr[:, 0]\n",
        "        yield x, y"
      ],
      "execution_count": 0,
      "outputs": []
    },
    {
      "metadata": {
        "id": "VPD2FaruorZ9",
        "colab_type": "text"
      },
      "cell_type": "markdown",
      "source": [
        "### Test Your Implementation\n",
        "\n",
        "Now I'll make some data sets and we can check out what's going on as we batch data. Here, as an example, I'm going to use a batch size of 8 and 50 sequence steps."
      ]
    },
    {
      "metadata": {
        "id": "Q5hCFpqiorZ-",
        "colab_type": "code",
        "colab": {}
      },
      "cell_type": "code",
      "source": [
        "batches = get_batches(encoded, 8, 50)\n",
        "x, y = next(batches)"
      ],
      "execution_count": 0,
      "outputs": []
    },
    {
      "metadata": {
        "id": "TTVoYiLOoraA",
        "colab_type": "code",
        "outputId": "45b5e207-aebf-431a-fc11-5935880ab37b",
        "colab": {
          "base_uri": "https://localhost:8080/",
          "height": 336
        }
      },
      "cell_type": "code",
      "source": [
        "# printing out the first 10 items in a sequence\n",
        "print('x\\n', x[:10, :10])\n",
        "print('\\ny\\n', y[:10, :10])"
      ],
      "execution_count": 11,
      "outputs": [
        {
          "output_type": "stream",
          "text": [
            "x\n",
            " [[40 81 27 25 20 24  6 18  5 22]\n",
            " [23 68 48 18 20 81 27 20 18 27]\n",
            " [24 48 46 18 68  6 18 27 18 12]\n",
            " [23 18 20 81 24 18 43 81 76 24]\n",
            " [18 23 27 49 18 81 24  6 18 20]\n",
            " [43 37 23 23 76 68 48 18 27 48]\n",
            " [18 15 48 48 27 18 81 27 46 18]\n",
            " [26 19 61 68 48 23 51 79 42 18]]\n",
            "\n",
            "y\n",
            " [[81 27 25 20 24  6 18  5 22 22]\n",
            " [68 48 18 20 81 27 20 18 27 20]\n",
            " [48 46 18 68  6 18 27 18 12 68]\n",
            " [18 20 81 24 18 43 81 76 24 12]\n",
            " [23 27 49 18 81 24  6 18 20 24]\n",
            " [37 23 23 76 68 48 18 27 48 46]\n",
            " [15 48 48 27 18 81 27 46 18 23]\n",
            " [19 61 68 48 23 51 79 42 18 72]]\n"
          ],
          "name": "stdout"
        }
      ]
    },
    {
      "metadata": {
        "id": "WGyO1caboraD",
        "colab_type": "text"
      },
      "cell_type": "markdown",
      "source": [
        "If you implemented `get_batches` correctly, the above output should look something like \n",
        "```\n",
        "x\n",
        " [[25  8 60 11 45 27 28 73  1  2]\n",
        " [17  7 20 73 45  8 60 45 73 60]\n",
        " [27 20 80 73  7 28 73 60 73 65]\n",
        " [17 73 45  8 27 73 66  8 46 27]\n",
        " [73 17 60 12 73  8 27 28 73 45]\n",
        " [66 64 17 17 46  7 20 73 60 20]\n",
        " [73 76 20 20 60 73  8 60 80 73]\n",
        " [47 35 43  7 20 17 24 50 37 73]]\n",
        "\n",
        "y\n",
        " [[ 8 60 11 45 27 28 73  1  2  2]\n",
        " [ 7 20 73 45  8 60 45 73 60 45]\n",
        " [20 80 73  7 28 73 60 73 65  7]\n",
        " [73 45  8 27 73 66  8 46 27 65]\n",
        " [17 60 12 73  8 27 28 73 45 27]\n",
        " [64 17 17 46  7 20 73 60 20 80]\n",
        " [76 20 20 60 73  8 60 80 73 17]\n",
        " [35 43  7 20 17 24 50 37 73 36]]\n",
        " ```\n",
        " although the exact numbers may be different. Check to make sure the data is shifted over one step for `y`."
      ]
    },
    {
      "metadata": {
        "id": "OJS3ypOToraE",
        "colab_type": "text"
      },
      "cell_type": "markdown",
      "source": [
        "---\n",
        "## Defining the network with PyTorch\n",
        "\n",
        "Below is where you'll define the network.\n",
        "\n",
        "<img src=\"https://github.com/joaopamaral/deep-learning-v2-pytorch/blob/master/recurrent-neural-networks/char-rnn/assets/charRNN.png?raw=1\" width=500px>\n",
        "\n",
        "Next, you'll use PyTorch to define the architecture of the network. We start by defining the layers and operations we want. Then, define a method for the forward pass. You've also been given a method for predicting characters."
      ]
    },
    {
      "metadata": {
        "id": "gbBKRU_4oraF",
        "colab_type": "text"
      },
      "cell_type": "markdown",
      "source": [
        "### Model Structure\n",
        "\n",
        "In `__init__` the suggested structure is as follows:\n",
        "* Create and store the necessary dictionaries (this has been done for you)\n",
        "* Define an LSTM layer that takes as params: an input size (the number of characters), a hidden layer size `n_hidden`, a number of layers `n_layers`, a dropout probability `drop_prob`, and a batch_first boolean (True, since we are batching)\n",
        "* Define a dropout layer with `dropout_prob`\n",
        "* Define a fully-connected layer with params: input size `n_hidden` and output size (the number of characters)\n",
        "* Finally, initialize the weights (again, this has been given)\n",
        "\n",
        "Note that some parameters have been named and given in the `__init__` function, and we use them and store them by doing something like `self.drop_prob = drop_prob`."
      ]
    },
    {
      "metadata": {
        "id": "KCeNBoQ8oraF",
        "colab_type": "text"
      },
      "cell_type": "markdown",
      "source": [
        "---\n",
        "### LSTM Inputs/Outputs\n",
        "\n",
        "You can create a basic [LSTM layer](https://pytorch.org/docs/stable/nn.html#lstm) as follows\n",
        "\n",
        "```python\n",
        "self.lstm = nn.LSTM(input_size, n_hidden, n_layers, \n",
        "                            dropout=drop_prob, batch_first=True)\n",
        "```\n",
        "\n",
        "where `input_size` is the number of characters this cell expects to see as sequential input, and `n_hidden` is the number of units in the hidden layers in the cell. And we can add dropout by adding a dropout parameter with a specified probability; this will automatically add dropout to the inputs or outputs. Finally, in the `forward` function, we can stack up the LSTM cells into layers using `.view`. With this, you pass in a list of cells and it will send the output of one cell into the next cell.\n",
        "\n",
        "We also need to create an initial hidden state of all zeros. This is done like so\n",
        "\n",
        "```python\n",
        "self.init_hidden()\n",
        "```"
      ]
    },
    {
      "metadata": {
        "id": "36dzY-lyoraG",
        "colab_type": "code",
        "outputId": "5589907a-5214-446e-e7c4-354eeba0a52d",
        "colab": {
          "base_uri": "https://localhost:8080/",
          "height": 34
        }
      },
      "cell_type": "code",
      "source": [
        "# check if GPU is available\n",
        "train_on_gpu = torch.cuda.is_available()\n",
        "if(train_on_gpu):\n",
        "    print('Training on GPU!')\n",
        "else: \n",
        "    print('No GPU available, training on CPU; consider making n_epochs very small.')"
      ],
      "execution_count": 12,
      "outputs": [
        {
          "output_type": "stream",
          "text": [
            "Training on GPU!\n"
          ],
          "name": "stdout"
        }
      ]
    },
    {
      "metadata": {
        "id": "Ox6jwOmGoraJ",
        "colab_type": "code",
        "colab": {}
      },
      "cell_type": "code",
      "source": [
        "class CharRNN(nn.Module):\n",
        "    \n",
        "    def __init__(self, tokens, n_hidden=256, n_layers=2,\n",
        "                               drop_prob=0.5, lr=0.001):\n",
        "        super().__init__()\n",
        "        self.drop_prob = drop_prob\n",
        "        self.n_layers = n_layers\n",
        "        self.n_hidden = n_hidden\n",
        "        self.lr = lr\n",
        "        \n",
        "        # creating character dictionaries\n",
        "        self.chars = tokens\n",
        "        self.int2char = dict(enumerate(self.chars))\n",
        "        self.char2int = {ch: ii for ii, ch in self.int2char.items()}\n",
        "        \n",
        "        ## TODO: define the LSTM\n",
        "        self.lstm = nn.LSTM(len(self.chars), n_hidden, n_layers, \n",
        "                            dropout=drop_prob, batch_first=True)\n",
        "        \n",
        "        ## TODO: define a dropout layer\n",
        "        self.dropout = nn.Dropout(drop_prob)\n",
        "        \n",
        "        ## TODO: define the final, fully-connected output layer\n",
        "        self.fc = nn.Linear(n_hidden, len(self.chars))\n",
        "      \n",
        "    \n",
        "    def forward(self, x, hidden):\n",
        "        ''' Forward pass through the network. \n",
        "            These inputs are x, and the hidden/cell state `hidden`. '''\n",
        "                \n",
        "        ## TODO: Get the outputs and the new hidden state from the lstm\n",
        "        r_output, hidden = self.lstm(x, hidden)\n",
        "        \n",
        "        ## TODO: pass through a dropout layer\n",
        "        out = self.dropout(r_output)\n",
        "        \n",
        "        # Stack up LSTM outputs using view\n",
        "        # you may need to use contiguous to reshape the output\n",
        "        out = out.contiguous().view(-1, self.n_hidden)\n",
        "        \n",
        "        ## TODO: put x through the fully-connected layer\n",
        "        out = self.fc(out)\n",
        "        \n",
        "        # return the final output and the hidden state\n",
        "        return out, hidden\n",
        "    \n",
        "    \n",
        "    def init_hidden(self, batch_size):\n",
        "        ''' Initializes hidden state '''\n",
        "        # Create two new tensors with sizes n_layers x batch_size x n_hidden,\n",
        "        # initialized to zero, for hidden state and cell state of LSTM\n",
        "        weight = next(self.parameters()).data\n",
        "        \n",
        "        if (train_on_gpu):\n",
        "            hidden = (weight.new(self.n_layers, batch_size, self.n_hidden).zero_().cuda(),\n",
        "                  weight.new(self.n_layers, batch_size, self.n_hidden).zero_().cuda())\n",
        "        else:\n",
        "            hidden = (weight.new(self.n_layers, batch_size, self.n_hidden).zero_(),\n",
        "                      weight.new(self.n_layers, batch_size, self.n_hidden).zero_())\n",
        "        \n",
        "        return hidden\n",
        "        "
      ],
      "execution_count": 0,
      "outputs": []
    },
    {
      "metadata": {
        "id": "vkQ3XYXLoraO",
        "colab_type": "text"
      },
      "cell_type": "markdown",
      "source": [
        "## Time to train\n",
        "\n",
        "The train function gives us the ability to set the number of epochs, the learning rate, and other parameters.\n",
        "\n",
        "Below we're using an Adam optimizer and cross entropy loss since we are looking at character class scores as output. We calculate the loss and perform backpropagation, as usual!\n",
        "\n",
        "A couple of details about training: \n",
        ">* Within the batch loop, we detach the hidden state from its history; this time setting it equal to a new *tuple* variable because an LSTM has a hidden state that is a tuple of the hidden and cell states.\n",
        "* We use [`clip_grad_norm_`](https://pytorch.org/docs/stable/_modules/torch/nn/utils/clip_grad.html) to help prevent exploding gradients."
      ]
    },
    {
      "metadata": {
        "id": "Crl2_HxvoraQ",
        "colab_type": "code",
        "colab": {}
      },
      "cell_type": "code",
      "source": [
        "def train(net, data, epochs=10, batch_size=10, seq_length=50, lr=0.001, clip=5, val_frac=0.1, print_every=10):\n",
        "    ''' Training a network \n",
        "    \n",
        "        Arguments\n",
        "        ---------\n",
        "        \n",
        "        net: CharRNN network\n",
        "        data: text data to train the network\n",
        "        epochs: Number of epochs to train\n",
        "        batch_size: Number of mini-sequences per mini-batch, aka batch size\n",
        "        seq_length: Number of character steps per mini-batch\n",
        "        lr: learning rate\n",
        "        clip: gradient clipping\n",
        "        val_frac: Fraction of data to hold out for validation\n",
        "        print_every: Number of steps for printing training and validation loss\n",
        "    \n",
        "    '''\n",
        "    net.train()\n",
        "    \n",
        "    opt = torch.optim.Adam(net.parameters(), lr=lr)\n",
        "    criterion = nn.CrossEntropyLoss()\n",
        "    \n",
        "    # create training and validation data\n",
        "    val_idx = int(len(data)*(1-val_frac))\n",
        "    data, val_data = data[:val_idx], data[val_idx:]\n",
        "    \n",
        "    if(train_on_gpu):\n",
        "        net.cuda()\n",
        "    \n",
        "    counter = 0\n",
        "    n_chars = len(net.chars)\n",
        "    for e in range(epochs):\n",
        "        # initialize hidden state\n",
        "        h = net.init_hidden(batch_size)\n",
        "        \n",
        "        for x, y in get_batches(data, batch_size, seq_length):\n",
        "            counter += 1\n",
        "            \n",
        "            # One-hot encode our data and make them Torch tensors\n",
        "            x = one_hot_encode(x, n_chars)\n",
        "            inputs, targets = torch.from_numpy(x), torch.from_numpy(y)\n",
        "            \n",
        "            if(train_on_gpu):\n",
        "                inputs, targets = inputs.cuda(), targets.cuda()\n",
        "\n",
        "            # Creating new variables for the hidden state, otherwise\n",
        "            # we'd backprop through the entire training history\n",
        "            h = tuple([each.data for each in h])\n",
        "\n",
        "            # zero accumulated gradients\n",
        "            net.zero_grad()\n",
        "            \n",
        "            # get the output from the model\n",
        "            output, h = net(inputs, h)\n",
        "            \n",
        "            # calculate the loss and perform backprop\n",
        "            loss = criterion(output, targets.view(batch_size*seq_length))\n",
        "            loss.backward()\n",
        "            # `clip_grad_norm` helps prevent the exploding gradient problem in RNNs / LSTMs.\n",
        "            nn.utils.clip_grad_norm_(net.parameters(), clip)\n",
        "            opt.step()\n",
        "            \n",
        "            # loss stats\n",
        "            if counter % print_every == 0:\n",
        "                # Get validation loss\n",
        "                val_h = net.init_hidden(batch_size)\n",
        "                val_losses = []\n",
        "                net.eval()\n",
        "                for x, y in get_batches(val_data, batch_size, seq_length):\n",
        "                    # One-hot encode our data and make them Torch tensors\n",
        "                    x = one_hot_encode(x, n_chars)\n",
        "                    x, y = torch.from_numpy(x), torch.from_numpy(y)\n",
        "                    \n",
        "                    # Creating new variables for the hidden state, otherwise\n",
        "                    # we'd backprop through the entire training history\n",
        "                    val_h = tuple([each.data for each in val_h])\n",
        "                    \n",
        "                    inputs, targets = x, y\n",
        "                    if(train_on_gpu):\n",
        "                        inputs, targets = inputs.cuda(), targets.cuda()\n",
        "\n",
        "                    output, val_h = net(inputs, val_h)\n",
        "                    val_loss = criterion(output, targets.view(batch_size*seq_length))\n",
        "                \n",
        "                    val_losses.append(val_loss.item())\n",
        "                \n",
        "                net.train() # reset to train mode after iterationg through validation data\n",
        "                \n",
        "                print(\"Epoch: {}/{}...\".format(e+1, epochs),\n",
        "                      \"Step: {}...\".format(counter),\n",
        "                      \"Loss: {:.4f}...\".format(loss.item()),\n",
        "                      \"Val Loss: {:.4f}\".format(np.mean(val_losses)))"
      ],
      "execution_count": 0,
      "outputs": []
    },
    {
      "metadata": {
        "id": "nl456l2JoraU",
        "colab_type": "text"
      },
      "cell_type": "markdown",
      "source": [
        "## Instantiating the model\n",
        "\n",
        "Now we can actually train the network. First we'll create the network itself, with some given hyperparameters. Then, define the mini-batches sizes, and start training!"
      ]
    },
    {
      "metadata": {
        "id": "B-1P8gWUoraW",
        "colab_type": "code",
        "outputId": "e9311336-d3c4-47f6-9265-2c2f475196fa",
        "colab": {
          "base_uri": "https://localhost:8080/",
          "height": 101
        }
      },
      "cell_type": "code",
      "source": [
        "## TODO: set you model hyperparameters\n",
        "# define and print the net\n",
        "n_hidden=512\n",
        "n_layers=2\n",
        "\n",
        "net = CharRNN(chars, n_hidden, n_layers)\n",
        "print(net)"
      ],
      "execution_count": 15,
      "outputs": [
        {
          "output_type": "stream",
          "text": [
            "CharRNN(\n",
            "  (lstm): LSTM(83, 512, num_layers=2, batch_first=True, dropout=0.5)\n",
            "  (dropout): Dropout(p=0.5)\n",
            "  (fc): Linear(in_features=512, out_features=83, bias=True)\n",
            ")\n"
          ],
          "name": "stdout"
        }
      ]
    },
    {
      "metadata": {
        "id": "Dyf8KwoZoraY",
        "colab_type": "text"
      },
      "cell_type": "markdown",
      "source": [
        "### Set your training hyperparameters!"
      ]
    },
    {
      "metadata": {
        "scrolled": true,
        "id": "CVP_-lL3oraa",
        "colab_type": "code",
        "outputId": "2bd2c85c-6b2c-4cdf-da6b-5aeab6ebc5f3",
        "colab": {
          "base_uri": "https://localhost:8080/",
          "height": 4687
        }
      },
      "cell_type": "code",
      "source": [
        "batch_size = 128\n",
        "seq_length = 100\n",
        "n_epochs = 20 # start smaller if you are just testing initial behavior\n",
        "\n",
        "# train the model\n",
        "train(net, encoded, epochs=n_epochs, batch_size=batch_size, seq_length=seq_length, lr=0.001, print_every=10)"
      ],
      "execution_count": 16,
      "outputs": [
        {
          "output_type": "stream",
          "text": [
            "Epoch: 1/20... Step: 10... Loss: 3.2494... Val Loss: 3.1805\n",
            "Epoch: 1/20... Step: 20... Loss: 3.1413... Val Loss: 3.1344\n",
            "Epoch: 1/20... Step: 30... Loss: 3.1381... Val Loss: 3.1225\n",
            "Epoch: 1/20... Step: 40... Loss: 3.1118... Val Loss: 3.1196\n",
            "Epoch: 1/20... Step: 50... Loss: 3.1417... Val Loss: 3.1168\n",
            "Epoch: 1/20... Step: 60... Loss: 3.1163... Val Loss: 3.1136\n",
            "Epoch: 1/20... Step: 70... Loss: 3.1038... Val Loss: 3.1093\n",
            "Epoch: 1/20... Step: 80... Loss: 3.1099... Val Loss: 3.0977\n",
            "Epoch: 1/20... Step: 90... Loss: 3.0900... Val Loss: 3.0739\n",
            "Epoch: 1/20... Step: 100... Loss: 3.0373... Val Loss: 3.0191\n",
            "Epoch: 1/20... Step: 110... Loss: 2.9431... Val Loss: 2.9160\n",
            "Epoch: 1/20... Step: 120... Loss: 2.8214... Val Loss: 2.7832\n",
            "Epoch: 1/20... Step: 130... Loss: 2.6994... Val Loss: 2.6523\n",
            "Epoch: 2/20... Step: 140... Loss: 2.6189... Val Loss: 2.5718\n",
            "Epoch: 2/20... Step: 150... Loss: 2.5665... Val Loss: 2.5122\n",
            "Epoch: 2/20... Step: 160... Loss: 2.5151... Val Loss: 2.4672\n",
            "Epoch: 2/20... Step: 170... Loss: 2.4422... Val Loss: 2.4259\n",
            "Epoch: 2/20... Step: 180... Loss: 2.4194... Val Loss: 2.3950\n",
            "Epoch: 2/20... Step: 190... Loss: 2.3741... Val Loss: 2.3661\n",
            "Epoch: 2/20... Step: 200... Loss: 2.3669... Val Loss: 2.3366\n",
            "Epoch: 2/20... Step: 210... Loss: 2.3332... Val Loss: 2.3095\n",
            "Epoch: 2/20... Step: 220... Loss: 2.3040... Val Loss: 2.3031\n",
            "Epoch: 2/20... Step: 230... Loss: 2.2884... Val Loss: 2.2573\n",
            "Epoch: 2/20... Step: 240... Loss: 2.2688... Val Loss: 2.2296\n",
            "Epoch: 2/20... Step: 250... Loss: 2.2112... Val Loss: 2.2072\n",
            "Epoch: 2/20... Step: 260... Loss: 2.1755... Val Loss: 2.1795\n",
            "Epoch: 2/20... Step: 270... Loss: 2.1845... Val Loss: 2.1550\n",
            "Epoch: 3/20... Step: 280... Loss: 2.1746... Val Loss: 2.1371\n",
            "Epoch: 3/20... Step: 290... Loss: 2.1525... Val Loss: 2.1110\n",
            "Epoch: 3/20... Step: 300... Loss: 2.1213... Val Loss: 2.0915\n",
            "Epoch: 3/20... Step: 310... Loss: 2.0942... Val Loss: 2.0741\n",
            "Epoch: 3/20... Step: 320... Loss: 2.0672... Val Loss: 2.0564\n",
            "Epoch: 3/20... Step: 330... Loss: 2.0377... Val Loss: 2.0379\n",
            "Epoch: 3/20... Step: 340... Loss: 2.0650... Val Loss: 2.0188\n",
            "Epoch: 3/20... Step: 350... Loss: 2.0362... Val Loss: 2.0063\n",
            "Epoch: 3/20... Step: 360... Loss: 1.9673... Val Loss: 1.9838\n",
            "Epoch: 3/20... Step: 370... Loss: 2.0053... Val Loss: 1.9716\n",
            "Epoch: 3/20... Step: 380... Loss: 1.9722... Val Loss: 1.9523\n",
            "Epoch: 3/20... Step: 390... Loss: 1.9547... Val Loss: 1.9386\n",
            "Epoch: 3/20... Step: 400... Loss: 1.9242... Val Loss: 1.9213\n",
            "Epoch: 3/20... Step: 410... Loss: 1.9380... Val Loss: 1.9078\n",
            "Epoch: 4/20... Step: 420... Loss: 1.9156... Val Loss: 1.8920\n",
            "Epoch: 4/20... Step: 430... Loss: 1.9082... Val Loss: 1.8803\n",
            "Epoch: 4/20... Step: 440... Loss: 1.8929... Val Loss: 1.8715\n",
            "Epoch: 4/20... Step: 450... Loss: 1.8411... Val Loss: 1.8578\n",
            "Epoch: 4/20... Step: 460... Loss: 1.8173... Val Loss: 1.8434\n",
            "Epoch: 4/20... Step: 470... Loss: 1.8657... Val Loss: 1.8343\n",
            "Epoch: 4/20... Step: 480... Loss: 1.8323... Val Loss: 1.8203\n",
            "Epoch: 4/20... Step: 490... Loss: 1.8471... Val Loss: 1.8068\n",
            "Epoch: 4/20... Step: 500... Loss: 1.8333... Val Loss: 1.7979\n",
            "Epoch: 4/20... Step: 510... Loss: 1.8089... Val Loss: 1.7851\n",
            "Epoch: 4/20... Step: 520... Loss: 1.8259... Val Loss: 1.7773\n",
            "Epoch: 4/20... Step: 530... Loss: 1.7882... Val Loss: 1.7712\n",
            "Epoch: 4/20... Step: 540... Loss: 1.7481... Val Loss: 1.7583\n",
            "Epoch: 4/20... Step: 550... Loss: 1.7919... Val Loss: 1.7450\n",
            "Epoch: 5/20... Step: 560... Loss: 1.7627... Val Loss: 1.7442\n",
            "Epoch: 5/20... Step: 570... Loss: 1.7414... Val Loss: 1.7270\n",
            "Epoch: 5/20... Step: 580... Loss: 1.7215... Val Loss: 1.7168\n",
            "Epoch: 5/20... Step: 590... Loss: 1.7285... Val Loss: 1.7090\n",
            "Epoch: 5/20... Step: 600... Loss: 1.7165... Val Loss: 1.7032\n",
            "Epoch: 5/20... Step: 610... Loss: 1.7039... Val Loss: 1.6986\n",
            "Epoch: 5/20... Step: 620... Loss: 1.7134... Val Loss: 1.6909\n",
            "Epoch: 5/20... Step: 630... Loss: 1.7182... Val Loss: 1.6843\n",
            "Epoch: 5/20... Step: 640... Loss: 1.6783... Val Loss: 1.6732\n",
            "Epoch: 5/20... Step: 650... Loss: 1.6659... Val Loss: 1.6686\n",
            "Epoch: 5/20... Step: 660... Loss: 1.6455... Val Loss: 1.6586\n",
            "Epoch: 5/20... Step: 670... Loss: 1.6803... Val Loss: 1.6550\n",
            "Epoch: 5/20... Step: 680... Loss: 1.6771... Val Loss: 1.6457\n",
            "Epoch: 5/20... Step: 690... Loss: 1.6529... Val Loss: 1.6386\n",
            "Epoch: 6/20... Step: 700... Loss: 1.6512... Val Loss: 1.6378\n",
            "Epoch: 6/20... Step: 710... Loss: 1.6376... Val Loss: 1.6263\n",
            "Epoch: 6/20... Step: 720... Loss: 1.6289... Val Loss: 1.6195\n",
            "Epoch: 6/20... Step: 730... Loss: 1.6422... Val Loss: 1.6137\n",
            "Epoch: 6/20... Step: 740... Loss: 1.6032... Val Loss: 1.6094\n",
            "Epoch: 6/20... Step: 750... Loss: 1.5924... Val Loss: 1.6037\n",
            "Epoch: 6/20... Step: 760... Loss: 1.6292... Val Loss: 1.5992\n",
            "Epoch: 6/20... Step: 770... Loss: 1.6109... Val Loss: 1.5972\n",
            "Epoch: 6/20... Step: 780... Loss: 1.5945... Val Loss: 1.5877\n",
            "Epoch: 6/20... Step: 790... Loss: 1.5761... Val Loss: 1.5855\n",
            "Epoch: 6/20... Step: 800... Loss: 1.6022... Val Loss: 1.5776\n",
            "Epoch: 6/20... Step: 810... Loss: 1.5867... Val Loss: 1.5771\n",
            "Epoch: 6/20... Step: 820... Loss: 1.5505... Val Loss: 1.5698\n",
            "Epoch: 6/20... Step: 830... Loss: 1.5922... Val Loss: 1.5662\n",
            "Epoch: 7/20... Step: 840... Loss: 1.5432... Val Loss: 1.5665\n",
            "Epoch: 7/20... Step: 850... Loss: 1.5611... Val Loss: 1.5571\n",
            "Epoch: 7/20... Step: 860... Loss: 1.5466... Val Loss: 1.5527\n",
            "Epoch: 7/20... Step: 870... Loss: 1.5551... Val Loss: 1.5443\n",
            "Epoch: 7/20... Step: 880... Loss: 1.5490... Val Loss: 1.5451\n",
            "Epoch: 7/20... Step: 890... Loss: 1.5556... Val Loss: 1.5389\n",
            "Epoch: 7/20... Step: 900... Loss: 1.5324... Val Loss: 1.5343\n",
            "Epoch: 7/20... Step: 910... Loss: 1.4984... Val Loss: 1.5331\n",
            "Epoch: 7/20... Step: 920... Loss: 1.5333... Val Loss: 1.5281\n",
            "Epoch: 7/20... Step: 930... Loss: 1.5244... Val Loss: 1.5231\n",
            "Epoch: 7/20... Step: 940... Loss: 1.5183... Val Loss: 1.5215\n",
            "Epoch: 7/20... Step: 950... Loss: 1.5319... Val Loss: 1.5185\n",
            "Epoch: 7/20... Step: 960... Loss: 1.5295... Val Loss: 1.5113\n",
            "Epoch: 7/20... Step: 970... Loss: 1.5348... Val Loss: 1.5120\n",
            "Epoch: 8/20... Step: 980... Loss: 1.5033... Val Loss: 1.5102\n",
            "Epoch: 8/20... Step: 990... Loss: 1.5041... Val Loss: 1.5042\n",
            "Epoch: 8/20... Step: 1000... Loss: 1.4964... Val Loss: 1.4998\n",
            "Epoch: 8/20... Step: 1010... Loss: 1.5283... Val Loss: 1.4972\n",
            "Epoch: 8/20... Step: 1020... Loss: 1.5167... Val Loss: 1.4959\n",
            "Epoch: 8/20... Step: 1030... Loss: 1.4878... Val Loss: 1.4914\n",
            "Epoch: 8/20... Step: 1040... Loss: 1.4946... Val Loss: 1.4866\n",
            "Epoch: 8/20... Step: 1050... Loss: 1.4627... Val Loss: 1.4847\n",
            "Epoch: 8/20... Step: 1060... Loss: 1.4798... Val Loss: 1.4837\n",
            "Epoch: 8/20... Step: 1070... Loss: 1.4921... Val Loss: 1.4769\n",
            "Epoch: 8/20... Step: 1080... Loss: 1.4769... Val Loss: 1.4759\n",
            "Epoch: 8/20... Step: 1090... Loss: 1.4513... Val Loss: 1.4733\n",
            "Epoch: 8/20... Step: 1100... Loss: 1.4479... Val Loss: 1.4693\n",
            "Epoch: 8/20... Step: 1110... Loss: 1.4574... Val Loss: 1.4696\n",
            "Epoch: 9/20... Step: 1120... Loss: 1.4743... Val Loss: 1.4687\n",
            "Epoch: 9/20... Step: 1130... Loss: 1.4639... Val Loss: 1.4616\n",
            "Epoch: 9/20... Step: 1140... Loss: 1.4629... Val Loss: 1.4571\n",
            "Epoch: 9/20... Step: 1150... Loss: 1.4821... Val Loss: 1.4606\n",
            "Epoch: 9/20... Step: 1160... Loss: 1.4359... Val Loss: 1.4580\n",
            "Epoch: 9/20... Step: 1170... Loss: 1.4477... Val Loss: 1.4501\n",
            "Epoch: 9/20... Step: 1180... Loss: 1.4397... Val Loss: 1.4478\n",
            "Epoch: 9/20... Step: 1190... Loss: 1.4669... Val Loss: 1.4480\n",
            "Epoch: 9/20... Step: 1200... Loss: 1.4255... Val Loss: 1.4465\n",
            "Epoch: 9/20... Step: 1210... Loss: 1.4314... Val Loss: 1.4409\n",
            "Epoch: 9/20... Step: 1220... Loss: 1.4345... Val Loss: 1.4408\n",
            "Epoch: 9/20... Step: 1230... Loss: 1.4141... Val Loss: 1.4386\n",
            "Epoch: 9/20... Step: 1240... Loss: 1.4121... Val Loss: 1.4323\n",
            "Epoch: 9/20... Step: 1250... Loss: 1.4240... Val Loss: 1.4318\n",
            "Epoch: 10/20... Step: 1260... Loss: 1.4321... Val Loss: 1.4345\n",
            "Epoch: 10/20... Step: 1270... Loss: 1.4283... Val Loss: 1.4318\n",
            "Epoch: 10/20... Step: 1280... Loss: 1.4321... Val Loss: 1.4249\n",
            "Epoch: 10/20... Step: 1290... Loss: 1.4296... Val Loss: 1.4271\n",
            "Epoch: 10/20... Step: 1300... Loss: 1.4155... Val Loss: 1.4253\n",
            "Epoch: 10/20... Step: 1310... Loss: 1.4257... Val Loss: 1.4196\n",
            "Epoch: 10/20... Step: 1320... Loss: 1.3879... Val Loss: 1.4207\n",
            "Epoch: 10/20... Step: 1330... Loss: 1.3974... Val Loss: 1.4207\n",
            "Epoch: 10/20... Step: 1340... Loss: 1.3802... Val Loss: 1.4183\n",
            "Epoch: 10/20... Step: 1350... Loss: 1.3802... Val Loss: 1.4154\n",
            "Epoch: 10/20... Step: 1360... Loss: 1.3806... Val Loss: 1.4142\n",
            "Epoch: 10/20... Step: 1370... Loss: 1.3804... Val Loss: 1.4091\n",
            "Epoch: 10/20... Step: 1380... Loss: 1.4166... Val Loss: 1.4062\n",
            "Epoch: 10/20... Step: 1390... Loss: 1.4118... Val Loss: 1.4056\n",
            "Epoch: 11/20... Step: 1400... Loss: 1.4227... Val Loss: 1.4089\n",
            "Epoch: 11/20... Step: 1410... Loss: 1.4295... Val Loss: 1.4013\n",
            "Epoch: 11/20... Step: 1420... Loss: 1.4127... Val Loss: 1.3982\n",
            "Epoch: 11/20... Step: 1430... Loss: 1.3874... Val Loss: 1.4031\n",
            "Epoch: 11/20... Step: 1440... Loss: 1.4230... Val Loss: 1.3990\n",
            "Epoch: 11/20... Step: 1450... Loss: 1.3404... Val Loss: 1.3981\n",
            "Epoch: 11/20... Step: 1460... Loss: 1.3650... Val Loss: 1.3950\n",
            "Epoch: 11/20... Step: 1470... Loss: 1.3675... Val Loss: 1.3956\n",
            "Epoch: 11/20... Step: 1480... Loss: 1.3767... Val Loss: 1.3900\n",
            "Epoch: 11/20... Step: 1490... Loss: 1.3683... Val Loss: 1.3922\n",
            "Epoch: 11/20... Step: 1500... Loss: 1.3573... Val Loss: 1.3911\n",
            "Epoch: 11/20... Step: 1510... Loss: 1.3397... Val Loss: 1.3878\n",
            "Epoch: 11/20... Step: 1520... Loss: 1.3727... Val Loss: 1.3838\n",
            "Epoch: 12/20... Step: 1530... Loss: 1.4287... Val Loss: 1.3860\n",
            "Epoch: 12/20... Step: 1540... Loss: 1.3828... Val Loss: 1.3824\n",
            "Epoch: 12/20... Step: 1550... Loss: 1.3810... Val Loss: 1.3809\n",
            "Epoch: 12/20... Step: 1560... Loss: 1.3962... Val Loss: 1.3753\n",
            "Epoch: 12/20... Step: 1570... Loss: 1.3423... Val Loss: 1.3857\n",
            "Epoch: 12/20... Step: 1580... Loss: 1.3188... Val Loss: 1.3832\n",
            "Epoch: 12/20... Step: 1590... Loss: 1.3331... Val Loss: 1.3752\n",
            "Epoch: 12/20... Step: 1600... Loss: 1.3573... Val Loss: 1.3761\n",
            "Epoch: 12/20... Step: 1610... Loss: 1.3398... Val Loss: 1.3755\n",
            "Epoch: 12/20... Step: 1620... Loss: 1.3410... Val Loss: 1.3714\n",
            "Epoch: 12/20... Step: 1630... Loss: 1.3619... Val Loss: 1.3692\n",
            "Epoch: 12/20... Step: 1640... Loss: 1.3335... Val Loss: 1.3714\n",
            "Epoch: 12/20... Step: 1650... Loss: 1.3153... Val Loss: 1.3666\n",
            "Epoch: 12/20... Step: 1660... Loss: 1.3651... Val Loss: 1.3611\n",
            "Epoch: 13/20... Step: 1670... Loss: 1.3402... Val Loss: 1.3668\n",
            "Epoch: 13/20... Step: 1680... Loss: 1.3494... Val Loss: 1.3630\n",
            "Epoch: 13/20... Step: 1690... Loss: 1.3289... Val Loss: 1.3635\n",
            "Epoch: 13/20... Step: 1700... Loss: 1.3241... Val Loss: 1.3651\n",
            "Epoch: 13/20... Step: 1710... Loss: 1.3101... Val Loss: 1.3605\n",
            "Epoch: 13/20... Step: 1720... Loss: 1.3177... Val Loss: 1.3622\n",
            "Epoch: 13/20... Step: 1730... Loss: 1.3596... Val Loss: 1.3623\n",
            "Epoch: 13/20... Step: 1740... Loss: 1.3261... Val Loss: 1.3602\n",
            "Epoch: 13/20... Step: 1750... Loss: 1.2940... Val Loss: 1.3604\n",
            "Epoch: 13/20... Step: 1760... Loss: 1.3146... Val Loss: 1.3572\n",
            "Epoch: 13/20... Step: 1770... Loss: 1.3282... Val Loss: 1.3552\n",
            "Epoch: 13/20... Step: 1780... Loss: 1.3099... Val Loss: 1.3531\n",
            "Epoch: 13/20... Step: 1790... Loss: 1.2985... Val Loss: 1.3505\n",
            "Epoch: 13/20... Step: 1800... Loss: 1.3256... Val Loss: 1.3487\n",
            "Epoch: 14/20... Step: 1810... Loss: 1.3238... Val Loss: 1.3530\n",
            "Epoch: 14/20... Step: 1820... Loss: 1.3133... Val Loss: 1.3453\n",
            "Epoch: 14/20... Step: 1830... Loss: 1.3288... Val Loss: 1.3462\n",
            "Epoch: 14/20... Step: 1840... Loss: 1.2756... Val Loss: 1.3486\n",
            "Epoch: 14/20... Step: 1850... Loss: 1.2661... Val Loss: 1.3451\n",
            "Epoch: 14/20... Step: 1860... Loss: 1.3128... Val Loss: 1.3463\n",
            "Epoch: 14/20... Step: 1870... Loss: 1.3282... Val Loss: 1.3451\n",
            "Epoch: 14/20... Step: 1880... Loss: 1.3259... Val Loss: 1.3439\n",
            "Epoch: 14/20... Step: 1890... Loss: 1.3413... Val Loss: 1.3438\n",
            "Epoch: 14/20... Step: 1900... Loss: 1.3076... Val Loss: 1.3428\n",
            "Epoch: 14/20... Step: 1910... Loss: 1.3188... Val Loss: 1.3385\n",
            "Epoch: 14/20... Step: 1920... Loss: 1.2993... Val Loss: 1.3399\n",
            "Epoch: 14/20... Step: 1930... Loss: 1.2678... Val Loss: 1.3375\n",
            "Epoch: 14/20... Step: 1940... Loss: 1.3220... Val Loss: 1.3355\n",
            "Epoch: 15/20... Step: 1950... Loss: 1.2970... Val Loss: 1.3436\n",
            "Epoch: 15/20... Step: 1960... Loss: 1.3064... Val Loss: 1.3344\n",
            "Epoch: 15/20... Step: 1970... Loss: 1.2909... Val Loss: 1.3342\n",
            "Epoch: 15/20... Step: 1980... Loss: 1.2851... Val Loss: 1.3417\n",
            "Epoch: 15/20... Step: 1990... Loss: 1.2816... Val Loss: 1.3364\n",
            "Epoch: 15/20... Step: 2000... Loss: 1.2611... Val Loss: 1.3361\n",
            "Epoch: 15/20... Step: 2010... Loss: 1.2933... Val Loss: 1.3356\n",
            "Epoch: 15/20... Step: 2020... Loss: 1.3053... Val Loss: 1.3361\n",
            "Epoch: 15/20... Step: 2030... Loss: 1.2804... Val Loss: 1.3350\n",
            "Epoch: 15/20... Step: 2040... Loss: 1.2928... Val Loss: 1.3314\n",
            "Epoch: 15/20... Step: 2050... Loss: 1.2784... Val Loss: 1.3292\n",
            "Epoch: 15/20... Step: 2060... Loss: 1.2869... Val Loss: 1.3288\n",
            "Epoch: 15/20... Step: 2070... Loss: 1.2916... Val Loss: 1.3264\n",
            "Epoch: 15/20... Step: 2080... Loss: 1.2856... Val Loss: 1.3238\n",
            "Epoch: 16/20... Step: 2090... Loss: 1.2951... Val Loss: 1.3280\n",
            "Epoch: 16/20... Step: 2100... Loss: 1.2695... Val Loss: 1.3252\n",
            "Epoch: 16/20... Step: 2110... Loss: 1.2636... Val Loss: 1.3235\n",
            "Epoch: 16/20... Step: 2120... Loss: 1.2925... Val Loss: 1.3292\n",
            "Epoch: 16/20... Step: 2130... Loss: 1.2660... Val Loss: 1.3242\n",
            "Epoch: 16/20... Step: 2140... Loss: 1.2744... Val Loss: 1.3236\n",
            "Epoch: 16/20... Step: 2150... Loss: 1.2904... Val Loss: 1.3227\n",
            "Epoch: 16/20... Step: 2160... Loss: 1.2674... Val Loss: 1.3276\n",
            "Epoch: 16/20... Step: 2170... Loss: 1.2692... Val Loss: 1.3202\n",
            "Epoch: 16/20... Step: 2180... Loss: 1.2635... Val Loss: 1.3212\n",
            "Epoch: 16/20... Step: 2190... Loss: 1.2904... Val Loss: 1.3250\n",
            "Epoch: 16/20... Step: 2200... Loss: 1.2587... Val Loss: 1.3200\n",
            "Epoch: 16/20... Step: 2210... Loss: 1.2327... Val Loss: 1.3187\n",
            "Epoch: 16/20... Step: 2220... Loss: 1.2728... Val Loss: 1.3166\n",
            "Epoch: 17/20... Step: 2230... Loss: 1.2540... Val Loss: 1.3198\n",
            "Epoch: 17/20... Step: 2240... Loss: 1.2648... Val Loss: 1.3179\n",
            "Epoch: 17/20... Step: 2250... Loss: 1.2532... Val Loss: 1.3205\n",
            "Epoch: 17/20... Step: 2260... Loss: 1.2609... Val Loss: 1.3184\n",
            "Epoch: 17/20... Step: 2270... Loss: 1.2618... Val Loss: 1.3167\n",
            "Epoch: 17/20... Step: 2280... Loss: 1.2716... Val Loss: 1.3156\n",
            "Epoch: 17/20... Step: 2290... Loss: 1.2722... Val Loss: 1.3190\n",
            "Epoch: 17/20... Step: 2300... Loss: 1.2291... Val Loss: 1.3175\n",
            "Epoch: 17/20... Step: 2310... Loss: 1.2566... Val Loss: 1.3128\n",
            "Epoch: 17/20... Step: 2320... Loss: 1.2551... Val Loss: 1.3117\n",
            "Epoch: 17/20... Step: 2330... Loss: 1.2461... Val Loss: 1.3128\n",
            "Epoch: 17/20... Step: 2340... Loss: 1.2648... Val Loss: 1.3139\n",
            "Epoch: 17/20... Step: 2350... Loss: 1.2630... Val Loss: 1.3060\n",
            "Epoch: 17/20... Step: 2360... Loss: 1.2809... Val Loss: 1.3105\n",
            "Epoch: 18/20... Step: 2370... Loss: 1.2429... Val Loss: 1.3154\n",
            "Epoch: 18/20... Step: 2380... Loss: 1.2441... Val Loss: 1.3092\n",
            "Epoch: 18/20... Step: 2390... Loss: 1.2485... Val Loss: 1.3110\n",
            "Epoch: 18/20... Step: 2400... Loss: 1.2700... Val Loss: 1.3135\n",
            "Epoch: 18/20... Step: 2410... Loss: 1.2669... Val Loss: 1.3087\n",
            "Epoch: 18/20... Step: 2420... Loss: 1.2424... Val Loss: 1.3058\n",
            "Epoch: 18/20... Step: 2430... Loss: 1.2573... Val Loss: 1.3080\n",
            "Epoch: 18/20... Step: 2440... Loss: 1.2449... Val Loss: 1.3047\n",
            "Epoch: 18/20... Step: 2450... Loss: 1.2347... Val Loss: 1.3049\n",
            "Epoch: 18/20... Step: 2460... Loss: 1.2470... Val Loss: 1.3058\n",
            "Epoch: 18/20... Step: 2470... Loss: 1.2463... Val Loss: 1.3087\n",
            "Epoch: 18/20... Step: 2480... Loss: 1.2325... Val Loss: 1.3036\n",
            "Epoch: 18/20... Step: 2490... Loss: 1.2300... Val Loss: 1.3012\n",
            "Epoch: 18/20... Step: 2500... Loss: 1.2401... Val Loss: 1.3054\n",
            "Epoch: 19/20... Step: 2510... Loss: 1.2397... Val Loss: 1.3062\n",
            "Epoch: 19/20... Step: 2520... Loss: 1.2528... Val Loss: 1.3037\n",
            "Epoch: 19/20... Step: 2530... Loss: 1.2564... Val Loss: 1.3002\n",
            "Epoch: 19/20... Step: 2540... Loss: 1.2636... Val Loss: 1.3015\n",
            "Epoch: 19/20... Step: 2550... Loss: 1.2364... Val Loss: 1.3002\n",
            "Epoch: 19/20... Step: 2560... Loss: 1.2497... Val Loss: 1.2991\n",
            "Epoch: 19/20... Step: 2570... Loss: 1.2320... Val Loss: 1.3034\n",
            "Epoch: 19/20... Step: 2580... Loss: 1.2686... Val Loss: 1.2970\n",
            "Epoch: 19/20... Step: 2590... Loss: 1.2177... Val Loss: 1.2952\n",
            "Epoch: 19/20... Step: 2600... Loss: 1.2203... Val Loss: 1.2991\n",
            "Epoch: 19/20... Step: 2610... Loss: 1.2259... Val Loss: 1.3038\n",
            "Epoch: 19/20... Step: 2620... Loss: 1.2090... Val Loss: 1.2973\n",
            "Epoch: 19/20... Step: 2630... Loss: 1.2231... Val Loss: 1.2963\n",
            "Epoch: 19/20... Step: 2640... Loss: 1.2415... Val Loss: 1.2986\n",
            "Epoch: 20/20... Step: 2650... Loss: 1.2376... Val Loss: 1.2963\n",
            "Epoch: 20/20... Step: 2660... Loss: 1.2408... Val Loss: 1.2975\n",
            "Epoch: 20/20... Step: 2670... Loss: 1.2492... Val Loss: 1.2934\n",
            "Epoch: 20/20... Step: 2680... Loss: 1.2460... Val Loss: 1.2960\n",
            "Epoch: 20/20... Step: 2690... Loss: 1.2369... Val Loss: 1.2953\n",
            "Epoch: 20/20... Step: 2700... Loss: 1.2351... Val Loss: 1.2925\n",
            "Epoch: 20/20... Step: 2710... Loss: 1.2164... Val Loss: 1.2979\n",
            "Epoch: 20/20... Step: 2720... Loss: 1.2077... Val Loss: 1.2948\n",
            "Epoch: 20/20... Step: 2730... Loss: 1.1986... Val Loss: 1.2902\n",
            "Epoch: 20/20... Step: 2740... Loss: 1.2028... Val Loss: 1.2940\n",
            "Epoch: 20/20... Step: 2750... Loss: 1.2122... Val Loss: 1.2998\n",
            "Epoch: 20/20... Step: 2760... Loss: 1.2056... Val Loss: 1.2942\n",
            "Epoch: 20/20... Step: 2770... Loss: 1.2357... Val Loss: 1.2922\n",
            "Epoch: 20/20... Step: 2780... Loss: 1.2617... Val Loss: 1.2893\n"
          ],
          "name": "stdout"
        }
      ]
    },
    {
      "metadata": {
        "id": "gtBB6igRorac",
        "colab_type": "text"
      },
      "cell_type": "markdown",
      "source": [
        "## Getting the best model\n",
        "\n",
        "To set your hyperparameters to get the best performance, you'll want to watch the training and validation losses. If your training loss is much lower than the validation loss, you're overfitting. Increase regularization (more dropout) or use a smaller network. If the training and validation losses are close, you're underfitting so you can increase the size of the network."
      ]
    },
    {
      "metadata": {
        "id": "RAp5FNAYorac",
        "colab_type": "text"
      },
      "cell_type": "markdown",
      "source": [
        "## Hyperparameters\n",
        "\n",
        "Here are the hyperparameters for the network.\n",
        "\n",
        "In defining the model:\n",
        "* `n_hidden` - The number of units in the hidden layers.\n",
        "* `n_layers` - Number of hidden LSTM layers to use.\n",
        "\n",
        "We assume that dropout probability and learning rate will be kept at the default, in this example.\n",
        "\n",
        "And in training:\n",
        "* `batch_size` - Number of sequences running through the network in one pass.\n",
        "* `seq_length` - Number of characters in the sequence the network is trained on. Larger is better typically, the network will learn more long range dependencies. But it takes longer to train. 100 is typically a good number here.\n",
        "* `lr` - Learning rate for training\n",
        "\n",
        "Here's some good advice from Andrej Karpathy on training the network. I'm going to copy it in here for your benefit, but also link to [where it originally came from](https://github.com/karpathy/char-rnn#tips-and-tricks).\n",
        "\n",
        "> ## Tips and Tricks\n",
        "\n",
        ">### Monitoring Validation Loss vs. Training Loss\n",
        ">If you're somewhat new to Machine Learning or Neural Networks it can take a bit of expertise to get good models. The most important quantity to keep track of is the difference between your training loss (printed during training) and the validation loss (printed once in a while when the RNN is run on the validation data (by default every 1000 iterations)). In particular:\n",
        "\n",
        "> - If your training loss is much lower than validation loss then this means the network might be **overfitting**. Solutions to this are to decrease your network size, or to increase dropout. For example you could try dropout of 0.5 and so on.\n",
        "> - If your training/validation loss are about equal then your model is **underfitting**. Increase the size of your model (either number of layers or the raw number of neurons per layer)\n",
        "\n",
        "> ### Approximate number of parameters\n",
        "\n",
        "> The two most important parameters that control the model are `n_hidden` and `n_layers`. I would advise that you always use `n_layers` of either 2/3. The `n_hidden` can be adjusted based on how much data you have. The two important quantities to keep track of here are:\n",
        "\n",
        "> - The number of parameters in your model. This is printed when you start training.\n",
        "> - The size of your dataset. 1MB file is approximately 1 million characters.\n",
        "\n",
        ">These two should be about the same order of magnitude. It's a little tricky to tell. Here are some examples:\n",
        "\n",
        "> - I have a 100MB dataset and I'm using the default parameter settings (which currently print 150K parameters). My data size is significantly larger (100 mil >> 0.15 mil), so I expect to heavily underfit. I am thinking I can comfortably afford to make `n_hidden` larger.\n",
        "> - I have a 10MB dataset and running a 10 million parameter model. I'm slightly nervous and I'm carefully monitoring my validation loss. If it's larger than my training loss then I may want to try to increase dropout a bit and see if that helps the validation loss.\n",
        "\n",
        "> ### Best models strategy\n",
        "\n",
        ">The winning strategy to obtaining very good models (if you have the compute time) is to always err on making the network larger (as large as you're willing to wait for it to compute) and then try different dropout values (between 0,1). Whatever model has the best validation performance (the loss, written in the checkpoint filename, low is good) is the one you should use in the end.\n",
        "\n",
        ">It is very common in deep learning to run many different models with many different hyperparameter settings, and in the end take whatever checkpoint gave the best validation performance.\n",
        "\n",
        ">By the way, the size of your training and validation splits are also parameters. Make sure you have a decent amount of data in your validation set or otherwise the validation performance will be noisy and not very informative."
      ]
    },
    {
      "metadata": {
        "id": "chhZvPdxorae",
        "colab_type": "text"
      },
      "cell_type": "markdown",
      "source": [
        "## Checkpoint\n",
        "\n",
        "After training, we'll save the model so we can load it again later if we need too. Here I'm saving the parameters needed to create the same architecture, the hidden layer hyperparameters and the text characters."
      ]
    },
    {
      "metadata": {
        "id": "NRSputbIoraf",
        "colab_type": "code",
        "colab": {}
      },
      "cell_type": "code",
      "source": [
        "# change the name, for saving multiple files\n",
        "model_name = 'rnn_x_epoch.net'\n",
        "\n",
        "checkpoint = {'n_hidden': net.n_hidden,\n",
        "              'n_layers': net.n_layers,\n",
        "              'state_dict': net.state_dict(),\n",
        "              'tokens': net.chars}\n",
        "\n",
        "with open(model_name, 'wb') as f:\n",
        "    torch.save(checkpoint, f)"
      ],
      "execution_count": 0,
      "outputs": []
    },
    {
      "metadata": {
        "id": "H2mHDZ2porah",
        "colab_type": "text"
      },
      "cell_type": "markdown",
      "source": [
        "---\n",
        "## Making Predictions\n",
        "\n",
        "Now that the model is trained, we'll want to sample from it and make predictions about next characters! To sample, we pass in a character and have the network predict the next character. Then we take that character, pass it back in, and get another predicted character. Just keep doing this and you'll generate a bunch of text!\n",
        "\n",
        "### A note on the `predict`  function\n",
        "\n",
        "The output of our RNN is from a fully-connected layer and it outputs a **distribution of next-character scores**.\n",
        "\n",
        "> To actually get the next character, we apply a softmax function, which gives us a *probability* distribution that we can then sample to predict the next character.\n",
        "\n",
        "### Top K sampling\n",
        "\n",
        "Our predictions come from a categorical probability distribution over all the possible characters. We can make the sample text and make it more reasonable to handle (with less variables) by only considering some $K$ most probable characters. This will prevent the network from giving us completely absurd characters while allowing it to introduce some noise and randomness into the sampled text. Read more about [topk, here](https://pytorch.org/docs/stable/torch.html#torch.topk).\n"
      ]
    },
    {
      "metadata": {
        "id": "-dLyIN6corai",
        "colab_type": "code",
        "colab": {}
      },
      "cell_type": "code",
      "source": [
        "def predict(net, char, h=None, top_k=None):\n",
        "        ''' Given a character, predict the next character.\n",
        "            Returns the predicted character and the hidden state.\n",
        "        '''\n",
        "        \n",
        "        # tensor inputs\n",
        "        x = np.array([[net.char2int[char]]])\n",
        "        x = one_hot_encode(x, len(net.chars))\n",
        "        inputs = torch.from_numpy(x)\n",
        "        \n",
        "        if(train_on_gpu):\n",
        "            inputs = inputs.cuda()\n",
        "        \n",
        "        # detach hidden state from history\n",
        "        h = tuple([each.data for each in h])\n",
        "        # get the output of the model\n",
        "        out, h = net(inputs, h)\n",
        "\n",
        "        # get the character probabilities\n",
        "        p = F.softmax(out, dim=1).data\n",
        "        if(train_on_gpu):\n",
        "            p = p.cpu() # move to cpu\n",
        "        \n",
        "        # get top characters\n",
        "        if top_k is None:\n",
        "            top_ch = np.arange(len(net.chars))\n",
        "        else:\n",
        "            p, top_ch = p.topk(top_k)\n",
        "            top_ch = top_ch.numpy().squeeze()\n",
        "        \n",
        "        # select the likely next character with some element of randomness\n",
        "        p = p.numpy().squeeze()\n",
        "        char = np.random.choice(top_ch, p=p/p.sum())\n",
        "        \n",
        "        # return the encoded value of the predicted char and the hidden state\n",
        "        return net.int2char[char], h"
      ],
      "execution_count": 0,
      "outputs": []
    },
    {
      "metadata": {
        "id": "R7O44J1Zorak",
        "colab_type": "text"
      },
      "cell_type": "markdown",
      "source": [
        "### Priming and generating text \n",
        "\n",
        "Typically you'll want to prime the network so you can build up a hidden state. Otherwise the network will start out generating characters at random. In general the first bunch of characters will be a little rough since it hasn't built up a long history of characters to predict from."
      ]
    },
    {
      "metadata": {
        "id": "o-Ini45_oral",
        "colab_type": "code",
        "colab": {}
      },
      "cell_type": "code",
      "source": [
        "def sample(net, size, prime='The', top_k=None):\n",
        "        \n",
        "    if(train_on_gpu):\n",
        "        net.cuda()\n",
        "    else:\n",
        "        net.cpu()\n",
        "    \n",
        "    net.eval() # eval mode\n",
        "    \n",
        "    # First off, run through the prime characters\n",
        "    chars = [ch for ch in prime]\n",
        "    h = net.init_hidden(1)\n",
        "    for ch in prime:\n",
        "        char, h = predict(net, ch, h, top_k=top_k)\n",
        "\n",
        "    chars.append(char)\n",
        "    \n",
        "    # Now pass in the previous character and get a new one\n",
        "    for ii in range(size):\n",
        "        char, h = predict(net, chars[-1], h, top_k=top_k)\n",
        "        chars.append(char)\n",
        "\n",
        "    return ''.join(chars)"
      ],
      "execution_count": 0,
      "outputs": []
    },
    {
      "metadata": {
        "id": "7UwHieFRoran",
        "colab_type": "code",
        "outputId": "5d2dfe87-9112-4183-e8cf-ba654fee9bbb",
        "colab": {
          "base_uri": "https://localhost:8080/",
          "height": 504
        }
      },
      "cell_type": "code",
      "source": [
        "print(sample(net, 1000, prime='Anna', top_k=5))"
      ],
      "execution_count": 21,
      "outputs": [
        {
          "output_type": "stream",
          "text": [
            "Anna was to bring a song.\n",
            "\n",
            "\"Yes, I am aware to see him, I am\n",
            "always. We've not time. I wanted to take his breath to the children to that in his foreect.\"\n",
            "\n",
            "\"Oh, in the conversation on the peasants, as you will give it for me, to be sorting of the children's alterst. Women, then?\"\n",
            "\n",
            "\"No, I should go in in\n",
            "her\n",
            "eyes,\" said Anna.\n",
            "\n",
            "\"You daughter, there, if he had\n",
            "all did not spool about it? Have you started it,\" said Stepan Arkadyevitch, as he was sitting decining a look\n",
            "of starting tallich.\n",
            "\n",
            "\"And have you\n",
            "bleaded to take me? I do\n",
            "not ask many way.\" The door stood in the rounder of the more\n",
            "that instead, he had seen it, was the first to take the first to\n",
            "but who were thinking of the fact that theyere all his heart\n",
            "seemed to the princess.\n",
            "She had been telling her. But he could not be delighted, he\n",
            "went up to him.\n",
            "\n",
            "She saw that this was the mother's forestances, houring it\n",
            "at the station.\n",
            "\n",
            "\"Yes, but which you know have a misstok,\", and that he was not been in\n",
            "a cellar of the felt of the candle, who \n"
          ],
          "name": "stdout"
        }
      ]
    },
    {
      "metadata": {
        "id": "y8UHxoVaoraq",
        "colab_type": "text"
      },
      "cell_type": "markdown",
      "source": [
        "## Loading a checkpoint"
      ]
    },
    {
      "metadata": {
        "id": "DcYM_Awtoraq",
        "colab_type": "code",
        "colab": {}
      },
      "cell_type": "code",
      "source": [
        "# Here we have loaded in a model that trained over 20 epochs `rnn_20_epoch.net`\n",
        "with open('rnn_x_epoch.net', 'rb') as f:\n",
        "    checkpoint = torch.load(f)\n",
        "    \n",
        "loaded = CharRNN(checkpoint['tokens'], n_hidden=checkpoint['n_hidden'], n_layers=checkpoint['n_layers'])\n",
        "loaded.load_state_dict(checkpoint['state_dict'])"
      ],
      "execution_count": 0,
      "outputs": []
    },
    {
      "metadata": {
        "id": "zwjw0r1Zorau",
        "colab_type": "code",
        "outputId": "2ce6c541-1984-4599-d5b9-e24d7803dd29",
        "colab": {
          "base_uri": "https://localhost:8080/",
          "height": 675
        }
      },
      "cell_type": "code",
      "source": [
        "# Sample using a loaded model\n",
        "print(sample(loaded, 2000, top_k=5, prime=\"And Levin said\"))"
      ],
      "execution_count": 23,
      "outputs": [
        {
          "output_type": "stream",
          "text": [
            "And Levin said to her sisters, and\n",
            "the parents would be delighted.\n",
            "\n",
            "The people of the princess was not in that sound of her sinsious and a long while, the face.\n",
            "\n",
            "\"The dry son, and thinking more for me...\" She would have\n",
            "became to say\n",
            "that she was stopping, as she had tried to\n",
            "go on that the conversation to the soft shoulders. And as he could not bree,\n",
            "he had to break himself. She would not get off and servous of them.\n",
            "\n",
            "Sergey Ivanovitch\n",
            "with her stirl smiled to the strain, and he came to the station.\n",
            "\n",
            "\"I am going it of them,\" said Stepan Arkadyevitch, \"and you've been so called to the prince,\" she said, lifting the study of the position of the carriage. He was so that he\n",
            "saw all that several sense of these woman who had a stream of the same mad had sent to her. And when there was a great stangit in a lady, was\n",
            "not become that they could not tell me, and she had said. She saw, was so so as to get on for her. There was all her eyes. He went to her.\n",
            "\n",
            "\"That is in the position?\" he said to herself.\n",
            "\n",
            "\"I have said and sently. And the called will be so let to take her.\n",
            "But I can see him.\"\n",
            "\n",
            "\"Oh, is a man and the difference of the confession was an activy set of making my candles with a monty wondending the people with my strungs, and with him.\"\n",
            "\n",
            "After a mare-to have been done with the provancisoos of these, and\n",
            "an instant which she drawn to be so asking anything to the carriage with spirit, and all of a faint as such a man, was that had been dressed to say, with a point, and had been conterpation with his bruttle. She was at once had standed. The princess said, with the fresh state of\n",
            "her steps\n",
            "she saw nothing of the\n",
            "days.\n",
            "\n",
            "His father was the same subject. He saw that his soul and alone, without such an answer and who was almest answers to a sensial as that the child she said the\n",
            "plans, which was the fraend traces\n",
            "and service, seemed talking of himself in the coar, and\n",
            "was taken out of the station over his\n",
            "shade works, and her face\n",
            "was an instant, and\n",
            "she was the portres. Her love to him, \n"
          ],
          "name": "stdout"
        }
      ]
    },
    {
      "metadata": {
        "id": "vR6b91PVoraw",
        "colab_type": "code",
        "colab": {}
      },
      "cell_type": "code",
      "source": [
        ""
      ],
      "execution_count": 0,
      "outputs": []
    }
  ]
}